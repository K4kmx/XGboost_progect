{
  "cells": [
    {
      "cell_type": "markdown",
      "metadata": {
        "id": "ZxKQ5huRyoDc"
      },
      "source": [
        "## Подготовка данных"
      ]
    },
    {
      "cell_type": "code",
      "source": [
        "!pip install catboost"
      ],
      "metadata": {
        "colab": {
          "base_uri": "https://localhost:8080/"
        },
        "id": "3BajjoGBz1I8",
        "outputId": "14cea828-c1b1-4f91-c5cb-8d4ad11fbe68"
      },
      "execution_count": 4,
      "outputs": [
        {
          "output_type": "stream",
          "name": "stdout",
          "text": [
            "Requirement already satisfied: catboost in /usr/local/lib/python3.10/dist-packages (1.2.2)\n",
            "Requirement already satisfied: graphviz in /usr/local/lib/python3.10/dist-packages (from catboost) (0.20.1)\n",
            "Requirement already satisfied: matplotlib in /usr/local/lib/python3.10/dist-packages (from catboost) (3.7.1)\n",
            "Requirement already satisfied: numpy>=1.16.0 in /usr/local/lib/python3.10/dist-packages (from catboost) (1.23.5)\n",
            "Requirement already satisfied: pandas>=0.24 in /usr/local/lib/python3.10/dist-packages (from catboost) (1.5.3)\n",
            "Requirement already satisfied: scipy in /usr/local/lib/python3.10/dist-packages (from catboost) (1.11.4)\n",
            "Requirement already satisfied: plotly in /usr/local/lib/python3.10/dist-packages (from catboost) (5.15.0)\n",
            "Requirement already satisfied: six in /usr/local/lib/python3.10/dist-packages (from catboost) (1.16.0)\n",
            "Requirement already satisfied: python-dateutil>=2.8.1 in /usr/local/lib/python3.10/dist-packages (from pandas>=0.24->catboost) (2.8.2)\n",
            "Requirement already satisfied: pytz>=2020.1 in /usr/local/lib/python3.10/dist-packages (from pandas>=0.24->catboost) (2023.3.post1)\n",
            "Requirement already satisfied: contourpy>=1.0.1 in /usr/local/lib/python3.10/dist-packages (from matplotlib->catboost) (1.2.0)\n",
            "Requirement already satisfied: cycler>=0.10 in /usr/local/lib/python3.10/dist-packages (from matplotlib->catboost) (0.12.1)\n",
            "Requirement already satisfied: fonttools>=4.22.0 in /usr/local/lib/python3.10/dist-packages (from matplotlib->catboost) (4.47.0)\n",
            "Requirement already satisfied: kiwisolver>=1.0.1 in /usr/local/lib/python3.10/dist-packages (from matplotlib->catboost) (1.4.5)\n",
            "Requirement already satisfied: packaging>=20.0 in /usr/local/lib/python3.10/dist-packages (from matplotlib->catboost) (23.2)\n",
            "Requirement already satisfied: pillow>=6.2.0 in /usr/local/lib/python3.10/dist-packages (from matplotlib->catboost) (9.4.0)\n",
            "Requirement already satisfied: pyparsing>=2.3.1 in /usr/local/lib/python3.10/dist-packages (from matplotlib->catboost) (3.1.1)\n",
            "Requirement already satisfied: tenacity>=6.2.0 in /usr/local/lib/python3.10/dist-packages (from plotly->catboost) (8.2.3)\n"
          ]
        }
      ]
    },
    {
      "cell_type": "code",
      "execution_count": 5,
      "metadata": {
        "id": "JO9v8jilyoDc"
      },
      "outputs": [],
      "source": [
        "import numpy as np\n",
        "import pandas as pd\n",
        "import IPython\n",
        "from IPython.display import display\n",
        "import re\n",
        "import random\n",
        "import warnings\n",
        "warnings.simplefilter('ignore')\n",
        "import calendar\n",
        "\n",
        "\n",
        "import seaborn as sns\n",
        "import matplotlib.pyplot as plt\n",
        "import plotly.graph_objects as go\n",
        "import plotly.express as px\n",
        "\n",
        "\n",
        "from sklearn.metrics import SCORERS\n",
        "from sklearn.metrics import mean_squared_error, r2_score, mean_absolute_error, make_scorer\n",
        "from sklearn.model_selection import train_test_split, cross_val_score, GridSearchCV, RandomizedSearchCV, KFold\n",
        "from sklearn.pipeline import Pipeline, make_pipeline\n",
        "from sklearn.preprocessing import StandardScaler, MinMaxScaler, OneHotEncoder, PolynomialFeatures\n",
        "from sklearn.utils import shuffle, resample\n",
        "\n",
        "\n",
        "from sklearn.dummy import DummyRegressor\n",
        "from sklearn.ensemble import GradientBoostingRegressor\n",
        "from catboost import CatBoostRegressor, Pool\n",
        "import xgboost as xgb\n",
        "import lightgbm as lgb"
      ]
    },
    {
      "cell_type": "markdown",
      "metadata": {
        "id": "sL5Pr2LeyoDd"
      },
      "source": [
        "1. Загружаю всё необходимое для проекта.\n",
        "2. Исследую датафрейм."
      ]
    },
    {
      "cell_type": "code",
      "execution_count": 6,
      "metadata": {
        "id": "n2YVKV70yoDe"
      },
      "outputs": [],
      "source": [
        "df = pd.read_csv('/content/sample_data/autos.csv')"
      ]
    },
    {
      "cell_type": "code",
      "execution_count": 7,
      "metadata": {
        "colab": {
          "base_uri": "https://localhost:8080/"
        },
        "id": "YvNJsSBPyoDe",
        "outputId": "fe85dea8-802c-46bb-8123-d25bc09609dd"
      },
      "outputs": [
        {
          "output_type": "stream",
          "name": "stdout",
          "text": [
            "<class 'pandas.core.frame.DataFrame'>\n",
            "RangeIndex: 354369 entries, 0 to 354368\n",
            "Data columns (total 16 columns):\n",
            " #   Column             Non-Null Count   Dtype \n",
            "---  ------             --------------   ----- \n",
            " 0   DateCrawled        354369 non-null  object\n",
            " 1   Price              354369 non-null  int64 \n",
            " 2   VehicleType        316879 non-null  object\n",
            " 3   RegistrationYear   354369 non-null  int64 \n",
            " 4   Gearbox            334536 non-null  object\n",
            " 5   Power              354369 non-null  int64 \n",
            " 6   Model              334664 non-null  object\n",
            " 7   Kilometer          354369 non-null  int64 \n",
            " 8   RegistrationMonth  354369 non-null  int64 \n",
            " 9   FuelType           321474 non-null  object\n",
            " 10  Brand              354369 non-null  object\n",
            " 11  Repaired           283215 non-null  object\n",
            " 12  DateCreated        354369 non-null  object\n",
            " 13  NumberOfPictures   354369 non-null  int64 \n",
            " 14  PostalCode         354369 non-null  int64 \n",
            " 15  LastSeen           354369 non-null  object\n",
            "dtypes: int64(7), object(9)\n",
            "memory usage: 43.3+ MB\n"
          ]
        }
      ],
      "source": [
        "df.info()"
      ]
    },
    {
      "cell_type": "code",
      "execution_count": 8,
      "metadata": {
        "colab": {
          "base_uri": "https://localhost:8080/",
          "height": 206
        },
        "id": "B-A8Wc9DyoDf",
        "outputId": "2dafd45c-4e58-4679-eb3f-1bc1de43bcef"
      },
      "outputs": [
        {
          "output_type": "execute_result",
          "data": {
            "text/plain": [
              "           DateCrawled  Price VehicleType  RegistrationYear Gearbox  Power  \\\n",
              "0  2016-03-24 11:52:17    480         NaN              1993  manual      0   \n",
              "1  2016-03-24 10:58:45  18300       coupe              2011  manual    190   \n",
              "2  2016-03-14 12:52:21   9800         suv              2004    auto    163   \n",
              "3  2016-03-17 16:54:04   1500       small              2001  manual     75   \n",
              "4  2016-03-31 17:25:20   3600       small              2008  manual     69   \n",
              "\n",
              "   Model  Kilometer  RegistrationMonth  FuelType       Brand Repaired  \\\n",
              "0   golf     150000                  0    petrol  volkswagen      NaN   \n",
              "1    NaN     125000                  5  gasoline        audi      yes   \n",
              "2  grand     125000                  8  gasoline        jeep      NaN   \n",
              "3   golf     150000                  6    petrol  volkswagen       no   \n",
              "4  fabia      90000                  7  gasoline       skoda       no   \n",
              "\n",
              "           DateCreated  NumberOfPictures  PostalCode             LastSeen  \n",
              "0  2016-03-24 00:00:00                 0       70435  2016-04-07 03:16:57  \n",
              "1  2016-03-24 00:00:00                 0       66954  2016-04-07 01:46:50  \n",
              "2  2016-03-14 00:00:00                 0       90480  2016-04-05 12:47:46  \n",
              "3  2016-03-17 00:00:00                 0       91074  2016-03-17 17:40:17  \n",
              "4  2016-03-31 00:00:00                 0       60437  2016-04-06 10:17:21  "
            ],
            "text/html": [
              "\n",
              "  <div id=\"df-8c35155e-bc06-480e-b045-50d23367758b\" class=\"colab-df-container\">\n",
              "    <div>\n",
              "<style scoped>\n",
              "    .dataframe tbody tr th:only-of-type {\n",
              "        vertical-align: middle;\n",
              "    }\n",
              "\n",
              "    .dataframe tbody tr th {\n",
              "        vertical-align: top;\n",
              "    }\n",
              "\n",
              "    .dataframe thead th {\n",
              "        text-align: right;\n",
              "    }\n",
              "</style>\n",
              "<table border=\"1\" class=\"dataframe\">\n",
              "  <thead>\n",
              "    <tr style=\"text-align: right;\">\n",
              "      <th></th>\n",
              "      <th>DateCrawled</th>\n",
              "      <th>Price</th>\n",
              "      <th>VehicleType</th>\n",
              "      <th>RegistrationYear</th>\n",
              "      <th>Gearbox</th>\n",
              "      <th>Power</th>\n",
              "      <th>Model</th>\n",
              "      <th>Kilometer</th>\n",
              "      <th>RegistrationMonth</th>\n",
              "      <th>FuelType</th>\n",
              "      <th>Brand</th>\n",
              "      <th>Repaired</th>\n",
              "      <th>DateCreated</th>\n",
              "      <th>NumberOfPictures</th>\n",
              "      <th>PostalCode</th>\n",
              "      <th>LastSeen</th>\n",
              "    </tr>\n",
              "  </thead>\n",
              "  <tbody>\n",
              "    <tr>\n",
              "      <th>0</th>\n",
              "      <td>2016-03-24 11:52:17</td>\n",
              "      <td>480</td>\n",
              "      <td>NaN</td>\n",
              "      <td>1993</td>\n",
              "      <td>manual</td>\n",
              "      <td>0</td>\n",
              "      <td>golf</td>\n",
              "      <td>150000</td>\n",
              "      <td>0</td>\n",
              "      <td>petrol</td>\n",
              "      <td>volkswagen</td>\n",
              "      <td>NaN</td>\n",
              "      <td>2016-03-24 00:00:00</td>\n",
              "      <td>0</td>\n",
              "      <td>70435</td>\n",
              "      <td>2016-04-07 03:16:57</td>\n",
              "    </tr>\n",
              "    <tr>\n",
              "      <th>1</th>\n",
              "      <td>2016-03-24 10:58:45</td>\n",
              "      <td>18300</td>\n",
              "      <td>coupe</td>\n",
              "      <td>2011</td>\n",
              "      <td>manual</td>\n",
              "      <td>190</td>\n",
              "      <td>NaN</td>\n",
              "      <td>125000</td>\n",
              "      <td>5</td>\n",
              "      <td>gasoline</td>\n",
              "      <td>audi</td>\n",
              "      <td>yes</td>\n",
              "      <td>2016-03-24 00:00:00</td>\n",
              "      <td>0</td>\n",
              "      <td>66954</td>\n",
              "      <td>2016-04-07 01:46:50</td>\n",
              "    </tr>\n",
              "    <tr>\n",
              "      <th>2</th>\n",
              "      <td>2016-03-14 12:52:21</td>\n",
              "      <td>9800</td>\n",
              "      <td>suv</td>\n",
              "      <td>2004</td>\n",
              "      <td>auto</td>\n",
              "      <td>163</td>\n",
              "      <td>grand</td>\n",
              "      <td>125000</td>\n",
              "      <td>8</td>\n",
              "      <td>gasoline</td>\n",
              "      <td>jeep</td>\n",
              "      <td>NaN</td>\n",
              "      <td>2016-03-14 00:00:00</td>\n",
              "      <td>0</td>\n",
              "      <td>90480</td>\n",
              "      <td>2016-04-05 12:47:46</td>\n",
              "    </tr>\n",
              "    <tr>\n",
              "      <th>3</th>\n",
              "      <td>2016-03-17 16:54:04</td>\n",
              "      <td>1500</td>\n",
              "      <td>small</td>\n",
              "      <td>2001</td>\n",
              "      <td>manual</td>\n",
              "      <td>75</td>\n",
              "      <td>golf</td>\n",
              "      <td>150000</td>\n",
              "      <td>6</td>\n",
              "      <td>petrol</td>\n",
              "      <td>volkswagen</td>\n",
              "      <td>no</td>\n",
              "      <td>2016-03-17 00:00:00</td>\n",
              "      <td>0</td>\n",
              "      <td>91074</td>\n",
              "      <td>2016-03-17 17:40:17</td>\n",
              "    </tr>\n",
              "    <tr>\n",
              "      <th>4</th>\n",
              "      <td>2016-03-31 17:25:20</td>\n",
              "      <td>3600</td>\n",
              "      <td>small</td>\n",
              "      <td>2008</td>\n",
              "      <td>manual</td>\n",
              "      <td>69</td>\n",
              "      <td>fabia</td>\n",
              "      <td>90000</td>\n",
              "      <td>7</td>\n",
              "      <td>gasoline</td>\n",
              "      <td>skoda</td>\n",
              "      <td>no</td>\n",
              "      <td>2016-03-31 00:00:00</td>\n",
              "      <td>0</td>\n",
              "      <td>60437</td>\n",
              "      <td>2016-04-06 10:17:21</td>\n",
              "    </tr>\n",
              "  </tbody>\n",
              "</table>\n",
              "</div>\n",
              "    <div class=\"colab-df-buttons\">\n",
              "\n",
              "  <div class=\"colab-df-container\">\n",
              "    <button class=\"colab-df-convert\" onclick=\"convertToInteractive('df-8c35155e-bc06-480e-b045-50d23367758b')\"\n",
              "            title=\"Convert this dataframe to an interactive table.\"\n",
              "            style=\"display:none;\">\n",
              "\n",
              "  <svg xmlns=\"http://www.w3.org/2000/svg\" height=\"24px\" viewBox=\"0 -960 960 960\">\n",
              "    <path d=\"M120-120v-720h720v720H120Zm60-500h600v-160H180v160Zm220 220h160v-160H400v160Zm0 220h160v-160H400v160ZM180-400h160v-160H180v160Zm440 0h160v-160H620v160ZM180-180h160v-160H180v160Zm440 0h160v-160H620v160Z\"/>\n",
              "  </svg>\n",
              "    </button>\n",
              "\n",
              "  <style>\n",
              "    .colab-df-container {\n",
              "      display:flex;\n",
              "      gap: 12px;\n",
              "    }\n",
              "\n",
              "    .colab-df-convert {\n",
              "      background-color: #E8F0FE;\n",
              "      border: none;\n",
              "      border-radius: 50%;\n",
              "      cursor: pointer;\n",
              "      display: none;\n",
              "      fill: #1967D2;\n",
              "      height: 32px;\n",
              "      padding: 0 0 0 0;\n",
              "      width: 32px;\n",
              "    }\n",
              "\n",
              "    .colab-df-convert:hover {\n",
              "      background-color: #E2EBFA;\n",
              "      box-shadow: 0px 1px 2px rgba(60, 64, 67, 0.3), 0px 1px 3px 1px rgba(60, 64, 67, 0.15);\n",
              "      fill: #174EA6;\n",
              "    }\n",
              "\n",
              "    .colab-df-buttons div {\n",
              "      margin-bottom: 4px;\n",
              "    }\n",
              "\n",
              "    [theme=dark] .colab-df-convert {\n",
              "      background-color: #3B4455;\n",
              "      fill: #D2E3FC;\n",
              "    }\n",
              "\n",
              "    [theme=dark] .colab-df-convert:hover {\n",
              "      background-color: #434B5C;\n",
              "      box-shadow: 0px 1px 3px 1px rgba(0, 0, 0, 0.15);\n",
              "      filter: drop-shadow(0px 1px 2px rgba(0, 0, 0, 0.3));\n",
              "      fill: #FFFFFF;\n",
              "    }\n",
              "  </style>\n",
              "\n",
              "    <script>\n",
              "      const buttonEl =\n",
              "        document.querySelector('#df-8c35155e-bc06-480e-b045-50d23367758b button.colab-df-convert');\n",
              "      buttonEl.style.display =\n",
              "        google.colab.kernel.accessAllowed ? 'block' : 'none';\n",
              "\n",
              "      async function convertToInteractive(key) {\n",
              "        const element = document.querySelector('#df-8c35155e-bc06-480e-b045-50d23367758b');\n",
              "        const dataTable =\n",
              "          await google.colab.kernel.invokeFunction('convertToInteractive',\n",
              "                                                    [key], {});\n",
              "        if (!dataTable) return;\n",
              "\n",
              "        const docLinkHtml = 'Like what you see? Visit the ' +\n",
              "          '<a target=\"_blank\" href=https://colab.research.google.com/notebooks/data_table.ipynb>data table notebook</a>'\n",
              "          + ' to learn more about interactive tables.';\n",
              "        element.innerHTML = '';\n",
              "        dataTable['output_type'] = 'display_data';\n",
              "        await google.colab.output.renderOutput(dataTable, element);\n",
              "        const docLink = document.createElement('div');\n",
              "        docLink.innerHTML = docLinkHtml;\n",
              "        element.appendChild(docLink);\n",
              "      }\n",
              "    </script>\n",
              "  </div>\n",
              "\n",
              "\n",
              "<div id=\"df-d153cdc2-0429-4784-95cf-40df20544083\">\n",
              "  <button class=\"colab-df-quickchart\" onclick=\"quickchart('df-d153cdc2-0429-4784-95cf-40df20544083')\"\n",
              "            title=\"Suggest charts\"\n",
              "            style=\"display:none;\">\n",
              "\n",
              "<svg xmlns=\"http://www.w3.org/2000/svg\" height=\"24px\"viewBox=\"0 0 24 24\"\n",
              "     width=\"24px\">\n",
              "    <g>\n",
              "        <path d=\"M19 3H5c-1.1 0-2 .9-2 2v14c0 1.1.9 2 2 2h14c1.1 0 2-.9 2-2V5c0-1.1-.9-2-2-2zM9 17H7v-7h2v7zm4 0h-2V7h2v10zm4 0h-2v-4h2v4z\"/>\n",
              "    </g>\n",
              "</svg>\n",
              "  </button>\n",
              "\n",
              "<style>\n",
              "  .colab-df-quickchart {\n",
              "      --bg-color: #E8F0FE;\n",
              "      --fill-color: #1967D2;\n",
              "      --hover-bg-color: #E2EBFA;\n",
              "      --hover-fill-color: #174EA6;\n",
              "      --disabled-fill-color: #AAA;\n",
              "      --disabled-bg-color: #DDD;\n",
              "  }\n",
              "\n",
              "  [theme=dark] .colab-df-quickchart {\n",
              "      --bg-color: #3B4455;\n",
              "      --fill-color: #D2E3FC;\n",
              "      --hover-bg-color: #434B5C;\n",
              "      --hover-fill-color: #FFFFFF;\n",
              "      --disabled-bg-color: #3B4455;\n",
              "      --disabled-fill-color: #666;\n",
              "  }\n",
              "\n",
              "  .colab-df-quickchart {\n",
              "    background-color: var(--bg-color);\n",
              "    border: none;\n",
              "    border-radius: 50%;\n",
              "    cursor: pointer;\n",
              "    display: none;\n",
              "    fill: var(--fill-color);\n",
              "    height: 32px;\n",
              "    padding: 0;\n",
              "    width: 32px;\n",
              "  }\n",
              "\n",
              "  .colab-df-quickchart:hover {\n",
              "    background-color: var(--hover-bg-color);\n",
              "    box-shadow: 0 1px 2px rgba(60, 64, 67, 0.3), 0 1px 3px 1px rgba(60, 64, 67, 0.15);\n",
              "    fill: var(--button-hover-fill-color);\n",
              "  }\n",
              "\n",
              "  .colab-df-quickchart-complete:disabled,\n",
              "  .colab-df-quickchart-complete:disabled:hover {\n",
              "    background-color: var(--disabled-bg-color);\n",
              "    fill: var(--disabled-fill-color);\n",
              "    box-shadow: none;\n",
              "  }\n",
              "\n",
              "  .colab-df-spinner {\n",
              "    border: 2px solid var(--fill-color);\n",
              "    border-color: transparent;\n",
              "    border-bottom-color: var(--fill-color);\n",
              "    animation:\n",
              "      spin 1s steps(1) infinite;\n",
              "  }\n",
              "\n",
              "  @keyframes spin {\n",
              "    0% {\n",
              "      border-color: transparent;\n",
              "      border-bottom-color: var(--fill-color);\n",
              "      border-left-color: var(--fill-color);\n",
              "    }\n",
              "    20% {\n",
              "      border-color: transparent;\n",
              "      border-left-color: var(--fill-color);\n",
              "      border-top-color: var(--fill-color);\n",
              "    }\n",
              "    30% {\n",
              "      border-color: transparent;\n",
              "      border-left-color: var(--fill-color);\n",
              "      border-top-color: var(--fill-color);\n",
              "      border-right-color: var(--fill-color);\n",
              "    }\n",
              "    40% {\n",
              "      border-color: transparent;\n",
              "      border-right-color: var(--fill-color);\n",
              "      border-top-color: var(--fill-color);\n",
              "    }\n",
              "    60% {\n",
              "      border-color: transparent;\n",
              "      border-right-color: var(--fill-color);\n",
              "    }\n",
              "    80% {\n",
              "      border-color: transparent;\n",
              "      border-right-color: var(--fill-color);\n",
              "      border-bottom-color: var(--fill-color);\n",
              "    }\n",
              "    90% {\n",
              "      border-color: transparent;\n",
              "      border-bottom-color: var(--fill-color);\n",
              "    }\n",
              "  }\n",
              "</style>\n",
              "\n",
              "  <script>\n",
              "    async function quickchart(key) {\n",
              "      const quickchartButtonEl =\n",
              "        document.querySelector('#' + key + ' button');\n",
              "      quickchartButtonEl.disabled = true;  // To prevent multiple clicks.\n",
              "      quickchartButtonEl.classList.add('colab-df-spinner');\n",
              "      try {\n",
              "        const charts = await google.colab.kernel.invokeFunction(\n",
              "            'suggestCharts', [key], {});\n",
              "      } catch (error) {\n",
              "        console.error('Error during call to suggestCharts:', error);\n",
              "      }\n",
              "      quickchartButtonEl.classList.remove('colab-df-spinner');\n",
              "      quickchartButtonEl.classList.add('colab-df-quickchart-complete');\n",
              "    }\n",
              "    (() => {\n",
              "      let quickchartButtonEl =\n",
              "        document.querySelector('#df-d153cdc2-0429-4784-95cf-40df20544083 button');\n",
              "      quickchartButtonEl.style.display =\n",
              "        google.colab.kernel.accessAllowed ? 'block' : 'none';\n",
              "    })();\n",
              "  </script>\n",
              "</div>\n",
              "    </div>\n",
              "  </div>\n"
            ]
          },
          "metadata": {},
          "execution_count": 8
        }
      ],
      "source": [
        "df.head()"
      ]
    },
    {
      "cell_type": "markdown",
      "metadata": {
        "id": "h_rCA9w1yoDg"
      },
      "source": [
        "**Итоги \"первого взгляда\":**\n",
        "\n",
        "1. Есть пропущенные значения.\n",
        "2. Дата создания и скачивания объявления, дата последнего визита пользователя, месяц регистрации и почтовый индекс скорее всего не пригодятся для исследований.\n",
        "3. Большая часть признаков - категориальные. Из количественных - пройденный километраж, мощность двигателя. и скорее всего год регистрации."
      ]
    },
    {
      "cell_type": "code",
      "execution_count": 9,
      "metadata": {
        "colab": {
          "base_uri": "https://localhost:8080/",
          "height": 300
        },
        "id": "4EG--XE5yoDg",
        "outputId": "07c29122-61ce-464b-dad3-679214dfd6a0"
      },
      "outputs": [
        {
          "output_type": "execute_result",
          "data": {
            "text/plain": [
              "               Price  RegistrationYear          Power      Kilometer  \\\n",
              "count  354369.000000     354369.000000  354369.000000  354369.000000   \n",
              "mean     4416.656776       2004.234448     110.094337  128211.172535   \n",
              "std      4514.158514         90.227958     189.850405   37905.341530   \n",
              "min         0.000000       1000.000000       0.000000    5000.000000   \n",
              "25%      1050.000000       1999.000000      69.000000  125000.000000   \n",
              "50%      2700.000000       2003.000000     105.000000  150000.000000   \n",
              "75%      6400.000000       2008.000000     143.000000  150000.000000   \n",
              "max     20000.000000       9999.000000   20000.000000  150000.000000   \n",
              "\n",
              "       RegistrationMonth  NumberOfPictures     PostalCode  \n",
              "count      354369.000000          354369.0  354369.000000  \n",
              "mean            5.714645               0.0   50508.689087  \n",
              "std             3.726421               0.0   25783.096248  \n",
              "min             0.000000               0.0    1067.000000  \n",
              "25%             3.000000               0.0   30165.000000  \n",
              "50%             6.000000               0.0   49413.000000  \n",
              "75%             9.000000               0.0   71083.000000  \n",
              "max            12.000000               0.0   99998.000000  "
            ],
            "text/html": [
              "\n",
              "  <div id=\"df-f133c4dc-8cdd-4903-9924-284029375426\" class=\"colab-df-container\">\n",
              "    <div>\n",
              "<style scoped>\n",
              "    .dataframe tbody tr th:only-of-type {\n",
              "        vertical-align: middle;\n",
              "    }\n",
              "\n",
              "    .dataframe tbody tr th {\n",
              "        vertical-align: top;\n",
              "    }\n",
              "\n",
              "    .dataframe thead th {\n",
              "        text-align: right;\n",
              "    }\n",
              "</style>\n",
              "<table border=\"1\" class=\"dataframe\">\n",
              "  <thead>\n",
              "    <tr style=\"text-align: right;\">\n",
              "      <th></th>\n",
              "      <th>Price</th>\n",
              "      <th>RegistrationYear</th>\n",
              "      <th>Power</th>\n",
              "      <th>Kilometer</th>\n",
              "      <th>RegistrationMonth</th>\n",
              "      <th>NumberOfPictures</th>\n",
              "      <th>PostalCode</th>\n",
              "    </tr>\n",
              "  </thead>\n",
              "  <tbody>\n",
              "    <tr>\n",
              "      <th>count</th>\n",
              "      <td>354369.000000</td>\n",
              "      <td>354369.000000</td>\n",
              "      <td>354369.000000</td>\n",
              "      <td>354369.000000</td>\n",
              "      <td>354369.000000</td>\n",
              "      <td>354369.0</td>\n",
              "      <td>354369.000000</td>\n",
              "    </tr>\n",
              "    <tr>\n",
              "      <th>mean</th>\n",
              "      <td>4416.656776</td>\n",
              "      <td>2004.234448</td>\n",
              "      <td>110.094337</td>\n",
              "      <td>128211.172535</td>\n",
              "      <td>5.714645</td>\n",
              "      <td>0.0</td>\n",
              "      <td>50508.689087</td>\n",
              "    </tr>\n",
              "    <tr>\n",
              "      <th>std</th>\n",
              "      <td>4514.158514</td>\n",
              "      <td>90.227958</td>\n",
              "      <td>189.850405</td>\n",
              "      <td>37905.341530</td>\n",
              "      <td>3.726421</td>\n",
              "      <td>0.0</td>\n",
              "      <td>25783.096248</td>\n",
              "    </tr>\n",
              "    <tr>\n",
              "      <th>min</th>\n",
              "      <td>0.000000</td>\n",
              "      <td>1000.000000</td>\n",
              "      <td>0.000000</td>\n",
              "      <td>5000.000000</td>\n",
              "      <td>0.000000</td>\n",
              "      <td>0.0</td>\n",
              "      <td>1067.000000</td>\n",
              "    </tr>\n",
              "    <tr>\n",
              "      <th>25%</th>\n",
              "      <td>1050.000000</td>\n",
              "      <td>1999.000000</td>\n",
              "      <td>69.000000</td>\n",
              "      <td>125000.000000</td>\n",
              "      <td>3.000000</td>\n",
              "      <td>0.0</td>\n",
              "      <td>30165.000000</td>\n",
              "    </tr>\n",
              "    <tr>\n",
              "      <th>50%</th>\n",
              "      <td>2700.000000</td>\n",
              "      <td>2003.000000</td>\n",
              "      <td>105.000000</td>\n",
              "      <td>150000.000000</td>\n",
              "      <td>6.000000</td>\n",
              "      <td>0.0</td>\n",
              "      <td>49413.000000</td>\n",
              "    </tr>\n",
              "    <tr>\n",
              "      <th>75%</th>\n",
              "      <td>6400.000000</td>\n",
              "      <td>2008.000000</td>\n",
              "      <td>143.000000</td>\n",
              "      <td>150000.000000</td>\n",
              "      <td>9.000000</td>\n",
              "      <td>0.0</td>\n",
              "      <td>71083.000000</td>\n",
              "    </tr>\n",
              "    <tr>\n",
              "      <th>max</th>\n",
              "      <td>20000.000000</td>\n",
              "      <td>9999.000000</td>\n",
              "      <td>20000.000000</td>\n",
              "      <td>150000.000000</td>\n",
              "      <td>12.000000</td>\n",
              "      <td>0.0</td>\n",
              "      <td>99998.000000</td>\n",
              "    </tr>\n",
              "  </tbody>\n",
              "</table>\n",
              "</div>\n",
              "    <div class=\"colab-df-buttons\">\n",
              "\n",
              "  <div class=\"colab-df-container\">\n",
              "    <button class=\"colab-df-convert\" onclick=\"convertToInteractive('df-f133c4dc-8cdd-4903-9924-284029375426')\"\n",
              "            title=\"Convert this dataframe to an interactive table.\"\n",
              "            style=\"display:none;\">\n",
              "\n",
              "  <svg xmlns=\"http://www.w3.org/2000/svg\" height=\"24px\" viewBox=\"0 -960 960 960\">\n",
              "    <path d=\"M120-120v-720h720v720H120Zm60-500h600v-160H180v160Zm220 220h160v-160H400v160Zm0 220h160v-160H400v160ZM180-400h160v-160H180v160Zm440 0h160v-160H620v160ZM180-180h160v-160H180v160Zm440 0h160v-160H620v160Z\"/>\n",
              "  </svg>\n",
              "    </button>\n",
              "\n",
              "  <style>\n",
              "    .colab-df-container {\n",
              "      display:flex;\n",
              "      gap: 12px;\n",
              "    }\n",
              "\n",
              "    .colab-df-convert {\n",
              "      background-color: #E8F0FE;\n",
              "      border: none;\n",
              "      border-radius: 50%;\n",
              "      cursor: pointer;\n",
              "      display: none;\n",
              "      fill: #1967D2;\n",
              "      height: 32px;\n",
              "      padding: 0 0 0 0;\n",
              "      width: 32px;\n",
              "    }\n",
              "\n",
              "    .colab-df-convert:hover {\n",
              "      background-color: #E2EBFA;\n",
              "      box-shadow: 0px 1px 2px rgba(60, 64, 67, 0.3), 0px 1px 3px 1px rgba(60, 64, 67, 0.15);\n",
              "      fill: #174EA6;\n",
              "    }\n",
              "\n",
              "    .colab-df-buttons div {\n",
              "      margin-bottom: 4px;\n",
              "    }\n",
              "\n",
              "    [theme=dark] .colab-df-convert {\n",
              "      background-color: #3B4455;\n",
              "      fill: #D2E3FC;\n",
              "    }\n",
              "\n",
              "    [theme=dark] .colab-df-convert:hover {\n",
              "      background-color: #434B5C;\n",
              "      box-shadow: 0px 1px 3px 1px rgba(0, 0, 0, 0.15);\n",
              "      filter: drop-shadow(0px 1px 2px rgba(0, 0, 0, 0.3));\n",
              "      fill: #FFFFFF;\n",
              "    }\n",
              "  </style>\n",
              "\n",
              "    <script>\n",
              "      const buttonEl =\n",
              "        document.querySelector('#df-f133c4dc-8cdd-4903-9924-284029375426 button.colab-df-convert');\n",
              "      buttonEl.style.display =\n",
              "        google.colab.kernel.accessAllowed ? 'block' : 'none';\n",
              "\n",
              "      async function convertToInteractive(key) {\n",
              "        const element = document.querySelector('#df-f133c4dc-8cdd-4903-9924-284029375426');\n",
              "        const dataTable =\n",
              "          await google.colab.kernel.invokeFunction('convertToInteractive',\n",
              "                                                    [key], {});\n",
              "        if (!dataTable) return;\n",
              "\n",
              "        const docLinkHtml = 'Like what you see? Visit the ' +\n",
              "          '<a target=\"_blank\" href=https://colab.research.google.com/notebooks/data_table.ipynb>data table notebook</a>'\n",
              "          + ' to learn more about interactive tables.';\n",
              "        element.innerHTML = '';\n",
              "        dataTable['output_type'] = 'display_data';\n",
              "        await google.colab.output.renderOutput(dataTable, element);\n",
              "        const docLink = document.createElement('div');\n",
              "        docLink.innerHTML = docLinkHtml;\n",
              "        element.appendChild(docLink);\n",
              "      }\n",
              "    </script>\n",
              "  </div>\n",
              "\n",
              "\n",
              "<div id=\"df-ac1abff6-6d83-4b38-9bf1-cbd5a3ff68e1\">\n",
              "  <button class=\"colab-df-quickchart\" onclick=\"quickchart('df-ac1abff6-6d83-4b38-9bf1-cbd5a3ff68e1')\"\n",
              "            title=\"Suggest charts\"\n",
              "            style=\"display:none;\">\n",
              "\n",
              "<svg xmlns=\"http://www.w3.org/2000/svg\" height=\"24px\"viewBox=\"0 0 24 24\"\n",
              "     width=\"24px\">\n",
              "    <g>\n",
              "        <path d=\"M19 3H5c-1.1 0-2 .9-2 2v14c0 1.1.9 2 2 2h14c1.1 0 2-.9 2-2V5c0-1.1-.9-2-2-2zM9 17H7v-7h2v7zm4 0h-2V7h2v10zm4 0h-2v-4h2v4z\"/>\n",
              "    </g>\n",
              "</svg>\n",
              "  </button>\n",
              "\n",
              "<style>\n",
              "  .colab-df-quickchart {\n",
              "      --bg-color: #E8F0FE;\n",
              "      --fill-color: #1967D2;\n",
              "      --hover-bg-color: #E2EBFA;\n",
              "      --hover-fill-color: #174EA6;\n",
              "      --disabled-fill-color: #AAA;\n",
              "      --disabled-bg-color: #DDD;\n",
              "  }\n",
              "\n",
              "  [theme=dark] .colab-df-quickchart {\n",
              "      --bg-color: #3B4455;\n",
              "      --fill-color: #D2E3FC;\n",
              "      --hover-bg-color: #434B5C;\n",
              "      --hover-fill-color: #FFFFFF;\n",
              "      --disabled-bg-color: #3B4455;\n",
              "      --disabled-fill-color: #666;\n",
              "  }\n",
              "\n",
              "  .colab-df-quickchart {\n",
              "    background-color: var(--bg-color);\n",
              "    border: none;\n",
              "    border-radius: 50%;\n",
              "    cursor: pointer;\n",
              "    display: none;\n",
              "    fill: var(--fill-color);\n",
              "    height: 32px;\n",
              "    padding: 0;\n",
              "    width: 32px;\n",
              "  }\n",
              "\n",
              "  .colab-df-quickchart:hover {\n",
              "    background-color: var(--hover-bg-color);\n",
              "    box-shadow: 0 1px 2px rgba(60, 64, 67, 0.3), 0 1px 3px 1px rgba(60, 64, 67, 0.15);\n",
              "    fill: var(--button-hover-fill-color);\n",
              "  }\n",
              "\n",
              "  .colab-df-quickchart-complete:disabled,\n",
              "  .colab-df-quickchart-complete:disabled:hover {\n",
              "    background-color: var(--disabled-bg-color);\n",
              "    fill: var(--disabled-fill-color);\n",
              "    box-shadow: none;\n",
              "  }\n",
              "\n",
              "  .colab-df-spinner {\n",
              "    border: 2px solid var(--fill-color);\n",
              "    border-color: transparent;\n",
              "    border-bottom-color: var(--fill-color);\n",
              "    animation:\n",
              "      spin 1s steps(1) infinite;\n",
              "  }\n",
              "\n",
              "  @keyframes spin {\n",
              "    0% {\n",
              "      border-color: transparent;\n",
              "      border-bottom-color: var(--fill-color);\n",
              "      border-left-color: var(--fill-color);\n",
              "    }\n",
              "    20% {\n",
              "      border-color: transparent;\n",
              "      border-left-color: var(--fill-color);\n",
              "      border-top-color: var(--fill-color);\n",
              "    }\n",
              "    30% {\n",
              "      border-color: transparent;\n",
              "      border-left-color: var(--fill-color);\n",
              "      border-top-color: var(--fill-color);\n",
              "      border-right-color: var(--fill-color);\n",
              "    }\n",
              "    40% {\n",
              "      border-color: transparent;\n",
              "      border-right-color: var(--fill-color);\n",
              "      border-top-color: var(--fill-color);\n",
              "    }\n",
              "    60% {\n",
              "      border-color: transparent;\n",
              "      border-right-color: var(--fill-color);\n",
              "    }\n",
              "    80% {\n",
              "      border-color: transparent;\n",
              "      border-right-color: var(--fill-color);\n",
              "      border-bottom-color: var(--fill-color);\n",
              "    }\n",
              "    90% {\n",
              "      border-color: transparent;\n",
              "      border-bottom-color: var(--fill-color);\n",
              "    }\n",
              "  }\n",
              "</style>\n",
              "\n",
              "  <script>\n",
              "    async function quickchart(key) {\n",
              "      const quickchartButtonEl =\n",
              "        document.querySelector('#' + key + ' button');\n",
              "      quickchartButtonEl.disabled = true;  // To prevent multiple clicks.\n",
              "      quickchartButtonEl.classList.add('colab-df-spinner');\n",
              "      try {\n",
              "        const charts = await google.colab.kernel.invokeFunction(\n",
              "            'suggestCharts', [key], {});\n",
              "      } catch (error) {\n",
              "        console.error('Error during call to suggestCharts:', error);\n",
              "      }\n",
              "      quickchartButtonEl.classList.remove('colab-df-spinner');\n",
              "      quickchartButtonEl.classList.add('colab-df-quickchart-complete');\n",
              "    }\n",
              "    (() => {\n",
              "      let quickchartButtonEl =\n",
              "        document.querySelector('#df-ac1abff6-6d83-4b38-9bf1-cbd5a3ff68e1 button');\n",
              "      quickchartButtonEl.style.display =\n",
              "        google.colab.kernel.accessAllowed ? 'block' : 'none';\n",
              "    })();\n",
              "  </script>\n",
              "</div>\n",
              "    </div>\n",
              "  </div>\n"
            ]
          },
          "metadata": {},
          "execution_count": 9
        }
      ],
      "source": [
        "df.describe()"
      ]
    },
    {
      "cell_type": "code",
      "execution_count": 10,
      "metadata": {
        "colab": {
          "base_uri": "https://localhost:8080/",
          "height": 175
        },
        "id": "B8y7bOkVyoDg",
        "outputId": "ddc40adc-aca1-4566-87ff-3994581bb5b6"
      },
      "outputs": [
        {
          "output_type": "execute_result",
          "data": {
            "text/plain": [
              "                DateCrawled VehicleType Gearbox   Model FuelType       Brand  \\\n",
              "count                354369      316879  334536  334664   321474      354369   \n",
              "unique               271174           8       2     250        7          40   \n",
              "top     2016-03-24 14:49:47       sedan  manual    golf   petrol  volkswagen   \n",
              "freq                      7       91457  268251   29232   216352       77013   \n",
              "\n",
              "       Repaired          DateCreated             LastSeen  \n",
              "count    283215               354369               354369  \n",
              "unique        2                  109               179150  \n",
              "top          no  2016-04-03 00:00:00  2016-04-06 13:45:54  \n",
              "freq     247161                13719                   17  "
            ],
            "text/html": [
              "\n",
              "  <div id=\"df-f1f486c8-6dbb-4c7c-84d6-ddf2b9f99e12\" class=\"colab-df-container\">\n",
              "    <div>\n",
              "<style scoped>\n",
              "    .dataframe tbody tr th:only-of-type {\n",
              "        vertical-align: middle;\n",
              "    }\n",
              "\n",
              "    .dataframe tbody tr th {\n",
              "        vertical-align: top;\n",
              "    }\n",
              "\n",
              "    .dataframe thead th {\n",
              "        text-align: right;\n",
              "    }\n",
              "</style>\n",
              "<table border=\"1\" class=\"dataframe\">\n",
              "  <thead>\n",
              "    <tr style=\"text-align: right;\">\n",
              "      <th></th>\n",
              "      <th>DateCrawled</th>\n",
              "      <th>VehicleType</th>\n",
              "      <th>Gearbox</th>\n",
              "      <th>Model</th>\n",
              "      <th>FuelType</th>\n",
              "      <th>Brand</th>\n",
              "      <th>Repaired</th>\n",
              "      <th>DateCreated</th>\n",
              "      <th>LastSeen</th>\n",
              "    </tr>\n",
              "  </thead>\n",
              "  <tbody>\n",
              "    <tr>\n",
              "      <th>count</th>\n",
              "      <td>354369</td>\n",
              "      <td>316879</td>\n",
              "      <td>334536</td>\n",
              "      <td>334664</td>\n",
              "      <td>321474</td>\n",
              "      <td>354369</td>\n",
              "      <td>283215</td>\n",
              "      <td>354369</td>\n",
              "      <td>354369</td>\n",
              "    </tr>\n",
              "    <tr>\n",
              "      <th>unique</th>\n",
              "      <td>271174</td>\n",
              "      <td>8</td>\n",
              "      <td>2</td>\n",
              "      <td>250</td>\n",
              "      <td>7</td>\n",
              "      <td>40</td>\n",
              "      <td>2</td>\n",
              "      <td>109</td>\n",
              "      <td>179150</td>\n",
              "    </tr>\n",
              "    <tr>\n",
              "      <th>top</th>\n",
              "      <td>2016-03-24 14:49:47</td>\n",
              "      <td>sedan</td>\n",
              "      <td>manual</td>\n",
              "      <td>golf</td>\n",
              "      <td>petrol</td>\n",
              "      <td>volkswagen</td>\n",
              "      <td>no</td>\n",
              "      <td>2016-04-03 00:00:00</td>\n",
              "      <td>2016-04-06 13:45:54</td>\n",
              "    </tr>\n",
              "    <tr>\n",
              "      <th>freq</th>\n",
              "      <td>7</td>\n",
              "      <td>91457</td>\n",
              "      <td>268251</td>\n",
              "      <td>29232</td>\n",
              "      <td>216352</td>\n",
              "      <td>77013</td>\n",
              "      <td>247161</td>\n",
              "      <td>13719</td>\n",
              "      <td>17</td>\n",
              "    </tr>\n",
              "  </tbody>\n",
              "</table>\n",
              "</div>\n",
              "    <div class=\"colab-df-buttons\">\n",
              "\n",
              "  <div class=\"colab-df-container\">\n",
              "    <button class=\"colab-df-convert\" onclick=\"convertToInteractive('df-f1f486c8-6dbb-4c7c-84d6-ddf2b9f99e12')\"\n",
              "            title=\"Convert this dataframe to an interactive table.\"\n",
              "            style=\"display:none;\">\n",
              "\n",
              "  <svg xmlns=\"http://www.w3.org/2000/svg\" height=\"24px\" viewBox=\"0 -960 960 960\">\n",
              "    <path d=\"M120-120v-720h720v720H120Zm60-500h600v-160H180v160Zm220 220h160v-160H400v160Zm0 220h160v-160H400v160ZM180-400h160v-160H180v160Zm440 0h160v-160H620v160ZM180-180h160v-160H180v160Zm440 0h160v-160H620v160Z\"/>\n",
              "  </svg>\n",
              "    </button>\n",
              "\n",
              "  <style>\n",
              "    .colab-df-container {\n",
              "      display:flex;\n",
              "      gap: 12px;\n",
              "    }\n",
              "\n",
              "    .colab-df-convert {\n",
              "      background-color: #E8F0FE;\n",
              "      border: none;\n",
              "      border-radius: 50%;\n",
              "      cursor: pointer;\n",
              "      display: none;\n",
              "      fill: #1967D2;\n",
              "      height: 32px;\n",
              "      padding: 0 0 0 0;\n",
              "      width: 32px;\n",
              "    }\n",
              "\n",
              "    .colab-df-convert:hover {\n",
              "      background-color: #E2EBFA;\n",
              "      box-shadow: 0px 1px 2px rgba(60, 64, 67, 0.3), 0px 1px 3px 1px rgba(60, 64, 67, 0.15);\n",
              "      fill: #174EA6;\n",
              "    }\n",
              "\n",
              "    .colab-df-buttons div {\n",
              "      margin-bottom: 4px;\n",
              "    }\n",
              "\n",
              "    [theme=dark] .colab-df-convert {\n",
              "      background-color: #3B4455;\n",
              "      fill: #D2E3FC;\n",
              "    }\n",
              "\n",
              "    [theme=dark] .colab-df-convert:hover {\n",
              "      background-color: #434B5C;\n",
              "      box-shadow: 0px 1px 3px 1px rgba(0, 0, 0, 0.15);\n",
              "      filter: drop-shadow(0px 1px 2px rgba(0, 0, 0, 0.3));\n",
              "      fill: #FFFFFF;\n",
              "    }\n",
              "  </style>\n",
              "\n",
              "    <script>\n",
              "      const buttonEl =\n",
              "        document.querySelector('#df-f1f486c8-6dbb-4c7c-84d6-ddf2b9f99e12 button.colab-df-convert');\n",
              "      buttonEl.style.display =\n",
              "        google.colab.kernel.accessAllowed ? 'block' : 'none';\n",
              "\n",
              "      async function convertToInteractive(key) {\n",
              "        const element = document.querySelector('#df-f1f486c8-6dbb-4c7c-84d6-ddf2b9f99e12');\n",
              "        const dataTable =\n",
              "          await google.colab.kernel.invokeFunction('convertToInteractive',\n",
              "                                                    [key], {});\n",
              "        if (!dataTable) return;\n",
              "\n",
              "        const docLinkHtml = 'Like what you see? Visit the ' +\n",
              "          '<a target=\"_blank\" href=https://colab.research.google.com/notebooks/data_table.ipynb>data table notebook</a>'\n",
              "          + ' to learn more about interactive tables.';\n",
              "        element.innerHTML = '';\n",
              "        dataTable['output_type'] = 'display_data';\n",
              "        await google.colab.output.renderOutput(dataTable, element);\n",
              "        const docLink = document.createElement('div');\n",
              "        docLink.innerHTML = docLinkHtml;\n",
              "        element.appendChild(docLink);\n",
              "      }\n",
              "    </script>\n",
              "  </div>\n",
              "\n",
              "\n",
              "<div id=\"df-a684d478-c9b5-4258-9e55-5006d17398af\">\n",
              "  <button class=\"colab-df-quickchart\" onclick=\"quickchart('df-a684d478-c9b5-4258-9e55-5006d17398af')\"\n",
              "            title=\"Suggest charts\"\n",
              "            style=\"display:none;\">\n",
              "\n",
              "<svg xmlns=\"http://www.w3.org/2000/svg\" height=\"24px\"viewBox=\"0 0 24 24\"\n",
              "     width=\"24px\">\n",
              "    <g>\n",
              "        <path d=\"M19 3H5c-1.1 0-2 .9-2 2v14c0 1.1.9 2 2 2h14c1.1 0 2-.9 2-2V5c0-1.1-.9-2-2-2zM9 17H7v-7h2v7zm4 0h-2V7h2v10zm4 0h-2v-4h2v4z\"/>\n",
              "    </g>\n",
              "</svg>\n",
              "  </button>\n",
              "\n",
              "<style>\n",
              "  .colab-df-quickchart {\n",
              "      --bg-color: #E8F0FE;\n",
              "      --fill-color: #1967D2;\n",
              "      --hover-bg-color: #E2EBFA;\n",
              "      --hover-fill-color: #174EA6;\n",
              "      --disabled-fill-color: #AAA;\n",
              "      --disabled-bg-color: #DDD;\n",
              "  }\n",
              "\n",
              "  [theme=dark] .colab-df-quickchart {\n",
              "      --bg-color: #3B4455;\n",
              "      --fill-color: #D2E3FC;\n",
              "      --hover-bg-color: #434B5C;\n",
              "      --hover-fill-color: #FFFFFF;\n",
              "      --disabled-bg-color: #3B4455;\n",
              "      --disabled-fill-color: #666;\n",
              "  }\n",
              "\n",
              "  .colab-df-quickchart {\n",
              "    background-color: var(--bg-color);\n",
              "    border: none;\n",
              "    border-radius: 50%;\n",
              "    cursor: pointer;\n",
              "    display: none;\n",
              "    fill: var(--fill-color);\n",
              "    height: 32px;\n",
              "    padding: 0;\n",
              "    width: 32px;\n",
              "  }\n",
              "\n",
              "  .colab-df-quickchart:hover {\n",
              "    background-color: var(--hover-bg-color);\n",
              "    box-shadow: 0 1px 2px rgba(60, 64, 67, 0.3), 0 1px 3px 1px rgba(60, 64, 67, 0.15);\n",
              "    fill: var(--button-hover-fill-color);\n",
              "  }\n",
              "\n",
              "  .colab-df-quickchart-complete:disabled,\n",
              "  .colab-df-quickchart-complete:disabled:hover {\n",
              "    background-color: var(--disabled-bg-color);\n",
              "    fill: var(--disabled-fill-color);\n",
              "    box-shadow: none;\n",
              "  }\n",
              "\n",
              "  .colab-df-spinner {\n",
              "    border: 2px solid var(--fill-color);\n",
              "    border-color: transparent;\n",
              "    border-bottom-color: var(--fill-color);\n",
              "    animation:\n",
              "      spin 1s steps(1) infinite;\n",
              "  }\n",
              "\n",
              "  @keyframes spin {\n",
              "    0% {\n",
              "      border-color: transparent;\n",
              "      border-bottom-color: var(--fill-color);\n",
              "      border-left-color: var(--fill-color);\n",
              "    }\n",
              "    20% {\n",
              "      border-color: transparent;\n",
              "      border-left-color: var(--fill-color);\n",
              "      border-top-color: var(--fill-color);\n",
              "    }\n",
              "    30% {\n",
              "      border-color: transparent;\n",
              "      border-left-color: var(--fill-color);\n",
              "      border-top-color: var(--fill-color);\n",
              "      border-right-color: var(--fill-color);\n",
              "    }\n",
              "    40% {\n",
              "      border-color: transparent;\n",
              "      border-right-color: var(--fill-color);\n",
              "      border-top-color: var(--fill-color);\n",
              "    }\n",
              "    60% {\n",
              "      border-color: transparent;\n",
              "      border-right-color: var(--fill-color);\n",
              "    }\n",
              "    80% {\n",
              "      border-color: transparent;\n",
              "      border-right-color: var(--fill-color);\n",
              "      border-bottom-color: var(--fill-color);\n",
              "    }\n",
              "    90% {\n",
              "      border-color: transparent;\n",
              "      border-bottom-color: var(--fill-color);\n",
              "    }\n",
              "  }\n",
              "</style>\n",
              "\n",
              "  <script>\n",
              "    async function quickchart(key) {\n",
              "      const quickchartButtonEl =\n",
              "        document.querySelector('#' + key + ' button');\n",
              "      quickchartButtonEl.disabled = true;  // To prevent multiple clicks.\n",
              "      quickchartButtonEl.classList.add('colab-df-spinner');\n",
              "      try {\n",
              "        const charts = await google.colab.kernel.invokeFunction(\n",
              "            'suggestCharts', [key], {});\n",
              "      } catch (error) {\n",
              "        console.error('Error during call to suggestCharts:', error);\n",
              "      }\n",
              "      quickchartButtonEl.classList.remove('colab-df-spinner');\n",
              "      quickchartButtonEl.classList.add('colab-df-quickchart-complete');\n",
              "    }\n",
              "    (() => {\n",
              "      let quickchartButtonEl =\n",
              "        document.querySelector('#df-a684d478-c9b5-4258-9e55-5006d17398af button');\n",
              "      quickchartButtonEl.style.display =\n",
              "        google.colab.kernel.accessAllowed ? 'block' : 'none';\n",
              "    })();\n",
              "  </script>\n",
              "</div>\n",
              "    </div>\n",
              "  </div>\n"
            ]
          },
          "metadata": {},
          "execution_count": 10
        }
      ],
      "source": [
        "df.describe(include=['object', 'bool'])"
      ]
    },
    {
      "cell_type": "markdown",
      "metadata": {
        "id": "u5waKjg8yoDh"
      },
      "source": [
        "**Итоги \"второго взгляда\":**\n",
        "\n",
        "1. Есть \"странные\" даты регистрации автомобилей\n",
        "2. 150000 километров максимальный пробег автомобиля, возможно это ограничение сайта.\n",
        "3. Странная кодитовка месяца регистрации.\n",
        "4. Самая популярная машина Фольксваген Гольф.\n",
        "5. Странные типы топлива, надо посмотреть."
      ]
    },
    {
      "cell_type": "code",
      "execution_count": 11,
      "metadata": {
        "colab": {
          "base_uri": "https://localhost:8080/",
          "height": 551
        },
        "id": "K2WaBqWUyoDh",
        "outputId": "94a93510-a05c-4a70-bc9f-1637a7385c68"
      },
      "outputs": [
        {
          "output_type": "execute_result",
          "data": {
            "text/plain": [
              "<pandas.io.formats.style.Styler at 0x787fbc44c520>"
            ],
            "text/html": [
              "<style type=\"text/css\">\n",
              "#T_535e8_row0_col0, #T_535e8_row0_col1 {\n",
              "  background-color: #00441b;\n",
              "  color: #f1f1f1;\n",
              "}\n",
              "#T_535e8_row1_col0, #T_535e8_row1_col1 {\n",
              "  background-color: #6abf71;\n",
              "  color: #000000;\n",
              "}\n",
              "#T_535e8_row2_col0, #T_535e8_row2_col1 {\n",
              "  background-color: #81ca81;\n",
              "  color: #000000;\n",
              "}\n",
              "#T_535e8_row3_col0, #T_535e8_row3_col1 {\n",
              "  background-color: #bee5b8;\n",
              "  color: #000000;\n",
              "}\n",
              "#T_535e8_row4_col0, #T_535e8_row4_col1 {\n",
              "  background-color: #c0e6b9;\n",
              "  color: #000000;\n",
              "}\n",
              "#T_535e8_row5_col0, #T_535e8_row5_col1, #T_535e8_row6_col0, #T_535e8_row6_col1, #T_535e8_row7_col0, #T_535e8_row7_col1, #T_535e8_row8_col0, #T_535e8_row8_col1, #T_535e8_row9_col0, #T_535e8_row9_col1, #T_535e8_row10_col0, #T_535e8_row10_col1, #T_535e8_row11_col0, #T_535e8_row11_col1, #T_535e8_row12_col0, #T_535e8_row12_col1, #T_535e8_row13_col0, #T_535e8_row13_col1, #T_535e8_row14_col0, #T_535e8_row14_col1, #T_535e8_row15_col0, #T_535e8_row15_col1 {\n",
              "  background-color: #f7fcf5;\n",
              "  color: #000000;\n",
              "}\n",
              "</style>\n",
              "<table id=\"T_535e8\" class=\"dataframe\">\n",
              "  <thead>\n",
              "    <tr>\n",
              "      <th class=\"blank level0\" >&nbsp;</th>\n",
              "      <th id=\"T_535e8_level0_col0\" class=\"col_heading level0 col0\" >Total</th>\n",
              "      <th id=\"T_535e8_level0_col1\" class=\"col_heading level0 col1\" >Percent</th>\n",
              "    </tr>\n",
              "  </thead>\n",
              "  <tbody>\n",
              "    <tr>\n",
              "      <th id=\"T_535e8_level0_row0\" class=\"row_heading level0 row0\" >Repaired</th>\n",
              "      <td id=\"T_535e8_row0_col0\" class=\"data row0 col0\" >71154</td>\n",
              "      <td id=\"T_535e8_row0_col1\" class=\"data row0 col1\" >20.080000</td>\n",
              "    </tr>\n",
              "    <tr>\n",
              "      <th id=\"T_535e8_level0_row1\" class=\"row_heading level0 row1\" >VehicleType</th>\n",
              "      <td id=\"T_535e8_row1_col0\" class=\"data row1 col0\" >37490</td>\n",
              "      <td id=\"T_535e8_row1_col1\" class=\"data row1 col1\" >10.580000</td>\n",
              "    </tr>\n",
              "    <tr>\n",
              "      <th id=\"T_535e8_level0_row2\" class=\"row_heading level0 row2\" >FuelType</th>\n",
              "      <td id=\"T_535e8_row2_col0\" class=\"data row2 col0\" >32895</td>\n",
              "      <td id=\"T_535e8_row2_col1\" class=\"data row2 col1\" >9.280000</td>\n",
              "    </tr>\n",
              "    <tr>\n",
              "      <th id=\"T_535e8_level0_row3\" class=\"row_heading level0 row3\" >Gearbox</th>\n",
              "      <td id=\"T_535e8_row3_col0\" class=\"data row3 col0\" >19833</td>\n",
              "      <td id=\"T_535e8_row3_col1\" class=\"data row3 col1\" >5.600000</td>\n",
              "    </tr>\n",
              "    <tr>\n",
              "      <th id=\"T_535e8_level0_row4\" class=\"row_heading level0 row4\" >Model</th>\n",
              "      <td id=\"T_535e8_row4_col0\" class=\"data row4 col0\" >19705</td>\n",
              "      <td id=\"T_535e8_row4_col1\" class=\"data row4 col1\" >5.560000</td>\n",
              "    </tr>\n",
              "    <tr>\n",
              "      <th id=\"T_535e8_level0_row5\" class=\"row_heading level0 row5\" >DateCrawled</th>\n",
              "      <td id=\"T_535e8_row5_col0\" class=\"data row5 col0\" >0</td>\n",
              "      <td id=\"T_535e8_row5_col1\" class=\"data row5 col1\" >0.000000</td>\n",
              "    </tr>\n",
              "    <tr>\n",
              "      <th id=\"T_535e8_level0_row6\" class=\"row_heading level0 row6\" >Price</th>\n",
              "      <td id=\"T_535e8_row6_col0\" class=\"data row6 col0\" >0</td>\n",
              "      <td id=\"T_535e8_row6_col1\" class=\"data row6 col1\" >0.000000</td>\n",
              "    </tr>\n",
              "    <tr>\n",
              "      <th id=\"T_535e8_level0_row7\" class=\"row_heading level0 row7\" >RegistrationYear</th>\n",
              "      <td id=\"T_535e8_row7_col0\" class=\"data row7 col0\" >0</td>\n",
              "      <td id=\"T_535e8_row7_col1\" class=\"data row7 col1\" >0.000000</td>\n",
              "    </tr>\n",
              "    <tr>\n",
              "      <th id=\"T_535e8_level0_row8\" class=\"row_heading level0 row8\" >Power</th>\n",
              "      <td id=\"T_535e8_row8_col0\" class=\"data row8 col0\" >0</td>\n",
              "      <td id=\"T_535e8_row8_col1\" class=\"data row8 col1\" >0.000000</td>\n",
              "    </tr>\n",
              "    <tr>\n",
              "      <th id=\"T_535e8_level0_row9\" class=\"row_heading level0 row9\" >Kilometer</th>\n",
              "      <td id=\"T_535e8_row9_col0\" class=\"data row9 col0\" >0</td>\n",
              "      <td id=\"T_535e8_row9_col1\" class=\"data row9 col1\" >0.000000</td>\n",
              "    </tr>\n",
              "    <tr>\n",
              "      <th id=\"T_535e8_level0_row10\" class=\"row_heading level0 row10\" >RegistrationMonth</th>\n",
              "      <td id=\"T_535e8_row10_col0\" class=\"data row10 col0\" >0</td>\n",
              "      <td id=\"T_535e8_row10_col1\" class=\"data row10 col1\" >0.000000</td>\n",
              "    </tr>\n",
              "    <tr>\n",
              "      <th id=\"T_535e8_level0_row11\" class=\"row_heading level0 row11\" >Brand</th>\n",
              "      <td id=\"T_535e8_row11_col0\" class=\"data row11 col0\" >0</td>\n",
              "      <td id=\"T_535e8_row11_col1\" class=\"data row11 col1\" >0.000000</td>\n",
              "    </tr>\n",
              "    <tr>\n",
              "      <th id=\"T_535e8_level0_row12\" class=\"row_heading level0 row12\" >DateCreated</th>\n",
              "      <td id=\"T_535e8_row12_col0\" class=\"data row12 col0\" >0</td>\n",
              "      <td id=\"T_535e8_row12_col1\" class=\"data row12 col1\" >0.000000</td>\n",
              "    </tr>\n",
              "    <tr>\n",
              "      <th id=\"T_535e8_level0_row13\" class=\"row_heading level0 row13\" >NumberOfPictures</th>\n",
              "      <td id=\"T_535e8_row13_col0\" class=\"data row13 col0\" >0</td>\n",
              "      <td id=\"T_535e8_row13_col1\" class=\"data row13 col1\" >0.000000</td>\n",
              "    </tr>\n",
              "    <tr>\n",
              "      <th id=\"T_535e8_level0_row14\" class=\"row_heading level0 row14\" >PostalCode</th>\n",
              "      <td id=\"T_535e8_row14_col0\" class=\"data row14 col0\" >0</td>\n",
              "      <td id=\"T_535e8_row14_col1\" class=\"data row14 col1\" >0.000000</td>\n",
              "    </tr>\n",
              "    <tr>\n",
              "      <th id=\"T_535e8_level0_row15\" class=\"row_heading level0 row15\" >LastSeen</th>\n",
              "      <td id=\"T_535e8_row15_col0\" class=\"data row15 col0\" >0</td>\n",
              "      <td id=\"T_535e8_row15_col1\" class=\"data row15 col1\" >0.000000</td>\n",
              "    </tr>\n",
              "  </tbody>\n",
              "</table>\n"
            ]
          },
          "metadata": {},
          "execution_count": 11
        }
      ],
      "source": [
        "total = df.isnull().sum().sort_values(ascending = False)\n",
        "percent = round(df.isnull().sum().sort_values(ascending = False)/len(df)*100,2)\n",
        "pd.concat([total, percent], axis=1, keys=['Total','Percent']).style.background_gradient(cmap='Greens')"
      ]
    },
    {
      "cell_type": "markdown",
      "metadata": {
        "id": "uf-ZwgAvyoDh"
      },
      "source": [
        "**Итоги \"третьего взгляда\":**\n",
        "1. Не все отметили была ли машина в ремонте. При продаже это важно. Скорее всего, если не были, то человек просто ничего не отмечал, поэтому предположу, что нет, и тоже самое поставлю в таблице.\n",
        "2. Тип автомобиля попробуем заполнить по марке и модели. Модель - по марке. Тип коробки - по году выпуска. Тип топлива - скорее всего, по модели."
      ]
    },
    {
      "cell_type": "markdown",
      "metadata": {
        "id": "5Glh1P-2yoDh"
      },
      "source": [
        "Проработаю \"странные\" даты регистрации автомобилей. Форт Т - первый массовый автомобиль. Был выпущен в 1908 году, поэтому отсюда и буду смотреть. Всё таки они ещё продаются даже)"
      ]
    },
    {
      "cell_type": "code",
      "execution_count": 12,
      "metadata": {
        "colab": {
          "base_uri": "https://localhost:8080/"
        },
        "id": "AqUGYCvVyoDi",
        "outputId": "57cf9f7a-82dc-43d5-d969-9b6ffcd92d98"
      },
      "outputs": [
        {
          "output_type": "execute_result",
          "data": {
            "text/plain": [
              "225468    1910\n",
              "208755    1910\n",
              "213796    1910\n",
              "150021    1910\n",
              "302641    1910\n",
              "          ... \n",
              "30319     2019\n",
              "165246    2019\n",
              "332451    2019\n",
              "62996     2019\n",
              "37181     2019\n",
              "Name: RegistrationYear, Length: 354198, dtype: int64"
            ]
          },
          "metadata": {},
          "execution_count": 12
        }
      ],
      "source": [
        "period = (df.query('RegistrationYear > 1908 and RegistrationYear < 2020')['RegistrationYear'].sort_values())\n",
        "period"
      ]
    },
    {
      "cell_type": "code",
      "execution_count": 13,
      "metadata": {
        "colab": {
          "base_uri": "https://localhost:8080/"
        },
        "id": "Bs9EDc97yoDi",
        "outputId": "ae48df33-27b3-4ae1-c876-e2ad0ac38a0c"
      },
      "outputs": [
        {
          "output_type": "stream",
          "name": "stdout",
          "text": [
            "% машин под удаление 0.048\n"
          ]
        }
      ],
      "source": [
        "df_for_drop = np.round(100 - (len(period) * 100 / len(df)), 3)\n",
        "print('% машин под удаление', df_for_drop)"
      ]
    },
    {
      "cell_type": "markdown",
      "metadata": {
        "id": "ZCiUm8DsyoDi"
      },
      "source": [
        "1. % очень маленький, можно смело дропать.\n",
        "2. Стоит отметить, что есть автомобили с нулевой ценой, но тут не знаю как их можно заполнить. Думаю пока оставить."
      ]
    },
    {
      "cell_type": "code",
      "execution_count": 14,
      "metadata": {
        "id": "if1RS3e7yoDi"
      },
      "outputs": [],
      "source": [
        "df = df.query('RegistrationYear > 1908 and RegistrationYear < 2020')"
      ]
    },
    {
      "cell_type": "code",
      "execution_count": 15,
      "metadata": {
        "scrolled": true,
        "colab": {
          "base_uri": "https://localhost:8080/",
          "height": 571
        },
        "id": "1cuwt1pbyoDi",
        "outputId": "2ff1bca4-7935-4ba4-a8f2-b7f24144c2d7"
      },
      "outputs": [
        {
          "output_type": "display_data",
          "data": {
            "text/plain": [
              "<Figure size 1200x600 with 1 Axes>"
            ],
            "image/png": "[encoded data removed]"
          },
          "metadata": {}
        }
      ],
      "source": [
        "sns.set_style('whitegrid')\n",
        "\n",
        "plt.figure(figsize=(12,6))\n",
        "sns.distplot(df['Price'], kde=False, color='blue')\n",
        "\n",
        "plt.xlabel('Цена EUR', size=12)\n",
        "plt.ylabel('Количество', size=12)\n",
        "plt.title('Распределение цен автомобилей в выборке', size=15);"
      ]
    },
    {
      "cell_type": "markdown",
      "metadata": {
        "id": "7Z-iEMBxyoDj"
      },
      "source": [
        "Распределение цен находится в \"адекватном\" промежутке. Поэтому тут можно не переживать.\n",
        "\n",
        "Приведу значения ч.м.д. к нормальному формату."
      ]
    },
    {
      "cell_type": "code",
      "execution_count": 16,
      "metadata": {
        "id": "GZobjdb1yoDj"
      },
      "outputs": [],
      "source": [
        "df['DateCreated'] = pd.to_datetime(df['DateCreated'], format='%Y-%m-%dT%H:%M:%S')\n",
        "df['MonthCreated'] = df['DateCreated'].dt.weekday\n",
        "df['YearCreated'] = df['DateCreated'].dt.year"
      ]
    },
    {
      "cell_type": "code",
      "execution_count": 17,
      "metadata": {
        "colab": {
          "base_uri": "https://localhost:8080/"
        },
        "id": "V8nw5F9cyoDj",
        "outputId": "d01bde78-ea05-4f7c-a352-f58f3315b03a"
      },
      "outputs": [
        {
          "output_type": "execute_result",
          "data": {
            "text/plain": [
              "0    63258\n",
              "5    57003\n",
              "1    51381\n",
              "6    48821\n",
              "2    47255\n",
              "3    45530\n",
              "4    40950\n",
              "Name: MonthCreated, dtype: int64"
            ]
          },
          "metadata": {},
          "execution_count": 17
        }
      ],
      "source": [
        "df['MonthCreated'].value_counts()"
      ]
    },
    {
      "cell_type": "markdown",
      "metadata": {
        "id": "3L0N13IFyoDj"
      },
      "source": [
        "Очень странно, что машины продаются только 7 месяцев в году. Скорее всего это баг на сайте объявлений. Что то с этим сделать в проекте врят ли возможно."
      ]
    },
    {
      "cell_type": "code",
      "execution_count": 18,
      "metadata": {
        "colab": {
          "base_uri": "https://localhost:8080/"
        },
        "id": "n5_1dmJlyoDj",
        "outputId": "16eefdbc-0272-46f0-d0a1-d6b7d1b15ebe"
      },
      "outputs": [
        {
          "output_type": "execute_result",
          "data": {
            "text/plain": [
              "MonthCreated\n",
              "0    2700.0\n",
              "1    2500.0\n",
              "2    2600.0\n",
              "3    2650.0\n",
              "4    2750.0\n",
              "Name: Price, dtype: float64"
            ]
          },
          "metadata": {},
          "execution_count": 18
        }
      ],
      "source": [
        "temp = df.groupby('MonthCreated')['Price'].median()\n",
        "temp.head()"
      ]
    },
    {
      "cell_type": "code",
      "execution_count": 19,
      "metadata": {
        "colab": {
          "base_uri": "https://localhost:8080/",
          "height": 566
        },
        "id": "hmipT3AmyoDk",
        "outputId": "f22dffd8-6084-409b-910b-7b63bc797b9b"
      },
      "outputs": [
        {
          "output_type": "display_data",
          "data": {
            "text/plain": [
              "<Figure size 1200x600 with 1 Axes>"
            ],
            "image/png": "[encoded data removed]"
          },
          "metadata": {}
        }
      ],
      "source": [
        "plt.figure(figsize=(12,6))\n",
        "sns.lineplot(data=temp, color='red')\n",
        "plt.ylim(2000,3000)\n",
        "plt.xticks(np.arange(7), calendar.month_name[1:8])\n",
        "plt.ylabel('Цена, EUR')\n",
        "plt.title('Динамика изменения медианной цены на автомобили по месяцам', size=15);"
      ]
    },
    {
      "cell_type": "markdown",
      "metadata": {
        "id": "YZcfOpM-yoDk"
      },
      "source": [
        "Самые \"дешевые\" автомобили в феврале, самые \"дорогие\" в июле.\n",
        "\n",
        "Теперь проверю распределение объявлений по годам."
      ]
    },
    {
      "cell_type": "code",
      "execution_count": 20,
      "metadata": {
        "colab": {
          "base_uri": "https://localhost:8080/",
          "height": 143
        },
        "id": "EPn7STy5yoDk",
        "outputId": "a548f080-25fb-4f05-97b2-012422e8f4ff"
      },
      "outputs": [
        {
          "output_type": "execute_result",
          "data": {
            "text/plain": [
              "   YearCreated  median   count\n",
              "0         2014  8999.0       1\n",
              "1         2015  6000.0      25\n",
              "2         2016  2700.0  354172"
            ],
            "text/html": [
              "\n",
              "  <div id=\"df-42d82691-3d98-411c-9275-844f8f8b4372\" class=\"colab-df-container\">\n",
              "    <div>\n",
              "<style scoped>\n",
              "    .dataframe tbody tr th:only-of-type {\n",
              "        vertical-align: middle;\n",
              "    }\n",
              "\n",
              "    .dataframe tbody tr th {\n",
              "        vertical-align: top;\n",
              "    }\n",
              "\n",
              "    .dataframe thead th {\n",
              "        text-align: right;\n",
              "    }\n",
              "</style>\n",
              "<table border=\"1\" class=\"dataframe\">\n",
              "  <thead>\n",
              "    <tr style=\"text-align: right;\">\n",
              "      <th></th>\n",
              "      <th>YearCreated</th>\n",
              "      <th>median</th>\n",
              "      <th>count</th>\n",
              "    </tr>\n",
              "  </thead>\n",
              "  <tbody>\n",
              "    <tr>\n",
              "      <th>0</th>\n",
              "      <td>2014</td>\n",
              "      <td>8999.0</td>\n",
              "      <td>1</td>\n",
              "    </tr>\n",
              "    <tr>\n",
              "      <th>1</th>\n",
              "      <td>2015</td>\n",
              "      <td>6000.0</td>\n",
              "      <td>25</td>\n",
              "    </tr>\n",
              "    <tr>\n",
              "      <th>2</th>\n",
              "      <td>2016</td>\n",
              "      <td>2700.0</td>\n",
              "      <td>354172</td>\n",
              "    </tr>\n",
              "  </tbody>\n",
              "</table>\n",
              "</div>\n",
              "    <div class=\"colab-df-buttons\">\n",
              "\n",
              "  <div class=\"colab-df-container\">\n",
              "    <button class=\"colab-df-convert\" onclick=\"convertToInteractive('df-42d82691-3d98-411c-9275-844f8f8b4372')\"\n",
              "            title=\"Convert this dataframe to an interactive table.\"\n",
              "            style=\"display:none;\">\n",
              "\n",
              "  <svg xmlns=\"http://www.w3.org/2000/svg\" height=\"24px\" viewBox=\"0 -960 960 960\">\n",
              "    <path d=\"M120-120v-720h720v720H120Zm60-500h600v-160H180v160Zm220 220h160v-160H400v160Zm0 220h160v-160H400v160ZM180-400h160v-160H180v160Zm440 0h160v-160H620v160ZM180-180h160v-160H180v160Zm440 0h160v-160H620v160Z\"/>\n",
              "  </svg>\n",
              "    </button>\n",
              "\n",
              "  <style>\n",
              "    .colab-df-container {\n",
              "      display:flex;\n",
              "      gap: 12px;\n",
              "    }\n",
              "\n",
              "    .colab-df-convert {\n",
              "      background-color: #E8F0FE;\n",
              "      border: none;\n",
              "      border-radius: 50%;\n",
              "      cursor: pointer;\n",
              "      display: none;\n",
              "      fill: #1967D2;\n",
              "      height: 32px;\n",
              "      padding: 0 0 0 0;\n",
              "      width: 32px;\n",
              "    }\n",
              "\n",
              "    .colab-df-convert:hover {\n",
              "      background-color: #E2EBFA;\n",
              "      box-shadow: 0px 1px 2px rgba(60, 64, 67, 0.3), 0px 1px 3px 1px rgba(60, 64, 67, 0.15);\n",
              "      fill: #174EA6;\n",
              "    }\n",
              "\n",
              "    .colab-df-buttons div {\n",
              "      margin-bottom: 4px;\n",
              "    }\n",
              "\n",
              "    [theme=dark] .colab-df-convert {\n",
              "      background-color: #3B4455;\n",
              "      fill: #D2E3FC;\n",
              "    }\n",
              "\n",
              "    [theme=dark] .colab-df-convert:hover {\n",
              "      background-color: #434B5C;\n",
              "      box-shadow: 0px 1px 3px 1px rgba(0, 0, 0, 0.15);\n",
              "      filter: drop-shadow(0px 1px 2px rgba(0, 0, 0, 0.3));\n",
              "      fill: #FFFFFF;\n",
              "    }\n",
              "  </style>\n",
              "\n",
              "    <script>\n",
              "      const buttonEl =\n",
              "        document.querySelector('#df-42d82691-3d98-411c-9275-844f8f8b4372 button.colab-df-convert');\n",
              "      buttonEl.style.display =\n",
              "        google.colab.kernel.accessAllowed ? 'block' : 'none';\n",
              "\n",
              "      async function convertToInteractive(key) {\n",
              "        const element = document.querySelector('#df-42d82691-3d98-411c-9275-844f8f8b4372');\n",
              "        const dataTable =\n",
              "          await google.colab.kernel.invokeFunction('convertToInteractive',\n",
              "                                                    [key], {});\n",
              "        if (!dataTable) return;\n",
              "\n",
              "        const docLinkHtml = 'Like what you see? Visit the ' +\n",
              "          '<a target=\"_blank\" href=https://colab.research.google.com/notebooks/data_table.ipynb>data table notebook</a>'\n",
              "          + ' to learn more about interactive tables.';\n",
              "        element.innerHTML = '';\n",
              "        dataTable['output_type'] = 'display_data';\n",
              "        await google.colab.output.renderOutput(dataTable, element);\n",
              "        const docLink = document.createElement('div');\n",
              "        docLink.innerHTML = docLinkHtml;\n",
              "        element.appendChild(docLink);\n",
              "      }\n",
              "    </script>\n",
              "  </div>\n",
              "\n",
              "\n",
              "<div id=\"df-3d736340-9a42-4700-afcb-0ea4f42e4890\">\n",
              "  <button class=\"colab-df-quickchart\" onclick=\"quickchart('df-3d736340-9a42-4700-afcb-0ea4f42e4890')\"\n",
              "            title=\"Suggest charts\"\n",
              "            style=\"display:none;\">\n",
              "\n",
              "<svg xmlns=\"http://www.w3.org/2000/svg\" height=\"24px\"viewBox=\"0 0 24 24\"\n",
              "     width=\"24px\">\n",
              "    <g>\n",
              "        <path d=\"M19 3H5c-1.1 0-2 .9-2 2v14c0 1.1.9 2 2 2h14c1.1 0 2-.9 2-2V5c0-1.1-.9-2-2-2zM9 17H7v-7h2v7zm4 0h-2V7h2v10zm4 0h-2v-4h2v4z\"/>\n",
              "    </g>\n",
              "</svg>\n",
              "  </button>\n",
              "\n",
              "<style>\n",
              "  .colab-df-quickchart {\n",
              "      --bg-color: #E8F0FE;\n",
              "      --fill-color: #1967D2;\n",
              "      --hover-bg-color: #E2EBFA;\n",
              "      --hover-fill-color: #174EA6;\n",
              "      --disabled-fill-color: #AAA;\n",
              "      --disabled-bg-color: #DDD;\n",
              "  }\n",
              "\n",
              "  [theme=dark] .colab-df-quickchart {\n",
              "      --bg-color: #3B4455;\n",
              "      --fill-color: #D2E3FC;\n",
              "      --hover-bg-color: #434B5C;\n",
              "      --hover-fill-color: #FFFFFF;\n",
              "      --disabled-bg-color: #3B4455;\n",
              "      --disabled-fill-color: #666;\n",
              "  }\n",
              "\n",
              "  .colab-df-quickchart {\n",
              "    background-color: var(--bg-color);\n",
              "    border: none;\n",
              "    border-radius: 50%;\n",
              "    cursor: pointer;\n",
              "    display: none;\n",
              "    fill: var(--fill-color);\n",
              "    height: 32px;\n",
              "    padding: 0;\n",
              "    width: 32px;\n",
              "  }\n",
              "\n",
              "  .colab-df-quickchart:hover {\n",
              "    background-color: var(--hover-bg-color);\n",
              "    box-shadow: 0 1px 2px rgba(60, 64, 67, 0.3), 0 1px 3px 1px rgba(60, 64, 67, 0.15);\n",
              "    fill: var(--button-hover-fill-color);\n",
              "  }\n",
              "\n",
              "  .colab-df-quickchart-complete:disabled,\n",
              "  .colab-df-quickchart-complete:disabled:hover {\n",
              "    background-color: var(--disabled-bg-color);\n",
              "    fill: var(--disabled-fill-color);\n",
              "    box-shadow: none;\n",
              "  }\n",
              "\n",
              "  .colab-df-spinner {\n",
              "    border: 2px solid var(--fill-color);\n",
              "    border-color: transparent;\n",
              "    border-bottom-color: var(--fill-color);\n",
              "    animation:\n",
              "      spin 1s steps(1) infinite;\n",
              "  }\n",
              "\n",
              "  @keyframes spin {\n",
              "    0% {\n",
              "      border-color: transparent;\n",
              "      border-bottom-color: var(--fill-color);\n",
              "      border-left-color: var(--fill-color);\n",
              "    }\n",
              "    20% {\n",
              "      border-color: transparent;\n",
              "      border-left-color: var(--fill-color);\n",
              "      border-top-color: var(--fill-color);\n",
              "    }\n",
              "    30% {\n",
              "      border-color: transparent;\n",
              "      border-left-color: var(--fill-color);\n",
              "      border-top-color: var(--fill-color);\n",
              "      border-right-color: var(--fill-color);\n",
              "    }\n",
              "    40% {\n",
              "      border-color: transparent;\n",
              "      border-right-color: var(--fill-color);\n",
              "      border-top-color: var(--fill-color);\n",
              "    }\n",
              "    60% {\n",
              "      border-color: transparent;\n",
              "      border-right-color: var(--fill-color);\n",
              "    }\n",
              "    80% {\n",
              "      border-color: transparent;\n",
              "      border-right-color: var(--fill-color);\n",
              "      border-bottom-color: var(--fill-color);\n",
              "    }\n",
              "    90% {\n",
              "      border-color: transparent;\n",
              "      border-bottom-color: var(--fill-color);\n",
              "    }\n",
              "  }\n",
              "</style>\n",
              "\n",
              "  <script>\n",
              "    async function quickchart(key) {\n",
              "      const quickchartButtonEl =\n",
              "        document.querySelector('#' + key + ' button');\n",
              "      quickchartButtonEl.disabled = true;  // To prevent multiple clicks.\n",
              "      quickchartButtonEl.classList.add('colab-df-spinner');\n",
              "      try {\n",
              "        const charts = await google.colab.kernel.invokeFunction(\n",
              "            'suggestCharts', [key], {});\n",
              "      } catch (error) {\n",
              "        console.error('Error during call to suggestCharts:', error);\n",
              "      }\n",
              "      quickchartButtonEl.classList.remove('colab-df-spinner');\n",
              "      quickchartButtonEl.classList.add('colab-df-quickchart-complete');\n",
              "    }\n",
              "    (() => {\n",
              "      let quickchartButtonEl =\n",
              "        document.querySelector('#df-3d736340-9a42-4700-afcb-0ea4f42e4890 button');\n",
              "      quickchartButtonEl.style.display =\n",
              "        google.colab.kernel.accessAllowed ? 'block' : 'none';\n",
              "    })();\n",
              "  </script>\n",
              "</div>\n",
              "    </div>\n",
              "  </div>\n"
            ]
          },
          "metadata": {},
          "execution_count": 20
        }
      ],
      "source": [
        "temp = df.groupby('YearCreated')['Price'].agg(['median', 'count']).reset_index()\n",
        "temp.head()"
      ]
    },
    {
      "cell_type": "markdown",
      "metadata": {
        "id": "7Obe3rK1yoDk"
      },
      "source": [
        "В 2014 году выставлена на продажу всего одна машина, в 2015 -  25 машин, в 2016 - 99% всей выборки. Сложно объяснить, возможно сайт был совсем не популярен в 2014 году. Оставлю как есть."
      ]
    },
    {
      "cell_type": "code",
      "source": [
        "print(df.columns)"
      ],
      "metadata": {
        "colab": {
          "base_uri": "https://localhost:8080/"
        },
        "id": "TruoVeK62a9C",
        "outputId": "9758997c-e441-4750-fe72-cea394e8996c"
      },
      "execution_count": 75,
      "outputs": [
        {
          "output_type": "stream",
          "name": "stdout",
          "text": [
            "Index(['datecrawled', 'price', 'vehicletype', 'registrationyear', 'gearbox',\n",
            "       'power', 'model', 'kilometer', 'registrationmonth', 'fueltype', 'brand',\n",
            "       'repaired', 'datecreated', 'numberofpictures', 'postalcode', 'lastseen',\n",
            "       'monthcreated', 'yearcreated', 'gearboxunsorted', 'power_norm'],\n",
            "      dtype='object')\n"
          ]
        }
      ]
    },
    {
      "cell_type": "markdown",
      "metadata": {
        "id": "uUwF9Jk5yoDk"
      },
      "source": [
        "### Заполнение пропусков"
      ]
    },
    {
      "cell_type": "markdown",
      "metadata": {
        "id": "dZsZ3-RUyoDk"
      },
      "source": [
        "**Ремонт автомобиля**"
      ]
    },
    {
      "cell_type": "code",
      "execution_count": 76,
      "metadata": {
        "colab": {
          "base_uri": "https://localhost:8080/"
        },
        "id": "6OElAXinyoDk",
        "outputId": "49f92f25-f8db-4176-aeb5-7a0f094cd338"
      },
      "outputs": [
        {
          "output_type": "stream",
          "name": "stdout",
          "text": [
            "2000    7284\n",
            "1999    4847\n",
            "2017    4594\n",
            "2005    4452\n",
            "2016    4424\n",
            "1998    4073\n",
            "2001    3615\n",
            "1997    3569\n",
            "1995    3328\n",
            "2002    3160\n",
            "Name: registrationyear, dtype: int64\n",
            "\n",
            "Автомобили без указания ремонта, составляют 61.06% от общего количества\n"
          ]
        }
      ],
      "source": [
        "not_rem = df.loc[df['repaired'].isna()]['registrationyear'].value_counts()\n",
        "not_rem_perc = not_rem.head(10).sum() / df.loc[df['repaired'].isna(), 'price'].count()\n",
        "\n",
        "print(not_rem.head(10))\n",
        "print()\n",
        "print('Автомобили без указания ремонта, составляют {:.2%} от общего количества'.format((not_rem_perc)))"
      ]
    },
    {
      "cell_type": "markdown",
      "metadata": {
        "id": "XKhdALTQyoDl"
      },
      "source": [
        "Как указывал выше, все пропущенные значения здесь заполню строкой 'no'.\n",
        "Все автомобили, без указания ремонта можно сказать новые. Скорее всего, тут учитывается именно ремонт после ДТП, поэтому заполню как и указал."
      ]
    },
    {
      "cell_type": "code",
      "execution_count": 77,
      "metadata": {
        "colab": {
          "base_uri": "https://localhost:8080/"
        },
        "id": "l5gusDfMyoDl",
        "outputId": "4d52d24c-e4cb-483d-e6ac-6346da08a4bb"
      },
      "outputs": [
        {
          "output_type": "execute_result",
          "data": {
            "text/plain": [
              "0     no\n",
              "1    yes\n",
              "2     no\n",
              "3     no\n",
              "4     no\n",
              "Name: notrepaired, dtype: object"
            ]
          },
          "metadata": {},
          "execution_count": 77
        }
      ],
      "source": [
        "df['notrepaired'] = df['repaired'].fillna(value='no')\n",
        "df['notrepaired'].head()"
      ]
    },
    {
      "cell_type": "markdown",
      "metadata": {
        "id": "8sVN50ghyoDl"
      },
      "source": [
        "**Коробка передач**"
      ]
    },
    {
      "cell_type": "code",
      "execution_count": 22,
      "metadata": {
        "colab": {
          "base_uri": "https://localhost:8080/"
        },
        "id": "B61lQJUPyoDl",
        "outputId": "e33847fe-5d24-47fe-dff9-91f4fa8244f8"
      },
      "outputs": [
        {
          "output_type": "execute_result",
          "data": {
            "text/plain": [
              "0    manual\n",
              "1    manual\n",
              "2      auto\n",
              "3    manual\n",
              "4    manual\n",
              "Name: Gearbox, dtype: object"
            ]
          },
          "metadata": {},
          "execution_count": 22
        }
      ],
      "source": [
        "df['Gearbox'].head()"
      ]
    },
    {
      "cell_type": "code",
      "execution_count": 23,
      "metadata": {
        "colab": {
          "base_uri": "https://localhost:8080/",
          "height": 452
        },
        "id": "9EjzsYyGyoDl",
        "outputId": "afadd9d8-c762-4a78-84aa-221ac2ec0230"
      },
      "outputs": [
        {
          "output_type": "display_data",
          "data": {
            "text/plain": [
              "<Figure size 640x480 with 1 Axes>"
            ],
            "image/png": "[encoded data removed]"
          },
          "metadata": {}
        }
      ],
      "source": [
        "plt.figure()\n",
        "df['Gearbox'].value_counts().plot(kind='bar', color='red')\n",
        "plt.xticks(rotation=0)\n",
        "plt.title('Распределение коробок передач');"
      ]
    },
    {
      "cell_type": "markdown",
      "metadata": {
        "id": "2YqXI2YwyoDl"
      },
      "source": [
        "Ручных коробок передач практически в 5 раз больше"
      ]
    },
    {
      "cell_type": "code",
      "execution_count": 24,
      "metadata": {
        "id": "xSfjEJuIyoDl"
      },
      "outputs": [],
      "source": [
        "df['GearboxUnsorted'] = df['Gearbox'].fillna(value='unsorted')\n",
        "df['Gearbox'] = df['Gearbox'].fillna('manual')"
      ]
    },
    {
      "cell_type": "markdown",
      "metadata": {
        "id": "FtUIAS4byoDm"
      },
      "source": [
        "Сделаю 2 столбца, один будет с неотсортированными коробками, второй с заполненными пустыми значениями на ручную коробку,посмотрю, с какми значениями будет лучше работать модель машинного обучения, хотя можно было бы заморочиться, посмотреть подробнее пропуски и прописать для конкретных моделей, но данных оказалось много, поэтому не буду тратить время, на цену вроде как сильно не влияет."
      ]
    },
    {
      "cell_type": "markdown",
      "metadata": {
        "id": "5h7DgcDWyoDm"
      },
      "source": [
        "**Модель автомобиля**"
      ]
    },
    {
      "cell_type": "code",
      "execution_count": 25,
      "metadata": {
        "colab": {
          "base_uri": "https://localhost:8080/",
          "height": 206
        },
        "id": "TelzLZt8yoDn",
        "outputId": "083a939d-f68f-460c-9803-0c70de29c4c4"
      },
      "outputs": [
        {
          "output_type": "execute_result",
          "data": {
            "text/plain": [
              "             Brand  Model\n",
              "13          jaguar    491\n",
              "17          lancia    448\n",
              "28           rover    404\n",
              "16            lada    210\n",
              "33  sonstige_autos      0"
            ],
            "text/html": [
              "\n",
              "  <div id=\"df-e5bf44c0-9151-446c-b388-fda390614e6a\" class=\"colab-df-container\">\n",
              "    <div>\n",
              "<style scoped>\n",
              "    .dataframe tbody tr th:only-of-type {\n",
              "        vertical-align: middle;\n",
              "    }\n",
              "\n",
              "    .dataframe tbody tr th {\n",
              "        vertical-align: top;\n",
              "    }\n",
              "\n",
              "    .dataframe thead th {\n",
              "        text-align: right;\n",
              "    }\n",
              "</style>\n",
              "<table border=\"1\" class=\"dataframe\">\n",
              "  <thead>\n",
              "    <tr style=\"text-align: right;\">\n",
              "      <th></th>\n",
              "      <th>Brand</th>\n",
              "      <th>Model</th>\n",
              "    </tr>\n",
              "  </thead>\n",
              "  <tbody>\n",
              "    <tr>\n",
              "      <th>13</th>\n",
              "      <td>jaguar</td>\n",
              "      <td>491</td>\n",
              "    </tr>\n",
              "    <tr>\n",
              "      <th>17</th>\n",
              "      <td>lancia</td>\n",
              "      <td>448</td>\n",
              "    </tr>\n",
              "    <tr>\n",
              "      <th>28</th>\n",
              "      <td>rover</td>\n",
              "      <td>404</td>\n",
              "    </tr>\n",
              "    <tr>\n",
              "      <th>16</th>\n",
              "      <td>lada</td>\n",
              "      <td>210</td>\n",
              "    </tr>\n",
              "    <tr>\n",
              "      <th>33</th>\n",
              "      <td>sonstige_autos</td>\n",
              "      <td>0</td>\n",
              "    </tr>\n",
              "  </tbody>\n",
              "</table>\n",
              "</div>\n",
              "    <div class=\"colab-df-buttons\">\n",
              "\n",
              "  <div class=\"colab-df-container\">\n",
              "    <button class=\"colab-df-convert\" onclick=\"convertToInteractive('df-e5bf44c0-9151-446c-b388-fda390614e6a')\"\n",
              "            title=\"Convert this dataframe to an interactive table.\"\n",
              "            style=\"display:none;\">\n",
              "\n",
              "  <svg xmlns=\"http://www.w3.org/2000/svg\" height=\"24px\" viewBox=\"0 -960 960 960\">\n",
              "    <path d=\"M120-120v-720h720v720H120Zm60-500h600v-160H180v160Zm220 220h160v-160H400v160Zm0 220h160v-160H400v160ZM180-400h160v-160H180v160Zm440 0h160v-160H620v160ZM180-180h160v-160H180v160Zm440 0h160v-160H620v160Z\"/>\n",
              "  </svg>\n",
              "    </button>\n",
              "\n",
              "  <style>\n",
              "    .colab-df-container {\n",
              "      display:flex;\n",
              "      gap: 12px;\n",
              "    }\n",
              "\n",
              "    .colab-df-convert {\n",
              "      background-color: #E8F0FE;\n",
              "      border: none;\n",
              "      border-radius: 50%;\n",
              "      cursor: pointer;\n",
              "      display: none;\n",
              "      fill: #1967D2;\n",
              "      height: 32px;\n",
              "      padding: 0 0 0 0;\n",
              "      width: 32px;\n",
              "    }\n",
              "\n",
              "    .colab-df-convert:hover {\n",
              "      background-color: #E2EBFA;\n",
              "      box-shadow: 0px 1px 2px rgba(60, 64, 67, 0.3), 0px 1px 3px 1px rgba(60, 64, 67, 0.15);\n",
              "      fill: #174EA6;\n",
              "    }\n",
              "\n",
              "    .colab-df-buttons div {\n",
              "      margin-bottom: 4px;\n",
              "    }\n",
              "\n",
              "    [theme=dark] .colab-df-convert {\n",
              "      background-color: #3B4455;\n",
              "      fill: #D2E3FC;\n",
              "    }\n",
              "\n",
              "    [theme=dark] .colab-df-convert:hover {\n",
              "      background-color: #434B5C;\n",
              "      box-shadow: 0px 1px 3px 1px rgba(0, 0, 0, 0.15);\n",
              "      filter: drop-shadow(0px 1px 2px rgba(0, 0, 0, 0.3));\n",
              "      fill: #FFFFFF;\n",
              "    }\n",
              "  </style>\n",
              "\n",
              "    <script>\n",
              "      const buttonEl =\n",
              "        document.querySelector('#df-e5bf44c0-9151-446c-b388-fda390614e6a button.colab-df-convert');\n",
              "      buttonEl.style.display =\n",
              "        google.colab.kernel.accessAllowed ? 'block' : 'none';\n",
              "\n",
              "      async function convertToInteractive(key) {\n",
              "        const element = document.querySelector('#df-e5bf44c0-9151-446c-b388-fda390614e6a');\n",
              "        const dataTable =\n",
              "          await google.colab.kernel.invokeFunction('convertToInteractive',\n",
              "                                                    [key], {});\n",
              "        if (!dataTable) return;\n",
              "\n",
              "        const docLinkHtml = 'Like what you see? Visit the ' +\n",
              "          '<a target=\"_blank\" href=https://colab.research.google.com/notebooks/data_table.ipynb>data table notebook</a>'\n",
              "          + ' to learn more about interactive tables.';\n",
              "        element.innerHTML = '';\n",
              "        dataTable['output_type'] = 'display_data';\n",
              "        await google.colab.output.renderOutput(dataTable, element);\n",
              "        const docLink = document.createElement('div');\n",
              "        docLink.innerHTML = docLinkHtml;\n",
              "        element.appendChild(docLink);\n",
              "      }\n",
              "    </script>\n",
              "  </div>\n",
              "\n",
              "\n",
              "<div id=\"df-ad1cd525-1f8e-4b12-a05f-a14cb6129790\">\n",
              "  <button class=\"colab-df-quickchart\" onclick=\"quickchart('df-ad1cd525-1f8e-4b12-a05f-a14cb6129790')\"\n",
              "            title=\"Suggest charts\"\n",
              "            style=\"display:none;\">\n",
              "\n",
              "<svg xmlns=\"http://www.w3.org/2000/svg\" height=\"24px\"viewBox=\"0 0 24 24\"\n",
              "     width=\"24px\">\n",
              "    <g>\n",
              "        <path d=\"M19 3H5c-1.1 0-2 .9-2 2v14c0 1.1.9 2 2 2h14c1.1 0 2-.9 2-2V5c0-1.1-.9-2-2-2zM9 17H7v-7h2v7zm4 0h-2V7h2v10zm4 0h-2v-4h2v4z\"/>\n",
              "    </g>\n",
              "</svg>\n",
              "  </button>\n",
              "\n",
              "<style>\n",
              "  .colab-df-quickchart {\n",
              "      --bg-color: #E8F0FE;\n",
              "      --fill-color: #1967D2;\n",
              "      --hover-bg-color: #E2EBFA;\n",
              "      --hover-fill-color: #174EA6;\n",
              "      --disabled-fill-color: #AAA;\n",
              "      --disabled-bg-color: #DDD;\n",
              "  }\n",
              "\n",
              "  [theme=dark] .colab-df-quickchart {\n",
              "      --bg-color: #3B4455;\n",
              "      --fill-color: #D2E3FC;\n",
              "      --hover-bg-color: #434B5C;\n",
              "      --hover-fill-color: #FFFFFF;\n",
              "      --disabled-bg-color: #3B4455;\n",
              "      --disabled-fill-color: #666;\n",
              "  }\n",
              "\n",
              "  .colab-df-quickchart {\n",
              "    background-color: var(--bg-color);\n",
              "    border: none;\n",
              "    border-radius: 50%;\n",
              "    cursor: pointer;\n",
              "    display: none;\n",
              "    fill: var(--fill-color);\n",
              "    height: 32px;\n",
              "    padding: 0;\n",
              "    width: 32px;\n",
              "  }\n",
              "\n",
              "  .colab-df-quickchart:hover {\n",
              "    background-color: var(--hover-bg-color);\n",
              "    box-shadow: 0 1px 2px rgba(60, 64, 67, 0.3), 0 1px 3px 1px rgba(60, 64, 67, 0.15);\n",
              "    fill: var(--button-hover-fill-color);\n",
              "  }\n",
              "\n",
              "  .colab-df-quickchart-complete:disabled,\n",
              "  .colab-df-quickchart-complete:disabled:hover {\n",
              "    background-color: var(--disabled-bg-color);\n",
              "    fill: var(--disabled-fill-color);\n",
              "    box-shadow: none;\n",
              "  }\n",
              "\n",
              "  .colab-df-spinner {\n",
              "    border: 2px solid var(--fill-color);\n",
              "    border-color: transparent;\n",
              "    border-bottom-color: var(--fill-color);\n",
              "    animation:\n",
              "      spin 1s steps(1) infinite;\n",
              "  }\n",
              "\n",
              "  @keyframes spin {\n",
              "    0% {\n",
              "      border-color: transparent;\n",
              "      border-bottom-color: var(--fill-color);\n",
              "      border-left-color: var(--fill-color);\n",
              "    }\n",
              "    20% {\n",
              "      border-color: transparent;\n",
              "      border-left-color: var(--fill-color);\n",
              "      border-top-color: var(--fill-color);\n",
              "    }\n",
              "    30% {\n",
              "      border-color: transparent;\n",
              "      border-left-color: var(--fill-color);\n",
              "      border-top-color: var(--fill-color);\n",
              "      border-right-color: var(--fill-color);\n",
              "    }\n",
              "    40% {\n",
              "      border-color: transparent;\n",
              "      border-right-color: var(--fill-color);\n",
              "      border-top-color: var(--fill-color);\n",
              "    }\n",
              "    60% {\n",
              "      border-color: transparent;\n",
              "      border-right-color: var(--fill-color);\n",
              "    }\n",
              "    80% {\n",
              "      border-color: transparent;\n",
              "      border-right-color: var(--fill-color);\n",
              "      border-bottom-color: var(--fill-color);\n",
              "    }\n",
              "    90% {\n",
              "      border-color: transparent;\n",
              "      border-bottom-color: var(--fill-color);\n",
              "    }\n",
              "  }\n",
              "</style>\n",
              "\n",
              "  <script>\n",
              "    async function quickchart(key) {\n",
              "      const quickchartButtonEl =\n",
              "        document.querySelector('#' + key + ' button');\n",
              "      quickchartButtonEl.disabled = true;  // To prevent multiple clicks.\n",
              "      quickchartButtonEl.classList.add('colab-df-spinner');\n",
              "      try {\n",
              "        const charts = await google.colab.kernel.invokeFunction(\n",
              "            'suggestCharts', [key], {});\n",
              "      } catch (error) {\n",
              "        console.error('Error during call to suggestCharts:', error);\n",
              "      }\n",
              "      quickchartButtonEl.classList.remove('colab-df-spinner');\n",
              "      quickchartButtonEl.classList.add('colab-df-quickchart-complete');\n",
              "    }\n",
              "    (() => {\n",
              "      let quickchartButtonEl =\n",
              "        document.querySelector('#df-ad1cd525-1f8e-4b12-a05f-a14cb6129790 button');\n",
              "      quickchartButtonEl.style.display =\n",
              "        google.colab.kernel.accessAllowed ? 'block' : 'none';\n",
              "    })();\n",
              "  </script>\n",
              "</div>\n",
              "    </div>\n",
              "  </div>\n"
            ]
          },
          "metadata": {},
          "execution_count": 25
        }
      ],
      "source": [
        "temp = pd.DataFrame(df.groupby(['Brand'])['Model'].count()).reset_index()\n",
        "\n",
        "temp.sort_values(by='Model', ascending=False).tail()"
      ]
    },
    {
      "cell_type": "markdown",
      "metadata": {
        "id": "LEAJHKVbyoDn"
      },
      "source": [
        "sonstige_autos переводчик перевел как \"Другие автомобили\". Видимо моделей таких авто на сайте нет. Для удобства запихну их в other"
      ]
    },
    {
      "cell_type": "code",
      "execution_count": 26,
      "metadata": {
        "colab": {
          "base_uri": "https://localhost:8080/"
        },
        "id": "10oXjtgfyoDn",
        "outputId": "6167fb95-458c-416d-847e-67605bce23c1"
      },
      "outputs": [
        {
          "output_type": "execute_result",
          "data": {
            "text/plain": [
              "3338"
            ]
          },
          "metadata": {},
          "execution_count": 26
        }
      ],
      "source": [
        "len(df.query('Brand == \"sonstige_autos\"'))"
      ]
    },
    {
      "cell_type": "code",
      "execution_count": 27,
      "metadata": {
        "colab": {
          "base_uri": "https://localhost:8080/"
        },
        "id": "wjFMqvFSyoDn",
        "outputId": "51e463ea-9ba1-4ad7-bcdc-39d291ba5651"
      },
      "outputs": [
        {
          "output_type": "execute_result",
          "data": {
            "text/plain": [
              "24403"
            ]
          },
          "metadata": {},
          "execution_count": 27
        }
      ],
      "source": [
        "len(df.loc[df['Model']==\"other\"])"
      ]
    },
    {
      "cell_type": "code",
      "execution_count": 28,
      "metadata": {
        "id": "woJ09px-yoDn"
      },
      "outputs": [],
      "source": [
        "df.loc[df['Brand']=='sonstige_autos', 'Model'] = df.loc[df['Brand']=='sonstige_autos', 'Model'].fillna('other')"
      ]
    },
    {
      "cell_type": "code",
      "execution_count": 29,
      "metadata": {
        "colab": {
          "base_uri": "https://localhost:8080/"
        },
        "id": "P4-IvgiXyoDn",
        "outputId": "c5fba41b-b025-4914-96c9-c7cc82c90b9e"
      },
      "outputs": [
        {
          "output_type": "execute_result",
          "data": {
            "text/plain": [
              "27741"
            ]
          },
          "metadata": {},
          "execution_count": 29
        }
      ],
      "source": [
        "len(df.loc[df['Model']==\"other\"])"
      ]
    },
    {
      "cell_type": "code",
      "execution_count": 30,
      "metadata": {
        "colab": {
          "base_uri": "https://localhost:8080/"
        },
        "id": "6aY29FEXyoDo",
        "outputId": "088e6093-2f4b-4c5f-bf7e-a1acf44b77ea"
      },
      "outputs": [
        {
          "output_type": "execute_result",
          "data": {
            "text/plain": [
              "16292"
            ]
          },
          "metadata": {},
          "execution_count": 30
        }
      ],
      "source": [
        "df['Model'].isna().sum()"
      ]
    },
    {
      "cell_type": "markdown",
      "metadata": {
        "id": "WtPOfIq9yoDo"
      },
      "source": [
        "Пропуски, как и писал выше, заполню на основе лямбда функции самыми частыми представителями брендов."
      ]
    },
    {
      "cell_type": "code",
      "execution_count": 31,
      "metadata": {
        "id": "VO6o4d9kyoDo"
      },
      "outputs": [],
      "source": [
        "mod_dict = df.groupby(['Brand'])['Model'].apply(lambda x: x.mode()[0])\n",
        "\n",
        "df['Model'] = df['Model'].fillna(df['Brand'].map(mod_dict))"
      ]
    },
    {
      "cell_type": "code",
      "execution_count": 32,
      "metadata": {
        "colab": {
          "base_uri": "https://localhost:8080/"
        },
        "id": "QRyEKrRhyoDo",
        "outputId": "1b2f832b-83a2-4798-fb0a-e5b818d762b1"
      },
      "outputs": [
        {
          "output_type": "execute_result",
          "data": {
            "text/plain": [
              "0"
            ]
          },
          "metadata": {},
          "execution_count": 32
        }
      ],
      "source": [
        "df['Model'].isna().sum()"
      ]
    },
    {
      "cell_type": "code",
      "execution_count": 33,
      "metadata": {
        "scrolled": true,
        "colab": {
          "base_uri": "https://localhost:8080/"
        },
        "id": "O7iMSactyoDo",
        "outputId": "da569bac-f146-4b69-c7ec-4dab2f9a268e"
      },
      "outputs": [
        {
          "output_type": "execute_result",
          "data": {
            "text/plain": [
              "DateCrawled              0\n",
              "MonthCreated             0\n",
              "LastSeen                 0\n",
              "PostalCode               0\n",
              "NumberOfPictures         0\n",
              "DateCreated              0\n",
              "Brand                    0\n",
              "YearCreated              0\n",
              "GearboxUnsorted          0\n",
              "Kilometer                0\n",
              "Model                    0\n",
              "Power                    0\n",
              "Gearbox                  0\n",
              "RegistrationYear         0\n",
              "Price                    0\n",
              "RegistrationMonth        0\n",
              "FuelType             32767\n",
              "VehicleType          37319\n",
              "Repaired             71007\n",
              "dtype: int64"
            ]
          },
          "metadata": {},
          "execution_count": 33
        }
      ],
      "source": [
        "df.isna().sum().sort_values()"
      ]
    },
    {
      "cell_type": "markdown",
      "metadata": {
        "id": "HAWBRL4dyoDo"
      },
      "source": [
        "**Модель кузова**"
      ]
    },
    {
      "cell_type": "code",
      "execution_count": 34,
      "metadata": {
        "id": "uenqaPDlyoDp"
      },
      "outputs": [],
      "source": [
        "vt_dict = dict(df.groupby(['Model'])['VehicleType'].apply(lambda x: x.mode()[0]))\n",
        "\n",
        "df['VehicleType'] = df['VehicleType'].fillna(df['Model'].map(vt_dict))"
      ]
    },
    {
      "cell_type": "markdown",
      "metadata": {
        "id": "XVg1lNcKyoDp"
      },
      "source": [
        "Проделал тоже самое, на основе лямбда функции."
      ]
    },
    {
      "cell_type": "code",
      "execution_count": 35,
      "metadata": {
        "colab": {
          "base_uri": "https://localhost:8080/"
        },
        "id": "kEReajB5yoDp",
        "outputId": "e5c9e7d3-43e9-488d-9895-d178a54f935a"
      },
      "outputs": [
        {
          "output_type": "execute_result",
          "data": {
            "text/plain": [
              "DateCrawled              0\n",
              "MonthCreated             0\n",
              "LastSeen                 0\n",
              "PostalCode               0\n",
              "NumberOfPictures         0\n",
              "DateCreated              0\n",
              "Brand                    0\n",
              "YearCreated              0\n",
              "GearboxUnsorted          0\n",
              "Kilometer                0\n",
              "Model                    0\n",
              "Power                    0\n",
              "Gearbox                  0\n",
              "RegistrationYear         0\n",
              "VehicleType              0\n",
              "Price                    0\n",
              "RegistrationMonth        0\n",
              "FuelType             32767\n",
              "Repaired             71007\n",
              "dtype: int64"
            ]
          },
          "metadata": {},
          "execution_count": 35
        }
      ],
      "source": [
        "df.isna().sum().sort_values()"
      ]
    },
    {
      "cell_type": "markdown",
      "metadata": {
        "id": "tfByjidpyoDp"
      },
      "source": [
        "**Тип топлива**"
      ]
    },
    {
      "cell_type": "code",
      "execution_count": 36,
      "metadata": {
        "colab": {
          "base_uri": "https://localhost:8080/"
        },
        "id": "WAbJ3nKDyoDp",
        "outputId": "e9833187-ad00-476f-a08a-60b24bd7f716"
      },
      "outputs": [
        {
          "output_type": "execute_result",
          "data": {
            "text/plain": [
              "petrol      216318\n",
              "gasoline     98713\n",
              "lpg           5310\n",
              "cng            564\n",
              "hybrid         233\n",
              "other          203\n",
              "electric        90\n",
              "Name: FuelType, dtype: int64"
            ]
          },
          "metadata": {},
          "execution_count": 36
        }
      ],
      "source": [
        "df['FuelType'].value_counts()"
      ]
    },
    {
      "cell_type": "markdown",
      "metadata": {
        "id": "admhqHGTyoDq"
      },
      "source": [
        "Типы топлива адекватные, поэтому спасаемся от пропусков великой лямбда функцией."
      ]
    },
    {
      "cell_type": "code",
      "execution_count": 37,
      "metadata": {
        "colab": {
          "base_uri": "https://localhost:8080/"
        },
        "id": "fPhY1y1oyoDq",
        "outputId": "31218d4a-b7d9-410a-e021-2f84fcf99820"
      },
      "outputs": [
        {
          "output_type": "execute_result",
          "data": {
            "text/plain": [
              "array(['gasoline', 'petrol'], dtype=object)"
            ]
          },
          "metadata": {},
          "execution_count": 37
        }
      ],
      "source": [
        "fuel_dict = df.groupby(['Model'])['FuelType'].apply(lambda x: x.mode()[0])\n",
        "\n",
        "np.unique(fuel_dict.values)"
      ]
    },
    {
      "cell_type": "code",
      "execution_count": 38,
      "metadata": {
        "colab": {
          "base_uri": "https://localhost:8080/"
        },
        "id": "LBA1FKbFyoDq",
        "outputId": "b8facd4e-d526-4430-9bc4-336230f48454"
      },
      "outputs": [
        {
          "output_type": "execute_result",
          "data": {
            "text/plain": [
              "32767"
            ]
          },
          "metadata": {},
          "execution_count": 38
        }
      ],
      "source": [
        "df['FuelType'].isna().sum()"
      ]
    },
    {
      "cell_type": "code",
      "execution_count": 39,
      "metadata": {
        "id": "g5NkBcbmyoDq"
      },
      "outputs": [],
      "source": [
        "df['FuelType'] = df['FuelType'].fillna(df['Model'].map(fuel_dict))"
      ]
    },
    {
      "cell_type": "code",
      "execution_count": 40,
      "metadata": {
        "colab": {
          "base_uri": "https://localhost:8080/"
        },
        "id": "Z8w8mEYByoDq",
        "outputId": "01b995c6-feda-43c5-e9ee-37e91193627a"
      },
      "outputs": [
        {
          "output_type": "execute_result",
          "data": {
            "text/plain": [
              "0"
            ]
          },
          "metadata": {},
          "execution_count": 40
        }
      ],
      "source": [
        "df['FuelType'].isna().sum()"
      ]
    },
    {
      "cell_type": "code",
      "execution_count": 41,
      "metadata": {
        "scrolled": true,
        "colab": {
          "base_uri": "https://localhost:8080/"
        },
        "id": "PZqtdWLfyoDq",
        "outputId": "2c909af9-4fba-460f-997d-19f2cd21c35d"
      },
      "outputs": [
        {
          "output_type": "stream",
          "name": "stdout",
          "text": [
            "<class 'pandas.core.frame.DataFrame'>\n",
            "Int64Index: 354198 entries, 0 to 354368\n",
            "Data columns (total 19 columns):\n",
            " #   Column             Non-Null Count   Dtype         \n",
            "---  ------             --------------   -----         \n",
            " 0   DateCrawled        354198 non-null  object        \n",
            " 1   Price              354198 non-null  int64         \n",
            " 2   VehicleType        354198 non-null  object        \n",
            " 3   RegistrationYear   354198 non-null  int64         \n",
            " 4   Gearbox            354198 non-null  object        \n",
            " 5   Power              354198 non-null  int64         \n",
            " 6   Model              354198 non-null  object        \n",
            " 7   Kilometer          354198 non-null  int64         \n",
            " 8   RegistrationMonth  354198 non-null  int64         \n",
            " 9   FuelType           354198 non-null  object        \n",
            " 10  Brand              354198 non-null  object        \n",
            " 11  Repaired           283191 non-null  object        \n",
            " 12  DateCreated        354198 non-null  datetime64[ns]\n",
            " 13  NumberOfPictures   354198 non-null  int64         \n",
            " 14  PostalCode         354198 non-null  int64         \n",
            " 15  LastSeen           354198 non-null  object        \n",
            " 16  MonthCreated       354198 non-null  int64         \n",
            " 17  YearCreated        354198 non-null  int64         \n",
            " 18  GearboxUnsorted    354198 non-null  object        \n",
            "dtypes: datetime64[ns](1), int64(9), object(9)\n",
            "memory usage: 54.0+ MB\n"
          ]
        }
      ],
      "source": [
        "df.info()"
      ]
    },
    {
      "cell_type": "markdown",
      "metadata": {
        "id": "_jftRMpyyoDr"
      },
      "source": [
        "**Избавление от дубликантов**"
      ]
    },
    {
      "cell_type": "code",
      "execution_count": 42,
      "metadata": {
        "id": "ARAJdJmeyoDr"
      },
      "outputs": [],
      "source": [
        "df = df.drop_duplicates()"
      ]
    },
    {
      "cell_type": "markdown",
      "metadata": {
        "id": "7P_SIlTCyoDr"
      },
      "source": [
        "Дропнул дубликанты."
      ]
    },
    {
      "cell_type": "code",
      "execution_count": 43,
      "metadata": {
        "scrolled": true,
        "colab": {
          "base_uri": "https://localhost:8080/"
        },
        "id": "dQhHVvfdyoDr",
        "outputId": "46f8ddc5-1fb5-4333-8b37-416e44b1970a"
      },
      "outputs": [
        {
          "output_type": "stream",
          "name": "stdout",
          "text": [
            "<class 'pandas.core.frame.DataFrame'>\n",
            "Int64Index: 354194 entries, 0 to 354368\n",
            "Data columns (total 19 columns):\n",
            " #   Column             Non-Null Count   Dtype         \n",
            "---  ------             --------------   -----         \n",
            " 0   DateCrawled        354194 non-null  object        \n",
            " 1   Price              354194 non-null  int64         \n",
            " 2   VehicleType        354194 non-null  object        \n",
            " 3   RegistrationYear   354194 non-null  int64         \n",
            " 4   Gearbox            354194 non-null  object        \n",
            " 5   Power              354194 non-null  int64         \n",
            " 6   Model              354194 non-null  object        \n",
            " 7   Kilometer          354194 non-null  int64         \n",
            " 8   RegistrationMonth  354194 non-null  int64         \n",
            " 9   FuelType           354194 non-null  object        \n",
            " 10  Brand              354194 non-null  object        \n",
            " 11  Repaired           283187 non-null  object        \n",
            " 12  DateCreated        354194 non-null  datetime64[ns]\n",
            " 13  NumberOfPictures   354194 non-null  int64         \n",
            " 14  PostalCode         354194 non-null  int64         \n",
            " 15  LastSeen           354194 non-null  object        \n",
            " 16  MonthCreated       354194 non-null  int64         \n",
            " 17  YearCreated        354194 non-null  int64         \n",
            " 18  GearboxUnsorted    354194 non-null  object        \n",
            "dtypes: datetime64[ns](1), int64(9), object(9)\n",
            "memory usage: 54.0+ MB\n"
          ]
        }
      ],
      "source": [
        "df.info()"
      ]
    },
    {
      "cell_type": "markdown",
      "metadata": {
        "id": "kjElIaCmyoDr"
      },
      "source": [
        "**Мощность двигателя**"
      ]
    },
    {
      "cell_type": "code",
      "execution_count": 44,
      "metadata": {
        "colab": {
          "base_uri": "https://localhost:8080/",
          "height": 566
        },
        "id": "b783XYk9yoDs",
        "outputId": "cb28660d-430e-439e-f1cf-5cb9242ded8d"
      },
      "outputs": [
        {
          "output_type": "display_data",
          "data": {
            "text/plain": [
              "<Figure size 1200x600 with 1 Axes>"
            ],
            "image/png": "[encoded data removed]"
          },
          "metadata": {}
        }
      ],
      "source": [
        "plt.figure(figsize=(12,6))\n",
        "sns.distplot(df['Power'])\n",
        "plt.xlabel('Мощность двигателя, л.с.')\n",
        "plt.ylabel('Количество авто, шт.')\n",
        "plt.title('Распределение мощности двигателя',size=15);"
      ]
    },
    {
      "cell_type": "markdown",
      "metadata": {
        "id": "uWqWVHzQyoDs"
      },
      "source": [
        "Есть нулевые значения и очень большие. Сомневаюсь, что там ядерный двигатель)"
      ]
    },
    {
      "cell_type": "code",
      "execution_count": 45,
      "metadata": {
        "colab": {
          "base_uri": "https://localhost:8080/",
          "height": 791
        },
        "id": "l3Ck4GxZyoDs",
        "outputId": "1e91c9a4-a876-4958-dd78-dd8a694555e9"
      },
      "outputs": [
        {
          "output_type": "execute_result",
          "data": {
            "text/plain": [
              "                DateCrawled  Price VehicleType  RegistrationYear Gearbox  \\\n",
              "1816    2016-03-22 20:52:00   3200       small              2004  manual   \n",
              "2102    2016-03-21 11:55:22      0       sedan              1999  manual   \n",
              "2781    2016-03-16 00:37:16  19500         suv              2004    auto   \n",
              "3289    2016-03-10 17:46:47  16899       wagon              2003    auto   \n",
              "3746    2016-03-21 14:48:31      0       small              2017  manual   \n",
              "...                     ...    ...         ...               ...     ...   \n",
              "353493  2016-04-02 20:54:21  12500       sedan              2017  manual   \n",
              "353633  2016-03-23 23:55:21   2400       sedan              2007  manual   \n",
              "354045  2016-03-22 20:48:48  20000       coupe              2006    auto   \n",
              "354260  2016-03-09 17:59:03    399       other              1994  manual   \n",
              "354337  2016-03-26 14:38:18  11500       sedan              2004    auto   \n",
              "\n",
              "        Power     Model  Kilometer  RegistrationMonth  FuelType  \\\n",
              "1816     1398   corolla       5000                  6    petrol   \n",
              "2102     1799    vectra     150000                  1    petrol   \n",
              "2781      450   cayenne     125000                 12    petrol   \n",
              "3289      476  e_klasse     150000                  9    petrol   \n",
              "3746      750    fortwo     150000                  8    petrol   \n",
              "...       ...       ...        ...                ...       ...   \n",
              "353493   2000     other      60000                  0  gasoline   \n",
              "353633    650        c2     150000                  8    petrol   \n",
              "354045    476     other     125000                  7    petrol   \n",
              "354260   1103       3er     150000                  0    petrol   \n",
              "354337    445       7er     125000                  0    petrol   \n",
              "\n",
              "                Brand Repaired DateCreated  NumberOfPictures  PostalCode  \\\n",
              "1816           toyota       no  2016-03-22                 0       22043   \n",
              "2102             opel      yes  2016-03-21                 0        1723   \n",
              "2781          porsche       no  2016-03-16                 0       38448   \n",
              "3289    mercedes_benz       no  2016-03-10                 0       44319   \n",
              "3746            smart       no  2016-03-21                 0       49356   \n",
              "...               ...      ...         ...               ...         ...   \n",
              "353493       chrysler       no  2016-04-02                 0       44145   \n",
              "353633        citroen      NaN  2016-03-23                 0       45277   \n",
              "354045  mercedes_benz       no  2016-03-22                 0       38118   \n",
              "354260            bmw      NaN  2016-03-09                 0       56235   \n",
              "354337            bmw      NaN  2016-03-26                 0        4107   \n",
              "\n",
              "                   LastSeen  MonthCreated  YearCreated GearboxUnsorted  \n",
              "1816    2016-03-22 21:43:26             1         2016          manual  \n",
              "2102    2016-04-04 04:49:06             0         2016        unsorted  \n",
              "2781    2016-04-01 22:47:31             2         2016            auto  \n",
              "3289    2016-04-03 18:47:41             3         2016            auto  \n",
              "3746    2016-03-24 03:44:59             0         2016          manual  \n",
              "...                     ...           ...          ...             ...  \n",
              "353493  2016-04-06 21:44:39             5         2016          manual  \n",
              "353633  2016-03-27 01:15:17             2         2016          manual  \n",
              "354045  2016-03-24 05:16:02             1         2016            auto  \n",
              "354260  2016-03-17 09:17:08             2         2016        unsorted  \n",
              "354337  2016-04-06 20:45:16             5         2016            auto  \n",
              "\n",
              "[725 rows x 19 columns]"
            ],
            "text/html": [
              "\n",
              "  <div id=\"df-4bb2de49-b557-4e5e-aad4-51fb8220bfa1\" class=\"colab-df-container\">\n",
              "    <div>\n",
              "<style scoped>\n",
              "    .dataframe tbody tr th:only-of-type {\n",
              "        vertical-align: middle;\n",
              "    }\n",
              "\n",
              "    .dataframe tbody tr th {\n",
              "        vertical-align: top;\n",
              "    }\n",
              "\n",
              "    .dataframe thead th {\n",
              "        text-align: right;\n",
              "    }\n",
              "</style>\n",
              "<table border=\"1\" class=\"dataframe\">\n",
              "  <thead>\n",
              "    <tr style=\"text-align: right;\">\n",
              "      <th></th>\n",
              "      <th>DateCrawled</th>\n",
              "      <th>Price</th>\n",
              "      <th>VehicleType</th>\n",
              "      <th>RegistrationYear</th>\n",
              "      <th>Gearbox</th>\n",
              "      <th>Power</th>\n",
              "      <th>Model</th>\n",
              "      <th>Kilometer</th>\n",
              "      <th>RegistrationMonth</th>\n",
              "      <th>FuelType</th>\n",
              "      <th>Brand</th>\n",
              "      <th>Repaired</th>\n",
              "      <th>DateCreated</th>\n",
              "      <th>NumberOfPictures</th>\n",
              "      <th>PostalCode</th>\n",
              "      <th>LastSeen</th>\n",
              "      <th>MonthCreated</th>\n",
              "      <th>YearCreated</th>\n",
              "      <th>GearboxUnsorted</th>\n",
              "    </tr>\n",
              "  </thead>\n",
              "  <tbody>\n",
              "    <tr>\n",
              "      <th>1816</th>\n",
              "      <td>2016-03-22 20:52:00</td>\n",
              "      <td>3200</td>\n",
              "      <td>small</td>\n",
              "      <td>2004</td>\n",
              "      <td>manual</td>\n",
              "      <td>1398</td>\n",
              "      <td>corolla</td>\n",
              "      <td>5000</td>\n",
              "      <td>6</td>\n",
              "      <td>petrol</td>\n",
              "      <td>toyota</td>\n",
              "      <td>no</td>\n",
              "      <td>2016-03-22</td>\n",
              "      <td>0</td>\n",
              "      <td>22043</td>\n",
              "      <td>2016-03-22 21:43:26</td>\n",
              "      <td>1</td>\n",
              "      <td>2016</td>\n",
              "      <td>manual</td>\n",
              "    </tr>\n",
              "    <tr>\n",
              "      <th>2102</th>\n",
              "      <td>2016-03-21 11:55:22</td>\n",
              "      <td>0</td>\n",
              "      <td>sedan</td>\n",
              "      <td>1999</td>\n",
              "      <td>manual</td>\n",
              "      <td>1799</td>\n",
              "      <td>vectra</td>\n",
              "      <td>150000</td>\n",
              "      <td>1</td>\n",
              "      <td>petrol</td>\n",
              "      <td>opel</td>\n",
              "      <td>yes</td>\n",
              "      <td>2016-03-21</td>\n",
              "      <td>0</td>\n",
              "      <td>1723</td>\n",
              "      <td>2016-04-04 04:49:06</td>\n",
              "      <td>0</td>\n",
              "      <td>2016</td>\n",
              "      <td>unsorted</td>\n",
              "    </tr>\n",
              "    <tr>\n",
              "      <th>2781</th>\n",
              "      <td>2016-03-16 00:37:16</td>\n",
              "      <td>19500</td>\n",
              "      <td>suv</td>\n",
              "      <td>2004</td>\n",
              "      <td>auto</td>\n",
              "      <td>450</td>\n",
              "      <td>cayenne</td>\n",
              "      <td>125000</td>\n",
              "      <td>12</td>\n",
              "      <td>petrol</td>\n",
              "      <td>porsche</td>\n",
              "      <td>no</td>\n",
              "      <td>2016-03-16</td>\n",
              "      <td>0</td>\n",
              "      <td>38448</td>\n",
              "      <td>2016-04-01 22:47:31</td>\n",
              "      <td>2</td>\n",
              "      <td>2016</td>\n",
              "      <td>auto</td>\n",
              "    </tr>\n",
              "    <tr>\n",
              "      <th>3289</th>\n",
              "      <td>2016-03-10 17:46:47</td>\n",
              "      <td>16899</td>\n",
              "      <td>wagon</td>\n",
              "      <td>2003</td>\n",
              "      <td>auto</td>\n",
              "      <td>476</td>\n",
              "      <td>e_klasse</td>\n",
              "      <td>150000</td>\n",
              "      <td>9</td>\n",
              "      <td>petrol</td>\n",
              "      <td>mercedes_benz</td>\n",
              "      <td>no</td>\n",
              "      <td>2016-03-10</td>\n",
              "      <td>0</td>\n",
              "      <td>44319</td>\n",
              "      <td>2016-04-03 18:47:41</td>\n",
              "      <td>3</td>\n",
              "      <td>2016</td>\n",
              "      <td>auto</td>\n",
              "    </tr>\n",
              "    <tr>\n",
              "      <th>3746</th>\n",
              "      <td>2016-03-21 14:48:31</td>\n",
              "      <td>0</td>\n",
              "      <td>small</td>\n",
              "      <td>2017</td>\n",
              "      <td>manual</td>\n",
              "      <td>750</td>\n",
              "      <td>fortwo</td>\n",
              "      <td>150000</td>\n",
              "      <td>8</td>\n",
              "      <td>petrol</td>\n",
              "      <td>smart</td>\n",
              "      <td>no</td>\n",
              "      <td>2016-03-21</td>\n",
              "      <td>0</td>\n",
              "      <td>49356</td>\n",
              "      <td>2016-03-24 03:44:59</td>\n",
              "      <td>0</td>\n",
              "      <td>2016</td>\n",
              "      <td>manual</td>\n",
              "    </tr>\n",
              "    <tr>\n",
              "      <th>...</th>\n",
              "      <td>...</td>\n",
              "      <td>...</td>\n",
              "      <td>...</td>\n",
              "      <td>...</td>\n",
              "      <td>...</td>\n",
              "      <td>...</td>\n",
              "      <td>...</td>\n",
              "      <td>...</td>\n",
              "      <td>...</td>\n",
              "      <td>...</td>\n",
              "      <td>...</td>\n",
              "      <td>...</td>\n",
              "      <td>...</td>\n",
              "      <td>...</td>\n",
              "      <td>...</td>\n",
              "      <td>...</td>\n",
              "      <td>...</td>\n",
              "      <td>...</td>\n",
              "      <td>...</td>\n",
              "    </tr>\n",
              "    <tr>\n",
              "      <th>353493</th>\n",
              "      <td>2016-04-02 20:54:21</td>\n",
              "      <td>12500</td>\n",
              "      <td>sedan</td>\n",
              "      <td>2017</td>\n",
              "      <td>manual</td>\n",
              "      <td>2000</td>\n",
              "      <td>other</td>\n",
              "      <td>60000</td>\n",
              "      <td>0</td>\n",
              "      <td>gasoline</td>\n",
              "      <td>chrysler</td>\n",
              "      <td>no</td>\n",
              "      <td>2016-04-02</td>\n",
              "      <td>0</td>\n",
              "      <td>44145</td>\n",
              "      <td>2016-04-06 21:44:39</td>\n",
              "      <td>5</td>\n",
              "      <td>2016</td>\n",
              "      <td>manual</td>\n",
              "    </tr>\n",
              "    <tr>\n",
              "      <th>353633</th>\n",
              "      <td>2016-03-23 23:55:21</td>\n",
              "      <td>2400</td>\n",
              "      <td>sedan</td>\n",
              "      <td>2007</td>\n",
              "      <td>manual</td>\n",
              "      <td>650</td>\n",
              "      <td>c2</td>\n",
              "      <td>150000</td>\n",
              "      <td>8</td>\n",
              "      <td>petrol</td>\n",
              "      <td>citroen</td>\n",
              "      <td>NaN</td>\n",
              "      <td>2016-03-23</td>\n",
              "      <td>0</td>\n",
              "      <td>45277</td>\n",
              "      <td>2016-03-27 01:15:17</td>\n",
              "      <td>2</td>\n",
              "      <td>2016</td>\n",
              "      <td>manual</td>\n",
              "    </tr>\n",
              "    <tr>\n",
              "      <th>354045</th>\n",
              "      <td>2016-03-22 20:48:48</td>\n",
              "      <td>20000</td>\n",
              "      <td>coupe</td>\n",
              "      <td>2006</td>\n",
              "      <td>auto</td>\n",
              "      <td>476</td>\n",
              "      <td>other</td>\n",
              "      <td>125000</td>\n",
              "      <td>7</td>\n",
              "      <td>petrol</td>\n",
              "      <td>mercedes_benz</td>\n",
              "      <td>no</td>\n",
              "      <td>2016-03-22</td>\n",
              "      <td>0</td>\n",
              "      <td>38118</td>\n",
              "      <td>2016-03-24 05:16:02</td>\n",
              "      <td>1</td>\n",
              "      <td>2016</td>\n",
              "      <td>auto</td>\n",
              "    </tr>\n",
              "    <tr>\n",
              "      <th>354260</th>\n",
              "      <td>2016-03-09 17:59:03</td>\n",
              "      <td>399</td>\n",
              "      <td>other</td>\n",
              "      <td>1994</td>\n",
              "      <td>manual</td>\n",
              "      <td>1103</td>\n",
              "      <td>3er</td>\n",
              "      <td>150000</td>\n",
              "      <td>0</td>\n",
              "      <td>petrol</td>\n",
              "      <td>bmw</td>\n",
              "      <td>NaN</td>\n",
              "      <td>2016-03-09</td>\n",
              "      <td>0</td>\n",
              "      <td>56235</td>\n",
              "      <td>2016-03-17 09:17:08</td>\n",
              "      <td>2</td>\n",
              "      <td>2016</td>\n",
              "      <td>unsorted</td>\n",
              "    </tr>\n",
              "    <tr>\n",
              "      <th>354337</th>\n",
              "      <td>2016-03-26 14:38:18</td>\n",
              "      <td>11500</td>\n",
              "      <td>sedan</td>\n",
              "      <td>2004</td>\n",
              "      <td>auto</td>\n",
              "      <td>445</td>\n",
              "      <td>7er</td>\n",
              "      <td>125000</td>\n",
              "      <td>0</td>\n",
              "      <td>petrol</td>\n",
              "      <td>bmw</td>\n",
              "      <td>NaN</td>\n",
              "      <td>2016-03-26</td>\n",
              "      <td>0</td>\n",
              "      <td>4107</td>\n",
              "      <td>2016-04-06 20:45:16</td>\n",
              "      <td>5</td>\n",
              "      <td>2016</td>\n",
              "      <td>auto</td>\n",
              "    </tr>\n",
              "  </tbody>\n",
              "</table>\n",
              "<p>725 rows × 19 columns</p>\n",
              "</div>\n",
              "    <div class=\"colab-df-buttons\">\n",
              "\n",
              "  <div class=\"colab-df-container\">\n",
              "    <button class=\"colab-df-convert\" onclick=\"convertToInteractive('df-4bb2de49-b557-4e5e-aad4-51fb8220bfa1')\"\n",
              "            title=\"Convert this dataframe to an interactive table.\"\n",
              "            style=\"display:none;\">\n",
              "\n",
              "  <svg xmlns=\"http://www.w3.org/2000/svg\" height=\"24px\" viewBox=\"0 -960 960 960\">\n",
              "    <path d=\"M120-120v-720h720v720H120Zm60-500h600v-160H180v160Zm220 220h160v-160H400v160Zm0 220h160v-160H400v160ZM180-400h160v-160H180v160Zm440 0h160v-160H620v160ZM180-180h160v-160H180v160Zm440 0h160v-160H620v160Z\"/>\n",
              "  </svg>\n",
              "    </button>\n",
              "\n",
              "  <style>\n",
              "    .colab-df-container {\n",
              "      display:flex;\n",
              "      gap: 12px;\n",
              "    }\n",
              "\n",
              "    .colab-df-convert {\n",
              "      background-color: #E8F0FE;\n",
              "      border: none;\n",
              "      border-radius: 50%;\n",
              "      cursor: pointer;\n",
              "      display: none;\n",
              "      fill: #1967D2;\n",
              "      height: 32px;\n",
              "      padding: 0 0 0 0;\n",
              "      width: 32px;\n",
              "    }\n",
              "\n",
              "    .colab-df-convert:hover {\n",
              "      background-color: #E2EBFA;\n",
              "      box-shadow: 0px 1px 2px rgba(60, 64, 67, 0.3), 0px 1px 3px 1px rgba(60, 64, 67, 0.15);\n",
              "      fill: #174EA6;\n",
              "    }\n",
              "\n",
              "    .colab-df-buttons div {\n",
              "      margin-bottom: 4px;\n",
              "    }\n",
              "\n",
              "    [theme=dark] .colab-df-convert {\n",
              "      background-color: #3B4455;\n",
              "      fill: #D2E3FC;\n",
              "    }\n",
              "\n",
              "    [theme=dark] .colab-df-convert:hover {\n",
              "      background-color: #434B5C;\n",
              "      box-shadow: 0px 1px 3px 1px rgba(0, 0, 0, 0.15);\n",
              "      filter: drop-shadow(0px 1px 2px rgba(0, 0, 0, 0.3));\n",
              "      fill: #FFFFFF;\n",
              "    }\n",
              "  </style>\n",
              "\n",
              "    <script>\n",
              "      const buttonEl =\n",
              "        document.querySelector('#df-4bb2de49-b557-4e5e-aad4-51fb8220bfa1 button.colab-df-convert');\n",
              "      buttonEl.style.display =\n",
              "        google.colab.kernel.accessAllowed ? 'block' : 'none';\n",
              "\n",
              "      async function convertToInteractive(key) {\n",
              "        const element = document.querySelector('#df-4bb2de49-b557-4e5e-aad4-51fb8220bfa1');\n",
              "        const dataTable =\n",
              "          await google.colab.kernel.invokeFunction('convertToInteractive',\n",
              "                                                    [key], {});\n",
              "        if (!dataTable) return;\n",
              "\n",
              "        const docLinkHtml = 'Like what you see? Visit the ' +\n",
              "          '<a target=\"_blank\" href=https://colab.research.google.com/notebooks/data_table.ipynb>data table notebook</a>'\n",
              "          + ' to learn more about interactive tables.';\n",
              "        element.innerHTML = '';\n",
              "        dataTable['output_type'] = 'display_data';\n",
              "        await google.colab.output.renderOutput(dataTable, element);\n",
              "        const docLink = document.createElement('div');\n",
              "        docLink.innerHTML = docLinkHtml;\n",
              "        element.appendChild(docLink);\n",
              "      }\n",
              "    </script>\n",
              "  </div>\n",
              "\n",
              "\n",
              "<div id=\"df-b6d0bb07-8c71-4373-98e6-c0449253fd23\">\n",
              "  <button class=\"colab-df-quickchart\" onclick=\"quickchart('df-b6d0bb07-8c71-4373-98e6-c0449253fd23')\"\n",
              "            title=\"Suggest charts\"\n",
              "            style=\"display:none;\">\n",
              "\n",
              "<svg xmlns=\"http://www.w3.org/2000/svg\" height=\"24px\"viewBox=\"0 0 24 24\"\n",
              "     width=\"24px\">\n",
              "    <g>\n",
              "        <path d=\"M19 3H5c-1.1 0-2 .9-2 2v14c0 1.1.9 2 2 2h14c1.1 0 2-.9 2-2V5c0-1.1-.9-2-2-2zM9 17H7v-7h2v7zm4 0h-2V7h2v10zm4 0h-2v-4h2v4z\"/>\n",
              "    </g>\n",
              "</svg>\n",
              "  </button>\n",
              "\n",
              "<style>\n",
              "  .colab-df-quickchart {\n",
              "      --bg-color: #E8F0FE;\n",
              "      --fill-color: #1967D2;\n",
              "      --hover-bg-color: #E2EBFA;\n",
              "      --hover-fill-color: #174EA6;\n",
              "      --disabled-fill-color: #AAA;\n",
              "      --disabled-bg-color: #DDD;\n",
              "  }\n",
              "\n",
              "  [theme=dark] .colab-df-quickchart {\n",
              "      --bg-color: #3B4455;\n",
              "      --fill-color: #D2E3FC;\n",
              "      --hover-bg-color: #434B5C;\n",
              "      --hover-fill-color: #FFFFFF;\n",
              "      --disabled-bg-color: #3B4455;\n",
              "      --disabled-fill-color: #666;\n",
              "  }\n",
              "\n",
              "  .colab-df-quickchart {\n",
              "    background-color: var(--bg-color);\n",
              "    border: none;\n",
              "    border-radius: 50%;\n",
              "    cursor: pointer;\n",
              "    display: none;\n",
              "    fill: var(--fill-color);\n",
              "    height: 32px;\n",
              "    padding: 0;\n",
              "    width: 32px;\n",
              "  }\n",
              "\n",
              "  .colab-df-quickchart:hover {\n",
              "    background-color: var(--hover-bg-color);\n",
              "    box-shadow: 0 1px 2px rgba(60, 64, 67, 0.3), 0 1px 3px 1px rgba(60, 64, 67, 0.15);\n",
              "    fill: var(--button-hover-fill-color);\n",
              "  }\n",
              "\n",
              "  .colab-df-quickchart-complete:disabled,\n",
              "  .colab-df-quickchart-complete:disabled:hover {\n",
              "    background-color: var(--disabled-bg-color);\n",
              "    fill: var(--disabled-fill-color);\n",
              "    box-shadow: none;\n",
              "  }\n",
              "\n",
              "  .colab-df-spinner {\n",
              "    border: 2px solid var(--fill-color);\n",
              "    border-color: transparent;\n",
              "    border-bottom-color: var(--fill-color);\n",
              "    animation:\n",
              "      spin 1s steps(1) infinite;\n",
              "  }\n",
              "\n",
              "  @keyframes spin {\n",
              "    0% {\n",
              "      border-color: transparent;\n",
              "      border-bottom-color: var(--fill-color);\n",
              "      border-left-color: var(--fill-color);\n",
              "    }\n",
              "    20% {\n",
              "      border-color: transparent;\n",
              "      border-left-color: var(--fill-color);\n",
              "      border-top-color: var(--fill-color);\n",
              "    }\n",
              "    30% {\n",
              "      border-color: transparent;\n",
              "      border-left-color: var(--fill-color);\n",
              "      border-top-color: var(--fill-color);\n",
              "      border-right-color: var(--fill-color);\n",
              "    }\n",
              "    40% {\n",
              "      border-color: transparent;\n",
              "      border-right-color: var(--fill-color);\n",
              "      border-top-color: var(--fill-color);\n",
              "    }\n",
              "    60% {\n",
              "      border-color: transparent;\n",
              "      border-right-color: var(--fill-color);\n",
              "    }\n",
              "    80% {\n",
              "      border-color: transparent;\n",
              "      border-right-color: var(--fill-color);\n",
              "      border-bottom-color: var(--fill-color);\n",
              "    }\n",
              "    90% {\n",
              "      border-color: transparent;\n",
              "      border-bottom-color: var(--fill-color);\n",
              "    }\n",
              "  }\n",
              "</style>\n",
              "\n",
              "  <script>\n",
              "    async function quickchart(key) {\n",
              "      const quickchartButtonEl =\n",
              "        document.querySelector('#' + key + ' button');\n",
              "      quickchartButtonEl.disabled = true;  // To prevent multiple clicks.\n",
              "      quickchartButtonEl.classList.add('colab-df-spinner');\n",
              "      try {\n",
              "        const charts = await google.colab.kernel.invokeFunction(\n",
              "            'suggestCharts', [key], {});\n",
              "      } catch (error) {\n",
              "        console.error('Error during call to suggestCharts:', error);\n",
              "      }\n",
              "      quickchartButtonEl.classList.remove('colab-df-spinner');\n",
              "      quickchartButtonEl.classList.add('colab-df-quickchart-complete');\n",
              "    }\n",
              "    (() => {\n",
              "      let quickchartButtonEl =\n",
              "        document.querySelector('#df-b6d0bb07-8c71-4373-98e6-c0449253fd23 button');\n",
              "      quickchartButtonEl.style.display =\n",
              "        google.colab.kernel.accessAllowed ? 'block' : 'none';\n",
              "    })();\n",
              "  </script>\n",
              "</div>\n",
              "    </div>\n",
              "  </div>\n"
            ]
          },
          "metadata": {},
          "execution_count": 45
        }
      ],
      "source": [
        "df.query('Power > 400')"
      ]
    },
    {
      "cell_type": "markdown",
      "metadata": {
        "id": "9Sb56Lj3yoDs"
      },
      "source": [
        "Видно приличное число очень больших значений. Если например, для Е-Класса, Порша Кайен ещё верю, то вектра и королла врят ли чипуются до 1400 л/с. Всё таки не Бугатти Широн) Напишу функцию, чтобы снизить на порядок эти значения, чтобы влезть в нормальный интервал. Предлагаю от 600 до 5000 поделить на 10, от 5000 и выше на 100, тогда значения будут приемлемы."
      ]
    },
    {
      "cell_type": "code",
      "execution_count": 46,
      "metadata": {
        "id": "Vnpa2w4MyoDs"
      },
      "outputs": [],
      "source": [
        "def norm_power(row):\n",
        "\n",
        "    power = row['Power']\n",
        "\n",
        "    if 600 <= power <= 5000:\n",
        "        return power / 10\n",
        "    if 5001 <= power <= 9999:\n",
        "        return power / 100\n",
        "    if power < 50:\n",
        "        return np.nan\n",
        "    else:\n",
        "        return power"
      ]
    },
    {
      "cell_type": "code",
      "execution_count": 47,
      "metadata": {
        "id": "92TrTkD0yoDt"
      },
      "outputs": [],
      "source": [
        "df['Power_norm'] = df.apply(norm_power, axis=1)"
      ]
    },
    {
      "cell_type": "code",
      "execution_count": 48,
      "metadata": {
        "colab": {
          "base_uri": "https://localhost:8080/"
        },
        "id": "U6TBqTfCyoDt",
        "outputId": "dbdccc76-26f4-42db-a713-78dcd6e8b540"
      },
      "outputs": [
        {
          "output_type": "execute_result",
          "data": {
            "text/plain": [
              "46040"
            ]
          },
          "metadata": {},
          "execution_count": 48
        }
      ],
      "source": [
        "df['Power_norm'].isna().sum()"
      ]
    },
    {
      "cell_type": "code",
      "execution_count": 49,
      "metadata": {
        "id": "D35Q3eARyoDt"
      },
      "outputs": [],
      "source": [
        "df = df.drop(df.loc[df['Power']>=10000].index)"
      ]
    },
    {
      "cell_type": "code",
      "execution_count": 50,
      "metadata": {
        "colab": {
          "base_uri": "https://localhost:8080/"
        },
        "id": "rpcpgPf6yoDt",
        "outputId": "0a33b647-de4c-4f6f-ec2d-d4a85e2856dc"
      },
      "outputs": [
        {
          "output_type": "stream",
          "name": "stdout",
          "text": [
            "Пропуски значений мощности 2\n",
            "Нулевая мощность 0\n"
          ]
        }
      ],
      "source": [
        "df['Power_norm'] = df.groupby('Model')['Power_norm'].transform(lambda x: x.fillna(value=x.median()))\n",
        "print('Пропуски значений мощности', df['Power_norm'].isna().sum())\n",
        "print('Нулевая мощность', len(df[df['Power_norm']==0]))"
      ]
    },
    {
      "cell_type": "code",
      "execution_count": 51,
      "metadata": {
        "colab": {
          "base_uri": "https://localhost:8080/"
        },
        "id": "VhZW7tQFyoDu",
        "outputId": "525a62f9-64b0-4e6e-ec46-5df712dcc3f5"
      },
      "outputs": [
        {
          "output_type": "stream",
          "name": "stdout",
          "text": [
            "Пропуски значений 0\n"
          ]
        }
      ],
      "source": [
        "df = df.drop(df[df['Power_norm'].isna()].index)\n",
        "df['Power_norm'] = df['Power_norm'].astype('int')\n",
        "print('Пропуски значений', df['Power_norm'].isna().sum())"
      ]
    },
    {
      "cell_type": "markdown",
      "metadata": {
        "id": "cAnEUcjNyoDu"
      },
      "source": [
        "На \"всякий случай\" столбец не переписываю, а создам новый с более нормальными значениями мощности. Ну и соответственн избавлю его от пропусков."
      ]
    },
    {
      "cell_type": "code",
      "execution_count": 52,
      "metadata": {
        "colab": {
          "base_uri": "https://localhost:8080/",
          "height": 567
        },
        "id": "IHODDcVAyoDu",
        "outputId": "983632d3-37b3-4e5e-cb62-669fac15a491"
      },
      "outputs": [
        {
          "output_type": "display_data",
          "data": {
            "text/plain": [
              "<Figure size 1200x600 with 1 Axes>"
            ],
            "image/png": "[encoded data removed]"
          },
          "metadata": {}
        }
      ],
      "source": [
        "plt.figure(figsize=(12,6))\n",
        "\n",
        "sns.distplot(df['Power_norm'], color='red', hist=False)\n",
        "\n",
        "plt.xlabel('Мощность двигателя, л.с.')\n",
        "plt.title('\"Очищенное\" распределение мощности двигателей',size=15);"
      ]
    },
    {
      "cell_type": "code",
      "execution_count": 53,
      "metadata": {
        "colab": {
          "base_uri": "https://localhost:8080/"
        },
        "id": "ERmTRtJayoDu",
        "outputId": "a14888bc-2394-4012-fc6a-9fe8167a3aed"
      },
      "outputs": [
        {
          "output_type": "execute_result",
          "data": {
            "text/plain": [
              "DateCrawled              0\n",
              "Price                    0\n",
              "VehicleType              0\n",
              "RegistrationYear         0\n",
              "Gearbox                  0\n",
              "Power                    0\n",
              "Model                    0\n",
              "Kilometer                0\n",
              "RegistrationMonth        0\n",
              "FuelType                 0\n",
              "Brand                    0\n",
              "Repaired             70989\n",
              "DateCreated              0\n",
              "NumberOfPictures         0\n",
              "PostalCode               0\n",
              "LastSeen                 0\n",
              "MonthCreated             0\n",
              "YearCreated              0\n",
              "GearboxUnsorted          0\n",
              "Power_norm               0\n",
              "dtype: int64"
            ]
          },
          "metadata": {},
          "execution_count": 53
        }
      ],
      "source": [
        "df.isna().sum()"
      ]
    },
    {
      "cell_type": "code",
      "execution_count": 54,
      "metadata": {
        "colab": {
          "base_uri": "https://localhost:8080/"
        },
        "id": "3r_3C6tCyoDv",
        "outputId": "7ef6c406-4189-4111-f0aa-5f8f0af7366c"
      },
      "outputs": [
        {
          "output_type": "stream",
          "name": "stdout",
          "text": [
            "<class 'pandas.core.frame.DataFrame'>\n",
            "Int64Index: 354147 entries, 0 to 354368\n",
            "Data columns (total 20 columns):\n",
            " #   Column             Non-Null Count   Dtype         \n",
            "---  ------             --------------   -----         \n",
            " 0   datecrawled        354147 non-null  object        \n",
            " 1   price              354147 non-null  int64         \n",
            " 2   vehicletype        354147 non-null  object        \n",
            " 3   registrationyear   354147 non-null  int64         \n",
            " 4   gearbox            354147 non-null  object        \n",
            " 5   power              354147 non-null  int64         \n",
            " 6   model              354147 non-null  object        \n",
            " 7   kilometer          354147 non-null  int64         \n",
            " 8   registrationmonth  354147 non-null  int64         \n",
            " 9   fueltype           354147 non-null  object        \n",
            " 10  brand              354147 non-null  object        \n",
            " 11  repaired           283158 non-null  object        \n",
            " 12  datecreated        354147 non-null  datetime64[ns]\n",
            " 13  numberofpictures   354147 non-null  int64         \n",
            " 14  postalcode         354147 non-null  int64         \n",
            " 15  lastseen           354147 non-null  object        \n",
            " 16  monthcreated       354147 non-null  int64         \n",
            " 17  yearcreated        354147 non-null  int64         \n",
            " 18  gearboxunsorted    354147 non-null  object        \n",
            " 19  power_norm         354147 non-null  int64         \n",
            "dtypes: datetime64[ns](1), int64(10), object(9)\n",
            "memory usage: 56.7+ MB\n"
          ]
        }
      ],
      "source": [
        "df.columns = df.columns.str.lower()\n",
        "df.info()"
      ]
    },
    {
      "cell_type": "markdown",
      "metadata": {
        "id": "1xGDeW9ZyoDv"
      },
      "source": [
        "Пропуков нет, названия столбцов перевел в нижний регистр (хотя это следовало бы сделать вначале)."
      ]
    },
    {
      "cell_type": "markdown",
      "metadata": {
        "id": "C-GV30lbyoDv"
      },
      "source": [
        "**Вывод 1 раздела**\n",
        "1. Проведен анализ, предобработка данных и подготовка к машинному обучению.\n",
        "2. Были обнаружены странные показатели датафрейма, которые сложно как то обработать и объяснить (тут нужно работать с поставщиком данных)\n",
        "3. Были исключены все обнаруженные пропуски, в основном с помощью лямбда функции.\n",
        "\n",
        "Предобработка и анализ данных завершены, можно переходить к обучению моделей."
      ]
    },
    {
      "cell_type": "markdown",
      "metadata": {
        "id": "hfwfEIx8yoDv"
      },
      "source": [
        "## Обучение моделей"
      ]
    },
    {
      "cell_type": "markdown",
      "metadata": {
        "id": "8h9mpe-XyoDv"
      },
      "source": [
        "Первым делом стоит удалить признаки, не влияющие на обучение моделей и разбить выборки на обучающую и тестовую."
      ]
    },
    {
      "cell_type": "code",
      "execution_count": 55,
      "metadata": {
        "id": "nwi9DrhHyoDw"
      },
      "outputs": [],
      "source": [
        "drop_col = ['price', 'datecrawled', 'registrationmonth', 'datecreated', 'numberofpictures', 'postalcode',\n",
        "       'lastseen', 'monthcreated', 'yearcreated', 'gearboxunsorted', 'power']\n",
        "\n",
        "features = df.drop(drop_col, axis=1)\n",
        "target = df['price']"
      ]
    },
    {
      "cell_type": "code",
      "execution_count": 56,
      "metadata": {
        "colab": {
          "base_uri": "https://localhost:8080/",
          "height": 206
        },
        "id": "QADh6tKzyoDw",
        "outputId": "6ee0b1af-e87d-41f7-fc04-f7ea1bc9c4af"
      },
      "outputs": [
        {
          "output_type": "execute_result",
          "data": {
            "text/plain": [
              "  vehicletype  registrationyear gearbox  model  kilometer  fueltype  \\\n",
              "0       sedan              1993  manual   golf     150000    petrol   \n",
              "1       coupe              2011  manual     a4     125000  gasoline   \n",
              "2         suv              2004    auto  grand     125000  gasoline   \n",
              "3       small              2001  manual   golf     150000    petrol   \n",
              "4       small              2008  manual  fabia      90000  gasoline   \n",
              "\n",
              "        brand repaired  power_norm  \n",
              "0  volkswagen      NaN         101  \n",
              "1        audi      yes         190  \n",
              "2        jeep      NaN         163  \n",
              "3  volkswagen       no          75  \n",
              "4       skoda       no          69  "
            ],
            "text/html": [
              "\n",
              "  <div id=\"df-80712afe-7c6c-46b1-8948-670e7ddd5c0a\" class=\"colab-df-container\">\n",
              "    <div>\n",
              "<style scoped>\n",
              "    .dataframe tbody tr th:only-of-type {\n",
              "        vertical-align: middle;\n",
              "    }\n",
              "\n",
              "    .dataframe tbody tr th {\n",
              "        vertical-align: top;\n",
              "    }\n",
              "\n",
              "    .dataframe thead th {\n",
              "        text-align: right;\n",
              "    }\n",
              "</style>\n",
              "<table border=\"1\" class=\"dataframe\">\n",
              "  <thead>\n",
              "    <tr style=\"text-align: right;\">\n",
              "      <th></th>\n",
              "      <th>vehicletype</th>\n",
              "      <th>registrationyear</th>\n",
              "      <th>gearbox</th>\n",
              "      <th>model</th>\n",
              "      <th>kilometer</th>\n",
              "      <th>fueltype</th>\n",
              "      <th>brand</th>\n",
              "      <th>repaired</th>\n",
              "      <th>power_norm</th>\n",
              "    </tr>\n",
              "  </thead>\n",
              "  <tbody>\n",
              "    <tr>\n",
              "      <th>0</th>\n",
              "      <td>sedan</td>\n",
              "      <td>1993</td>\n",
              "      <td>manual</td>\n",
              "      <td>golf</td>\n",
              "      <td>150000</td>\n",
              "      <td>petrol</td>\n",
              "      <td>volkswagen</td>\n",
              "      <td>NaN</td>\n",
              "      <td>101</td>\n",
              "    </tr>\n",
              "    <tr>\n",
              "      <th>1</th>\n",
              "      <td>coupe</td>\n",
              "      <td>2011</td>\n",
              "      <td>manual</td>\n",
              "      <td>a4</td>\n",
              "      <td>125000</td>\n",
              "      <td>gasoline</td>\n",
              "      <td>audi</td>\n",
              "      <td>yes</td>\n",
              "      <td>190</td>\n",
              "    </tr>\n",
              "    <tr>\n",
              "      <th>2</th>\n",
              "      <td>suv</td>\n",
              "      <td>2004</td>\n",
              "      <td>auto</td>\n",
              "      <td>grand</td>\n",
              "      <td>125000</td>\n",
              "      <td>gasoline</td>\n",
              "      <td>jeep</td>\n",
              "      <td>NaN</td>\n",
              "      <td>163</td>\n",
              "    </tr>\n",
              "    <tr>\n",
              "      <th>3</th>\n",
              "      <td>small</td>\n",
              "      <td>2001</td>\n",
              "      <td>manual</td>\n",
              "      <td>golf</td>\n",
              "      <td>150000</td>\n",
              "      <td>petrol</td>\n",
              "      <td>volkswagen</td>\n",
              "      <td>no</td>\n",
              "      <td>75</td>\n",
              "    </tr>\n",
              "    <tr>\n",
              "      <th>4</th>\n",
              "      <td>small</td>\n",
              "      <td>2008</td>\n",
              "      <td>manual</td>\n",
              "      <td>fabia</td>\n",
              "      <td>90000</td>\n",
              "      <td>gasoline</td>\n",
              "      <td>skoda</td>\n",
              "      <td>no</td>\n",
              "      <td>69</td>\n",
              "    </tr>\n",
              "  </tbody>\n",
              "</table>\n",
              "</div>\n",
              "    <div class=\"colab-df-buttons\">\n",
              "\n",
              "  <div class=\"colab-df-container\">\n",
              "    <button class=\"colab-df-convert\" onclick=\"convertToInteractive('df-80712afe-7c6c-46b1-8948-670e7ddd5c0a')\"\n",
              "            title=\"Convert this dataframe to an interactive table.\"\n",
              "            style=\"display:none;\">\n",
              "\n",
              "  <svg xmlns=\"http://www.w3.org/2000/svg\" height=\"24px\" viewBox=\"0 -960 960 960\">\n",
              "    <path d=\"M120-120v-720h720v720H120Zm60-500h600v-160H180v160Zm220 220h160v-160H400v160Zm0 220h160v-160H400v160ZM180-400h160v-160H180v160Zm440 0h160v-160H620v160ZM180-180h160v-160H180v160Zm440 0h160v-160H620v160Z\"/>\n",
              "  </svg>\n",
              "    </button>\n",
              "\n",
              "  <style>\n",
              "    .colab-df-container {\n",
              "      display:flex;\n",
              "      gap: 12px;\n",
              "    }\n",
              "\n",
              "    .colab-df-convert {\n",
              "      background-color: #E8F0FE;\n",
              "      border: none;\n",
              "      border-radius: 50%;\n",
              "      cursor: pointer;\n",
              "      display: none;\n",
              "      fill: #1967D2;\n",
              "      height: 32px;\n",
              "      padding: 0 0 0 0;\n",
              "      width: 32px;\n",
              "    }\n",
              "\n",
              "    .colab-df-convert:hover {\n",
              "      background-color: #E2EBFA;\n",
              "      box-shadow: 0px 1px 2px rgba(60, 64, 67, 0.3), 0px 1px 3px 1px rgba(60, 64, 67, 0.15);\n",
              "      fill: #174EA6;\n",
              "    }\n",
              "\n",
              "    .colab-df-buttons div {\n",
              "      margin-bottom: 4px;\n",
              "    }\n",
              "\n",
              "    [theme=dark] .colab-df-convert {\n",
              "      background-color: #3B4455;\n",
              "      fill: #D2E3FC;\n",
              "    }\n",
              "\n",
              "    [theme=dark] .colab-df-convert:hover {\n",
              "      background-color: #434B5C;\n",
              "      box-shadow: 0px 1px 3px 1px rgba(0, 0, 0, 0.15);\n",
              "      filter: drop-shadow(0px 1px 2px rgba(0, 0, 0, 0.3));\n",
              "      fill: #FFFFFF;\n",
              "    }\n",
              "  </style>\n",
              "\n",
              "    <script>\n",
              "      const buttonEl =\n",
              "        document.querySelector('#df-80712afe-7c6c-46b1-8948-670e7ddd5c0a button.colab-df-convert');\n",
              "      buttonEl.style.display =\n",
              "        google.colab.kernel.accessAllowed ? 'block' : 'none';\n",
              "\n",
              "      async function convertToInteractive(key) {\n",
              "        const element = document.querySelector('#df-80712afe-7c6c-46b1-8948-670e7ddd5c0a');\n",
              "        const dataTable =\n",
              "          await google.colab.kernel.invokeFunction('convertToInteractive',\n",
              "                                                    [key], {});\n",
              "        if (!dataTable) return;\n",
              "\n",
              "        const docLinkHtml = 'Like what you see? Visit the ' +\n",
              "          '<a target=\"_blank\" href=https://colab.research.google.com/notebooks/data_table.ipynb>data table notebook</a>'\n",
              "          + ' to learn more about interactive tables.';\n",
              "        element.innerHTML = '';\n",
              "        dataTable['output_type'] = 'display_data';\n",
              "        await google.colab.output.renderOutput(dataTable, element);\n",
              "        const docLink = document.createElement('div');\n",
              "        docLink.innerHTML = docLinkHtml;\n",
              "        element.appendChild(docLink);\n",
              "      }\n",
              "    </script>\n",
              "  </div>\n",
              "\n",
              "\n",
              "<div id=\"df-5689c274-bcd5-414a-8f0c-135f10582206\">\n",
              "  <button class=\"colab-df-quickchart\" onclick=\"quickchart('df-5689c274-bcd5-414a-8f0c-135f10582206')\"\n",
              "            title=\"Suggest charts\"\n",
              "            style=\"display:none;\">\n",
              "\n",
              "<svg xmlns=\"http://www.w3.org/2000/svg\" height=\"24px\"viewBox=\"0 0 24 24\"\n",
              "     width=\"24px\">\n",
              "    <g>\n",
              "        <path d=\"M19 3H5c-1.1 0-2 .9-2 2v14c0 1.1.9 2 2 2h14c1.1 0 2-.9 2-2V5c0-1.1-.9-2-2-2zM9 17H7v-7h2v7zm4 0h-2V7h2v10zm4 0h-2v-4h2v4z\"/>\n",
              "    </g>\n",
              "</svg>\n",
              "  </button>\n",
              "\n",
              "<style>\n",
              "  .colab-df-quickchart {\n",
              "      --bg-color: #E8F0FE;\n",
              "      --fill-color: #1967D2;\n",
              "      --hover-bg-color: #E2EBFA;\n",
              "      --hover-fill-color: #174EA6;\n",
              "      --disabled-fill-color: #AAA;\n",
              "      --disabled-bg-color: #DDD;\n",
              "  }\n",
              "\n",
              "  [theme=dark] .colab-df-quickchart {\n",
              "      --bg-color: #3B4455;\n",
              "      --fill-color: #D2E3FC;\n",
              "      --hover-bg-color: #434B5C;\n",
              "      --hover-fill-color: #FFFFFF;\n",
              "      --disabled-bg-color: #3B4455;\n",
              "      --disabled-fill-color: #666;\n",
              "  }\n",
              "\n",
              "  .colab-df-quickchart {\n",
              "    background-color: var(--bg-color);\n",
              "    border: none;\n",
              "    border-radius: 50%;\n",
              "    cursor: pointer;\n",
              "    display: none;\n",
              "    fill: var(--fill-color);\n",
              "    height: 32px;\n",
              "    padding: 0;\n",
              "    width: 32px;\n",
              "  }\n",
              "\n",
              "  .colab-df-quickchart:hover {\n",
              "    background-color: var(--hover-bg-color);\n",
              "    box-shadow: 0 1px 2px rgba(60, 64, 67, 0.3), 0 1px 3px 1px rgba(60, 64, 67, 0.15);\n",
              "    fill: var(--button-hover-fill-color);\n",
              "  }\n",
              "\n",
              "  .colab-df-quickchart-complete:disabled,\n",
              "  .colab-df-quickchart-complete:disabled:hover {\n",
              "    background-color: var(--disabled-bg-color);\n",
              "    fill: var(--disabled-fill-color);\n",
              "    box-shadow: none;\n",
              "  }\n",
              "\n",
              "  .colab-df-spinner {\n",
              "    border: 2px solid var(--fill-color);\n",
              "    border-color: transparent;\n",
              "    border-bottom-color: var(--fill-color);\n",
              "    animation:\n",
              "      spin 1s steps(1) infinite;\n",
              "  }\n",
              "\n",
              "  @keyframes spin {\n",
              "    0% {\n",
              "      border-color: transparent;\n",
              "      border-bottom-color: var(--fill-color);\n",
              "      border-left-color: var(--fill-color);\n",
              "    }\n",
              "    20% {\n",
              "      border-color: transparent;\n",
              "      border-left-color: var(--fill-color);\n",
              "      border-top-color: var(--fill-color);\n",
              "    }\n",
              "    30% {\n",
              "      border-color: transparent;\n",
              "      border-left-color: var(--fill-color);\n",
              "      border-top-color: var(--fill-color);\n",
              "      border-right-color: var(--fill-color);\n",
              "    }\n",
              "    40% {\n",
              "      border-color: transparent;\n",
              "      border-right-color: var(--fill-color);\n",
              "      border-top-color: var(--fill-color);\n",
              "    }\n",
              "    60% {\n",
              "      border-color: transparent;\n",
              "      border-right-color: var(--fill-color);\n",
              "    }\n",
              "    80% {\n",
              "      border-color: transparent;\n",
              "      border-right-color: var(--fill-color);\n",
              "      border-bottom-color: var(--fill-color);\n",
              "    }\n",
              "    90% {\n",
              "      border-color: transparent;\n",
              "      border-bottom-color: var(--fill-color);\n",
              "    }\n",
              "  }\n",
              "</style>\n",
              "\n",
              "  <script>\n",
              "    async function quickchart(key) {\n",
              "      const quickchartButtonEl =\n",
              "        document.querySelector('#' + key + ' button');\n",
              "      quickchartButtonEl.disabled = true;  // To prevent multiple clicks.\n",
              "      quickchartButtonEl.classList.add('colab-df-spinner');\n",
              "      try {\n",
              "        const charts = await google.colab.kernel.invokeFunction(\n",
              "            'suggestCharts', [key], {});\n",
              "      } catch (error) {\n",
              "        console.error('Error during call to suggestCharts:', error);\n",
              "      }\n",
              "      quickchartButtonEl.classList.remove('colab-df-spinner');\n",
              "      quickchartButtonEl.classList.add('colab-df-quickchart-complete');\n",
              "    }\n",
              "    (() => {\n",
              "      let quickchartButtonEl =\n",
              "        document.querySelector('#df-5689c274-bcd5-414a-8f0c-135f10582206 button');\n",
              "      quickchartButtonEl.style.display =\n",
              "        google.colab.kernel.accessAllowed ? 'block' : 'none';\n",
              "    })();\n",
              "  </script>\n",
              "</div>\n",
              "    </div>\n",
              "  </div>\n"
            ]
          },
          "metadata": {},
          "execution_count": 56
        }
      ],
      "source": [
        "features.head()"
      ]
    },
    {
      "cell_type": "code",
      "execution_count": 57,
      "metadata": {
        "id": "WGyzQ8UfyoDw"
      },
      "outputs": [],
      "source": [
        "x_train_val, x_test, y_train_val, y_test = train_test_split(features, target, test_size=0.2, random_state=12345)"
      ]
    },
    {
      "cell_type": "code",
      "execution_count": 58,
      "metadata": {
        "id": "qqUUhyYjyoDw"
      },
      "outputs": [],
      "source": [
        "x_train, x_valid, y_train, y_valid = train_test_split(x_train_val, y_train_val, test_size=0.25, random_state=12345)"
      ]
    },
    {
      "cell_type": "code",
      "execution_count": 59,
      "metadata": {
        "colab": {
          "base_uri": "https://localhost:8080/"
        },
        "id": "s-PZu2nZyoDw",
        "outputId": "00e08ec2-351d-4dac-9c5a-ea33035e8ac8"
      },
      "outputs": [
        {
          "output_type": "stream",
          "name": "stdout",
          "text": [
            "212487 70830 70830\n"
          ]
        }
      ],
      "source": [
        "print(x_train.shape[0], x_valid.shape[0], x_test.shape[0])"
      ]
    },
    {
      "cell_type": "markdown",
      "metadata": {
        "id": "g9BZwMD0yoDx"
      },
      "source": [
        "Разбил выборки на обучающую, валидационнубю и тестовую"
      ]
    },
    {
      "cell_type": "markdown",
      "metadata": {
        "id": "A3GJwjQqyoDx"
      },
      "source": [
        "### DummyRegressor"
      ]
    },
    {
      "cell_type": "code",
      "execution_count": 60,
      "metadata": {
        "colab": {
          "base_uri": "https://localhost:8080/"
        },
        "id": "QyQPEmpdyoDx",
        "outputId": "4152279e-6080-442b-a18f-d75612a739f3"
      },
      "outputs": [
        {
          "output_type": "stream",
          "name": "stdout",
          "text": [
            "RMSE дамми регрессора со средним прогнозом цен = 4526.57193\n",
            "\n",
            "CPU times: user 7.13 ms, sys: 0 ns, total: 7.13 ms\n",
            "Wall time: 8.32 ms\n"
          ]
        }
      ],
      "source": [
        "%%time\n",
        "\n",
        "dummy = DummyRegressor(strategy='mean')\n",
        "\n",
        "dummy.fit(x_train, y_train)\n",
        "y_pred = dummy.predict(x_valid)\n",
        "\n",
        "rmse_dr = np.around(np.sqrt(mean_squared_error(y_valid, y_pred)),5)\n",
        "print('RMSE дамми регрессора со средним прогнозом цен = {}'.format(rmse_dr))\n",
        "print()"
      ]
    },
    {
      "cell_type": "markdown",
      "metadata": {
        "id": "A_B-kmNYyoDx"
      },
      "source": [
        "Ошибка достаточно велика, зато считает очень быстро"
      ]
    },
    {
      "cell_type": "markdown",
      "metadata": {
        "id": "_dxH_XHzyoDx"
      },
      "source": [
        "### Rmse метрика"
      ]
    },
    {
      "cell_type": "markdown",
      "metadata": {
        "id": "wyPXyHu7yoDx"
      },
      "source": [
        "На данном шаге осуществлю подбор гиперпараметров и зафиксирую лучшее значение метрики RMSE."
      ]
    },
    {
      "cell_type": "code",
      "execution_count": 61,
      "metadata": {
        "id": "LMps8av9yoDx"
      },
      "outputs": [],
      "source": [
        "def rmse(targets, predictions):\n",
        "    return np.sqrt(((predictions - targets) ** 2).mean())\n",
        "\n",
        "RMSE_SCORE = make_scorer(rmse, greater_is_better=False)"
      ]
    },
    {
      "cell_type": "markdown",
      "metadata": {
        "id": "6cQMTaRCyoDy"
      },
      "source": [
        "Написал фунсцию скоринга МСЕ"
      ]
    },
    {
      "cell_type": "code",
      "execution_count": 62,
      "metadata": {
        "colab": {
          "base_uri": "https://localhost:8080/"
        },
        "id": "UfWylhNnyoDy",
        "outputId": "59bc514f-dd9f-43a7-fd91-7aa28a7b0998"
      },
      "outputs": [
        {
          "output_type": "stream",
          "name": "stdout",
          "text": [
            "212487 70830 70830\n"
          ]
        }
      ],
      "source": [
        "features_ = pd.get_dummies(features, drop_first=True)\n",
        "target_ = df['price']\n",
        "\n",
        "x_train_val, x_test_, y_train_val, y_test_ = train_test_split(features_, target_, test_size=0.2, random_state=12345)\n",
        "x_train_, x_valid_, y_train_, y_valid_ = train_test_split(x_train_val, y_train_val, test_size=0.25, random_state=12345)\n",
        "\n",
        "print(x_train_.shape[0], x_valid_.shape[0], x_test_.shape[0])"
      ]
    },
    {
      "cell_type": "markdown",
      "metadata": {
        "id": "MsVkFcK1yoDy"
      },
      "source": [
        "Нашел гиперпараметры на основе регрессора"
      ]
    },
    {
      "cell_type": "code",
      "execution_count": 63,
      "metadata": {
        "id": "qPlETPOsyoDz"
      },
      "outputs": [],
      "source": [
        "from sklearn.tree import DecisionTreeRegressor\n",
        "\n",
        "dtr = DecisionTreeRegressor(random_state=12345)\n",
        "\n",
        "dtr_params = dict(max_depth=[5,6,7],\n",
        "                 max_features=[2,3,4])"
      ]
    },
    {
      "cell_type": "code",
      "execution_count": 64,
      "metadata": {
        "id": "--grHxLCyoDz"
      },
      "outputs": [],
      "source": [
        "def rand_search(model, grid, feat, targ):\n",
        "\n",
        "    search = RandomizedSearchCV(model, grid, cv=5, scoring=RMSE_SCORE, n_jobs=-1)\n",
        "    search.fit(feat, targ)\n",
        "\n",
        "    print(search.best_score_ * -1)\n",
        "    print(search.best_params_)"
      ]
    },
    {
      "cell_type": "markdown",
      "metadata": {
        "id": "nb_abu4eyoDz"
      },
      "source": [
        "Написал функцию рандомного поиска гиперпараметров"
      ]
    },
    {
      "cell_type": "code",
      "execution_count": 65,
      "metadata": {
        "colab": {
          "base_uri": "https://localhost:8080/"
        },
        "id": "SGNc94dlyoDz",
        "outputId": "ee3df117-dba8-4d52-a950-58e548388411"
      },
      "outputs": [
        {
          "output_type": "stream",
          "name": "stdout",
          "text": [
            "4296.883927015568\n",
            "{'max_features': 3, 'max_depth': 7}\n"
          ]
        }
      ],
      "source": [
        "rand_search(dtr, dtr_params, x_train_, y_train_)"
      ]
    },
    {
      "cell_type": "code",
      "execution_count": 66,
      "metadata": {
        "id": "fFlI0xYCyoD0"
      },
      "outputs": [],
      "source": [
        "def rmse_score(model, x, y):\n",
        "\n",
        "    y_pred = model.predict(x)\n",
        "\n",
        "    score = rmse(y, y_pred)\n",
        "\n",
        "    return(score)"
      ]
    },
    {
      "cell_type": "code",
      "execution_count": 67,
      "metadata": {
        "colab": {
          "base_uri": "https://localhost:8080/"
        },
        "id": "2zwrxkvxyoD0",
        "outputId": "8d0e479f-80ba-4418-93df-a970797cd169"
      },
      "outputs": [
        {
          "output_type": "stream",
          "name": "stdout",
          "text": [
            "Валидационная выборка 4235.882331738378\n",
            "Тестовая выборка 4221.699955594802\n"
          ]
        }
      ],
      "source": [
        "dtr = DecisionTreeRegressor(random_state=12345, max_features=3, max_depth=7)\n",
        "\n",
        "dtr.fit(x_train_, y_train_)\n",
        "\n",
        "print('Валидационная выборка', rmse_score(dtr, x_valid_, y_valid_))\n",
        "print('Тестовая выборка', rmse_score(dtr, x_test_, y_test_))"
      ]
    },
    {
      "cell_type": "markdown",
      "metadata": {
        "id": "TbK8yJGiyoD0"
      },
      "source": [
        "Скоринг работает, но ошибка достаточно велика. Но уже лучше чем дамми модель."
      ]
    },
    {
      "cell_type": "markdown",
      "metadata": {
        "id": "_klQvLfLyoD0"
      },
      "source": [
        "### XGBoost"
      ]
    },
    {
      "cell_type": "code",
      "execution_count": 70,
      "metadata": {
        "id": "Kh3vkHVhyoD0"
      },
      "outputs": [],
      "source": [
        "dtrain = xgb.DMatrix(x_train_, label=y_train_)\n",
        "dval = xgb.DMatrix(x_valid_)\n",
        "dtest = xgb.DMatrix(x_test_)"
      ]
    },
    {
      "cell_type": "code",
      "execution_count": 78,
      "metadata": {
        "colab": {
          "base_uri": "https://localhost:8080/"
        },
        "id": "fvpChGNNyoD0",
        "outputId": "5e5f0e02-8d92-4cca-c3ee-6f0b3b0d97a7"
      },
      "outputs": [
        {
          "output_type": "stream",
          "name": "stdout",
          "text": [
            "CPU times: user 8.1 s, sys: 290 ms, total: 8.39 s\n",
            "Wall time: 10.1 s\n"
          ]
        }
      ],
      "source": [
        "%%time\n",
        "param = {\n",
        "    'max_depth': 3,\n",
        "    'eta': 1,\n",
        "    'sampling_method': 'uniform',\n",
        "    'verbosity': 1,\n",
        "    'gamma': 10,\n",
        "    'seed': 12345\n",
        "}\n",
        "\n",
        "\n",
        "num_round = 30\n",
        "\n",
        "bst = xgb.train(param, dtrain, num_round)"
      ]
    },
    {
      "cell_type": "markdown",
      "metadata": {
        "id": "Dj0hO7G3yoD1"
      },
      "source": [
        "Обучение происходит достаточно быстро. Всего 1 минута"
      ]
    },
    {
      "cell_type": "code",
      "execution_count": 79,
      "metadata": {
        "colab": {
          "base_uri": "https://localhost:8080/"
        },
        "id": "hTl1Q2hByoD1",
        "outputId": "f9ee2f24-9982-4730-e5fb-23e1c28cb311"
      },
      "outputs": [
        {
          "output_type": "stream",
          "name": "stdout",
          "text": [
            "RMSE на обучающей выборке 2065.759497787218\n",
            "\n",
            "CPU times: user 290 ms, sys: 1.45 ms, total: 291 ms\n",
            "Wall time: 172 ms\n"
          ]
        }
      ],
      "source": [
        "%%time\n",
        "print('RMSE на обучающей выборке', rmse_score(bst, dtrain, y_train_))\n",
        "print()"
      ]
    },
    {
      "cell_type": "code",
      "execution_count": 80,
      "metadata": {
        "colab": {
          "base_uri": "https://localhost:8080/"
        },
        "id": "cV6fXNWryoD1",
        "outputId": "acb7de07-90d2-4365-de55-45a9d9f6226d"
      },
      "outputs": [
        {
          "output_type": "stream",
          "name": "stdout",
          "text": [
            "RMSE на валидационной выборке 2076.5826679983866\n",
            "\n",
            "CPU times: user 106 ms, sys: 701 µs, total: 106 ms\n",
            "Wall time: 63.9 ms\n"
          ]
        }
      ],
      "source": [
        "%%time\n",
        "print('RMSE на валидационной выборке', rmse_score(bst, dval, y_valid_))\n",
        "print()"
      ]
    },
    {
      "cell_type": "markdown",
      "metadata": {
        "id": "fBpiF0d5yoD1"
      },
      "source": [
        "Учится достаточно быстро и показывает хороший результат, поработаю над параметрами, чтобы улучшить модель"
      ]
    },
    {
      "cell_type": "code",
      "execution_count": 82,
      "metadata": {
        "colab": {
          "base_uri": "https://localhost:8080/"
        },
        "id": "hTjteSJhyoD1",
        "outputId": "3824f04d-7e90-4154-f3fe-df3fb472fe4f"
      },
      "outputs": [
        {
          "output_type": "stream",
          "name": "stdout",
          "text": [
            "CPU times: user 6.82 s, sys: 7.1 ms, total: 6.83 s\n",
            "Wall time: 5 s\n"
          ]
        }
      ],
      "source": [
        "%%time\n",
        "param = {'max_depth':6,\n",
        "         'eta':0.5,\n",
        "         'min_child_weight':4,\n",
        "         'sampling_method':'uniform',\n",
        "         'verbosity':1,\n",
        "         'seed':12345}\n",
        "\n",
        "num_round = 35\n",
        "\n",
        "bst = xgb.train(param, dtrain, num_round)"
      ]
    },
    {
      "cell_type": "code",
      "execution_count": 83,
      "metadata": {
        "colab": {
          "base_uri": "https://localhost:8080/"
        },
        "id": "sF9drTv5yoD1",
        "outputId": "1ca14c3c-3dd1-49a9-cb33-48b842601e2e"
      },
      "outputs": [
        {
          "output_type": "stream",
          "name": "stdout",
          "text": [
            "RMSE на обучающей выборке 1848.0523133729976\n",
            "\n",
            "CPU times: user 506 ms, sys: 766 µs, total: 507 ms\n",
            "Wall time: 290 ms\n"
          ]
        }
      ],
      "source": [
        "%%time\n",
        "print('RMSE на обучающей выборке', rmse_score(bst, dtrain, y_train_))\n",
        "print()"
      ]
    },
    {
      "cell_type": "code",
      "execution_count": 84,
      "metadata": {
        "colab": {
          "base_uri": "https://localhost:8080/"
        },
        "id": "7FH_fGXOyoD2",
        "outputId": "8fe45742-703c-48c5-8d1f-3b16cbcd0432"
      },
      "outputs": [
        {
          "output_type": "stream",
          "name": "stdout",
          "text": [
            "RMSE на валидационной выборке 1912.3478356018431\n",
            "\n",
            "CPU times: user 179 ms, sys: 1.63 ms, total: 181 ms\n",
            "Wall time: 98.4 ms\n"
          ]
        }
      ],
      "source": [
        "%%time\n",
        "print('RMSE на валидационной выборке', rmse_score(bst, dval, y_valid_))\n",
        "print()"
      ]
    },
    {
      "cell_type": "markdown",
      "metadata": {
        "id": "jVrVDhNJyoD2"
      },
      "source": [
        "Путем подбора параметров улучшил значение RMSE, но заметно увеличилось время."
      ]
    },
    {
      "cell_type": "markdown",
      "metadata": {
        "id": "2ac7we1ryoD8"
      },
      "source": [
        "## Анализ моделей"
      ]
    },
    {
      "cell_type": "markdown",
      "metadata": {
        "id": "Vo0XKcpqyoD9"
      },
      "source": [
        "Для анализа моделей стоит определить метрику RMSE на тестовой выборке"
      ]
    },
    {
      "cell_type": "code",
      "execution_count": 85,
      "metadata": {
        "colab": {
          "base_uri": "https://localhost:8080/"
        },
        "id": "qBQwPQgLyoD9",
        "outputId": "e53789cc-1f10-47ee-f09d-78d10b059ccd"
      },
      "outputs": [
        {
          "output_type": "stream",
          "name": "stdout",
          "text": [
            "RMSE xgboost на валидационной выборке 1912.3478356018431\n",
            "\n",
            "CPU times: user 10.4 ms, sys: 900 µs, total: 11.3 ms\n",
            "Wall time: 12.6 ms\n"
          ]
        }
      ],
      "source": [
        "%%time\n",
        "print('RMSE xgboost на валидационной выборке', rmse_score(bst, dval, y_valid_))\n",
        "print()"
      ]
    },
    {
      "cell_type": "markdown",
      "metadata": {
        "id": "Bm0D9gy-yoEA"
      },
      "source": [
        "## Общий вывод проекта"
      ]
    },
    {
      "cell_type": "markdown",
      "metadata": {
        "id": "SWq7JYHiyoEA"
      },
      "source": [
        "1. Произведен анализ и подготовка данных датасета.\n",
        "2. Основной метрикой тестрирования стал корень среднеквадратичной ошибки."
      ]
    }
  ],
  "metadata": {
    "ExecuteTimeLog": [
      {
        "duration": 155,
        "start_time": "2022-05-10T13:59:25.549Z"
      },
      {
        "duration": 2713,
        "start_time": "2022-05-10T13:59:35.362Z"
      },
      {
        "duration": 1046,
        "start_time": "2022-05-10T13:59:38.077Z"
      },
      {
        "duration": 182,
        "start_time": "2022-05-10T13:59:39.125Z"
      },
      {
        "duration": 26,
        "start_time": "2022-05-10T13:59:51.850Z"
      },
      {
        "duration": 117,
        "start_time": "2022-05-10T14:00:05.262Z"
      },
      {
        "duration": 1418,
        "start_time": "2022-05-10T14:00:40.130Z"
      },
      {
        "duration": 196,
        "start_time": "2022-05-10T14:01:08.388Z"
      },
      {
        "duration": 126,
        "start_time": "2022-05-10T14:01:16.829Z"
      },
      {
        "duration": 316,
        "start_time": "2022-05-10T14:01:48.974Z"
      },
      {
        "duration": 547,
        "start_time": "2022-05-10T14:01:56.373Z"
      },
      {
        "duration": 16,
        "start_time": "2022-05-10T14:02:40.780Z"
      },
      {
        "duration": 120,
        "start_time": "2022-05-10T14:02:44.589Z"
      },
      {
        "duration": 120,
        "start_time": "2022-05-10T14:02:52.723Z"
      },
      {
        "duration": 13,
        "start_time": "2022-05-10T14:03:38.598Z"
      },
      {
        "duration": 12,
        "start_time": "2022-05-10T14:03:44.265Z"
      },
      {
        "duration": 4,
        "start_time": "2022-05-10T14:03:48.245Z"
      },
      {
        "duration": 126,
        "start_time": "2022-05-10T14:05:02.030Z"
      },
      {
        "duration": 11,
        "start_time": "2022-05-10T14:05:16.936Z"
      },
      {
        "duration": 5,
        "start_time": "2022-05-10T14:05:26.728Z"
      },
      {
        "duration": 61,
        "start_time": "2022-05-10T14:05:48.554Z"
      },
      {
        "duration": 18,
        "start_time": "2022-05-10T14:06:24.748Z"
      },
      {
        "duration": 529,
        "start_time": "2022-05-10T14:06:30.496Z"
      },
      {
        "duration": 431,
        "start_time": "2022-05-10T14:06:40.995Z"
      },
      {
        "duration": 523,
        "start_time": "2022-05-10T14:06:49.944Z"
      },
      {
        "duration": 434,
        "start_time": "2022-05-10T14:07:54.925Z"
      },
      {
        "duration": 434,
        "start_time": "2022-05-10T14:08:23.732Z"
      },
      {
        "duration": 417,
        "start_time": "2022-05-10T14:08:40.412Z"
      },
      {
        "duration": 13,
        "start_time": "2022-05-10T14:09:18.695Z"
      },
      {
        "duration": 29,
        "start_time": "2022-05-10T14:09:25.283Z"
      },
      {
        "duration": 308,
        "start_time": "2022-05-10T14:09:45.622Z"
      },
      {
        "duration": 512,
        "start_time": "2022-05-10T14:09:57.971Z"
      },
      {
        "duration": 449,
        "start_time": "2022-05-10T14:10:06.102Z"
      },
      {
        "duration": 211,
        "start_time": "2022-05-10T14:11:18.941Z"
      },
      {
        "duration": 12,
        "start_time": "2022-05-10T14:11:28.892Z"
      },
      {
        "duration": 25,
        "start_time": "2022-05-10T14:11:51.108Z"
      },
      {
        "duration": 260,
        "start_time": "2022-05-10T14:12:11.063Z"
      },
      {
        "duration": 260,
        "start_time": "2022-05-10T14:12:20.613Z"
      },
      {
        "duration": 266,
        "start_time": "2022-05-10T14:12:30.471Z"
      },
      {
        "duration": 287,
        "start_time": "2022-05-10T14:12:46.558Z"
      },
      {
        "duration": 82,
        "start_time": "2022-05-10T14:13:15.091Z"
      },
      {
        "duration": 66,
        "start_time": "2022-05-10T14:13:30.672Z"
      },
      {
        "duration": 69,
        "start_time": "2022-05-10T14:16:10.030Z"
      },
      {
        "duration": 100,
        "start_time": "2022-05-10T14:16:42.730Z"
      },
      {
        "duration": 24,
        "start_time": "2022-05-10T14:17:04.787Z"
      },
      {
        "duration": 45,
        "start_time": "2022-05-10T14:17:20.123Z"
      },
      {
        "duration": 93,
        "start_time": "2022-05-10T14:17:32.168Z"
      },
      {
        "duration": 94,
        "start_time": "2022-05-10T14:17:36.321Z"
      },
      {
        "duration": 14,
        "start_time": "2022-05-10T14:20:03.723Z"
      },
      {
        "duration": 61,
        "start_time": "2022-05-10T14:20:11.656Z"
      },
      {
        "duration": 113,
        "start_time": "2022-05-10T14:20:17.139Z"
      },
      {
        "duration": 12,
        "start_time": "2022-05-10T14:20:53.745Z"
      },
      {
        "duration": 30,
        "start_time": "2022-05-10T14:21:01.892Z"
      },
      {
        "duration": 41,
        "start_time": "2022-05-10T14:21:12.536Z"
      },
      {
        "duration": 29,
        "start_time": "2022-05-10T14:21:22.799Z"
      },
      {
        "duration": 4,
        "start_time": "2022-05-10T14:22:45.565Z"
      },
      {
        "duration": 8,
        "start_time": "2022-05-10T14:23:38.701Z"
      },
      {
        "duration": 14,
        "start_time": "2022-05-10T14:23:51.500Z"
      },
      {
        "duration": 7,
        "start_time": "2022-05-10T14:23:57.737Z"
      },
      {
        "duration": 49,
        "start_time": "2022-05-10T14:25:02.767Z"
      },
      {
        "duration": 251,
        "start_time": "2022-05-10T14:25:11.672Z"
      },
      {
        "duration": 65,
        "start_time": "2022-05-10T14:25:22.953Z"
      },
      {
        "duration": 65,
        "start_time": "2022-05-10T14:25:49.279Z"
      },
      {
        "duration": 16,
        "start_time": "2022-05-10T14:26:09.362Z"
      },
      {
        "duration": 142,
        "start_time": "2022-05-10T14:26:13.205Z"
      },
      {
        "duration": 12,
        "start_time": "2022-05-10T14:26:25.421Z"
      },
      {
        "duration": 47,
        "start_time": "2022-05-10T14:26:29.069Z"
      },
      {
        "duration": 13,
        "start_time": "2022-05-10T14:26:48.497Z"
      },
      {
        "duration": 67,
        "start_time": "2022-05-10T14:26:56.230Z"
      },
      {
        "duration": 49,
        "start_time": "2022-05-10T14:27:05.203Z"
      },
      {
        "duration": 12,
        "start_time": "2022-05-10T14:27:27.605Z"
      },
      {
        "duration": 23,
        "start_time": "2022-05-10T14:27:30.892Z"
      },
      {
        "duration": 217,
        "start_time": "2022-05-10T14:28:02.747Z"
      },
      {
        "duration": 21,
        "start_time": "2022-05-10T14:28:08.575Z"
      },
      {
        "duration": 12,
        "start_time": "2022-05-10T14:28:47.227Z"
      },
      {
        "duration": 179,
        "start_time": "2022-05-10T14:28:51.021Z"
      },
      {
        "duration": 14,
        "start_time": "2022-05-10T14:30:01.134Z"
      },
      {
        "duration": 166,
        "start_time": "2022-05-10T14:30:05.360Z"
      },
      {
        "duration": 186,
        "start_time": "2022-05-10T14:30:33.372Z"
      },
      {
        "duration": 256,
        "start_time": "2022-05-10T14:30:38.342Z"
      },
      {
        "duration": 187,
        "start_time": "2022-05-10T14:30:40.094Z"
      },
      {
        "duration": 50,
        "start_time": "2022-05-10T14:30:56.143Z"
      },
      {
        "duration": 23,
        "start_time": "2022-05-10T14:31:34.345Z"
      },
      {
        "duration": 182,
        "start_time": "2022-05-10T14:31:40.320Z"
      },
      {
        "duration": 43,
        "start_time": "2022-05-10T14:31:47.881Z"
      },
      {
        "duration": 35,
        "start_time": "2022-05-10T14:32:12.445Z"
      },
      {
        "duration": 7,
        "start_time": "2022-05-10T14:32:27.970Z"
      },
      {
        "duration": 20,
        "start_time": "2022-05-10T14:32:38.881Z"
      },
      {
        "duration": 81,
        "start_time": "2022-05-10T14:32:59.543Z"
      },
      {
        "duration": 23,
        "start_time": "2022-05-10T14:33:03.215Z"
      },
      {
        "duration": 6426,
        "start_time": "2022-05-10T14:33:50.401Z"
      },
      {
        "duration": 12,
        "start_time": "2022-05-10T14:34:12.779Z"
      },
      {
        "duration": 895,
        "start_time": "2022-05-10T14:34:28.144Z"
      },
      {
        "duration": 705,
        "start_time": "2022-05-10T14:34:37.665Z"
      },
      {
        "duration": 15,
        "start_time": "2022-05-10T14:34:52.145Z"
      },
      {
        "duration": 315,
        "start_time": "2022-05-10T14:34:56.409Z"
      },
      {
        "duration": 783,
        "start_time": "2022-05-10T14:35:17.710Z"
      },
      {
        "duration": 181,
        "start_time": "2022-05-10T14:35:19.654Z"
      },
      {
        "duration": 13,
        "start_time": "2022-05-10T14:35:40.932Z"
      },
      {
        "duration": 16,
        "start_time": "2022-05-10T14:37:06.073Z"
      },
      {
        "duration": 13,
        "start_time": "2022-05-10T14:37:16.635Z"
      },
      {
        "duration": 20,
        "start_time": "2022-05-10T14:37:19.342Z"
      },
      {
        "duration": 15,
        "start_time": "2022-05-10T14:39:17.444Z"
      },
      {
        "duration": 6,
        "start_time": "2022-05-10T14:39:21.542Z"
      },
      {
        "duration": 5,
        "start_time": "2022-05-10T14:39:30.807Z"
      },
      {
        "duration": 2450,
        "start_time": "2022-05-10T14:40:05.513Z"
      },
      {
        "duration": 1139,
        "start_time": "2022-05-10T14:40:07.966Z"
      },
      {
        "duration": 202,
        "start_time": "2022-05-10T14:40:09.108Z"
      },
      {
        "duration": 48,
        "start_time": "2022-05-10T14:40:09.312Z"
      },
      {
        "duration": 189,
        "start_time": "2022-05-10T14:40:09.364Z"
      },
      {
        "duration": 1181,
        "start_time": "2022-05-10T14:40:09.556Z"
      },
      {
        "duration": 138,
        "start_time": "2022-05-10T14:40:10.739Z"
      },
      {
        "duration": 432,
        "start_time": "2022-05-10T14:40:10.880Z"
      },
      {
        "duration": 143,
        "start_time": "2022-05-10T14:40:11.314Z"
      },
      {
        "duration": 6,
        "start_time": "2022-05-10T14:40:11.460Z"
      },
      {
        "duration": 89,
        "start_time": "2022-05-10T14:40:11.468Z"
      },
      {
        "duration": 600,
        "start_time": "2022-05-10T14:40:11.560Z"
      },
      {
        "duration": 29,
        "start_time": "2022-05-10T14:40:12.163Z"
      },
      {
        "duration": 394,
        "start_time": "2022-05-10T14:40:12.198Z"
      },
      {
        "duration": 252,
        "start_time": "2022-05-10T14:40:12.594Z"
      },
      {
        "duration": 15,
        "start_time": "2022-05-10T14:40:12.848Z"
      },
      {
        "duration": 32,
        "start_time": "2022-05-10T14:40:12.865Z"
      },
      {
        "duration": 317,
        "start_time": "2022-05-10T14:40:12.899Z"
      },
      {
        "duration": 81,
        "start_time": "2022-05-10T14:40:13.218Z"
      },
      {
        "duration": 108,
        "start_time": "2022-05-10T14:40:13.301Z"
      },
      {
        "duration": 51,
        "start_time": "2022-05-10T14:40:13.411Z"
      },
      {
        "duration": 7,
        "start_time": "2022-05-10T14:40:13.466Z"
      },
      {
        "duration": 244,
        "start_time": "2022-05-10T14:40:13.476Z"
      },
      {
        "duration": 78,
        "start_time": "2022-05-10T14:40:13.723Z"
      },
      {
        "duration": 117,
        "start_time": "2022-05-10T14:40:13.804Z"
      },
      {
        "duration": 99,
        "start_time": "2022-05-10T14:40:13.924Z"
      },
      {
        "duration": 64,
        "start_time": "2022-05-10T14:40:14.025Z"
      },
      {
        "duration": 76,
        "start_time": "2022-05-10T14:40:14.092Z"
      },
      {
        "duration": 55,
        "start_time": "2022-05-10T14:40:14.171Z"
      },
      {
        "duration": 52,
        "start_time": "2022-05-10T14:40:14.229Z"
      },
      {
        "duration": 222,
        "start_time": "2022-05-10T14:40:14.284Z"
      },
      {
        "duration": 24,
        "start_time": "2022-05-10T14:40:14.508Z"
      },
      {
        "duration": 223,
        "start_time": "2022-05-10T14:40:14.552Z"
      },
      {
        "duration": 320,
        "start_time": "2022-05-10T14:40:14.778Z"
      },
      {
        "duration": 187,
        "start_time": "2022-05-10T14:40:15.101Z"
      },
      {
        "duration": 67,
        "start_time": "2022-05-10T14:40:15.290Z"
      },
      {
        "duration": 220,
        "start_time": "2022-05-10T14:40:15.362Z"
      },
      {
        "duration": 24,
        "start_time": "2022-05-10T14:40:15.584Z"
      },
      {
        "duration": 112,
        "start_time": "2022-05-10T14:40:15.611Z"
      },
      {
        "duration": 32,
        "start_time": "2022-05-10T14:40:15.725Z"
      },
      {
        "duration": 225,
        "start_time": "2022-05-10T14:40:15.765Z"
      },
      {
        "duration": 913,
        "start_time": "2022-05-10T14:40:15.993Z"
      },
      {
        "duration": 234,
        "start_time": "2022-05-10T14:40:16.909Z"
      },
      {
        "duration": 5,
        "start_time": "2022-05-10T14:40:17.153Z"
      },
      {
        "duration": 192,
        "start_time": "2022-05-10T14:43:16.052Z"
      },
      {
        "duration": 2061,
        "start_time": "2022-05-10T14:43:22.915Z"
      },
      {
        "duration": 12,
        "start_time": "2022-05-10T14:44:33.469Z"
      },
      {
        "duration": 39,
        "start_time": "2022-05-10T14:44:39.250Z"
      },
      {
        "duration": 32,
        "start_time": "2022-05-10T14:45:02.876Z"
      },
      {
        "duration": 2076,
        "start_time": "2022-05-10T14:46:02.589Z"
      },
      {
        "duration": 33,
        "start_time": "2022-05-10T14:46:09.425Z"
      },
      {
        "duration": 126,
        "start_time": "2022-05-10T14:47:51.164Z"
      },
      {
        "duration": 131,
        "start_time": "2022-05-10T14:48:07.688Z"
      },
      {
        "duration": 129,
        "start_time": "2022-05-10T14:48:59.951Z"
      },
      {
        "duration": 17,
        "start_time": "2022-05-10T14:49:58.589Z"
      },
      {
        "duration": 139,
        "start_time": "2022-05-10T14:51:03.506Z"
      },
      {
        "duration": 122,
        "start_time": "2022-05-10T14:51:12.847Z"
      },
      {
        "duration": 15,
        "start_time": "2022-05-10T14:51:22.064Z"
      },
      {
        "duration": 14,
        "start_time": "2022-05-10T14:51:28.334Z"
      },
      {
        "duration": 4,
        "start_time": "2022-05-10T14:57:04.164Z"
      },
      {
        "duration": 23,
        "start_time": "2022-05-10T14:57:20.181Z"
      },
      {
        "duration": 25,
        "start_time": "2022-05-10T14:57:30.065Z"
      },
      {
        "duration": 37,
        "start_time": "2022-05-10T14:57:37.240Z"
      },
      {
        "duration": 63,
        "start_time": "2022-05-10T15:01:26.262Z"
      },
      {
        "duration": 28,
        "start_time": "2022-05-10T15:01:40.610Z"
      },
      {
        "duration": 19,
        "start_time": "2022-05-10T15:01:56.963Z"
      },
      {
        "duration": 42,
        "start_time": "2022-05-10T15:02:00.978Z"
      },
      {
        "duration": 5,
        "start_time": "2022-05-10T15:02:39.963Z"
      },
      {
        "duration": 14,
        "start_time": "2022-05-10T15:02:53.765Z"
      },
      {
        "duration": 13,
        "start_time": "2022-05-10T15:03:02.237Z"
      },
      {
        "duration": 5722,
        "start_time": "2022-05-10T15:03:05.809Z"
      },
      {
        "duration": 5510,
        "start_time": "2022-05-10T15:03:32.173Z"
      },
      {
        "duration": 5897,
        "start_time": "2022-05-10T15:03:46.827Z"
      },
      {
        "duration": 5555,
        "start_time": "2022-05-10T15:03:58.920Z"
      },
      {
        "duration": 16,
        "start_time": "2022-05-10T15:05:11.710Z"
      },
      {
        "duration": 8,
        "start_time": "2022-05-10T15:05:14.902Z"
      },
      {
        "duration": 149,
        "start_time": "2022-05-10T15:05:45.957Z"
      },
      {
        "duration": 386,
        "start_time": "2022-05-10T15:06:23.741Z"
      },
      {
        "duration": 384,
        "start_time": "2022-05-10T15:06:30.769Z"
      },
      {
        "duration": 144,
        "start_time": "2022-05-10T15:07:14.985Z"
      },
      {
        "duration": 133,
        "start_time": "2022-05-10T15:07:35.207Z"
      },
      {
        "duration": 87,
        "start_time": "2022-05-10T15:07:38.580Z"
      },
      {
        "duration": 18,
        "start_time": "2022-05-10T15:07:53.357Z"
      },
      {
        "duration": 2047,
        "start_time": "2022-05-10T15:08:03.414Z"
      },
      {
        "duration": 2091,
        "start_time": "2022-05-10T15:08:23.486Z"
      },
      {
        "duration": 2187,
        "start_time": "2022-05-10T15:08:40.097Z"
      },
      {
        "duration": 2169,
        "start_time": "2022-05-10T15:09:13.410Z"
      },
      {
        "duration": 162,
        "start_time": "2022-05-10T15:09:35.706Z"
      },
      {
        "duration": 11,
        "start_time": "2022-05-10T15:09:55.661Z"
      },
      {
        "duration": 625,
        "start_time": "2022-05-10T15:20:09.209Z"
      },
      {
        "duration": 2349,
        "start_time": "2022-05-10T15:20:15.550Z"
      },
      {
        "duration": 1125,
        "start_time": "2022-05-10T15:20:17.902Z"
      },
      {
        "duration": 194,
        "start_time": "2022-05-10T15:20:19.030Z"
      },
      {
        "duration": 42,
        "start_time": "2022-05-10T15:20:19.228Z"
      },
      {
        "duration": 134,
        "start_time": "2022-05-10T15:20:19.272Z"
      },
      {
        "duration": 1236,
        "start_time": "2022-05-10T15:20:19.409Z"
      },
      {
        "duration": 398,
        "start_time": "2022-05-10T15:20:20.647Z"
      },
      {
        "duration": 138,
        "start_time": "2022-05-10T15:20:21.051Z"
      },
      {
        "duration": 5,
        "start_time": "2022-05-10T15:20:21.191Z"
      },
      {
        "duration": 97,
        "start_time": "2022-05-10T15:20:21.201Z"
      },
      {
        "duration": 634,
        "start_time": "2022-05-10T15:20:21.301Z"
      },
      {
        "duration": 32,
        "start_time": "2022-05-10T15:20:21.937Z"
      },
      {
        "duration": 365,
        "start_time": "2022-05-10T15:20:21.972Z"
      },
      {
        "duration": 256,
        "start_time": "2022-05-10T15:20:22.339Z"
      },
      {
        "duration": 14,
        "start_time": "2022-05-10T15:20:22.597Z"
      },
      {
        "duration": 46,
        "start_time": "2022-05-10T15:20:22.613Z"
      },
      {
        "duration": 315,
        "start_time": "2022-05-10T15:20:22.661Z"
      },
      {
        "duration": 59,
        "start_time": "2022-05-10T15:20:22.978Z"
      },
      {
        "duration": 110,
        "start_time": "2022-05-10T15:20:23.052Z"
      },
      {
        "duration": 37,
        "start_time": "2022-05-10T15:20:23.165Z"
      },
      {
        "duration": 7,
        "start_time": "2022-05-10T15:20:23.204Z"
      },
      {
        "duration": 256,
        "start_time": "2022-05-10T15:20:23.213Z"
      },
      {
        "duration": 52,
        "start_time": "2022-05-10T15:20:23.472Z"
      },
      {
        "duration": 85,
        "start_time": "2022-05-10T15:20:23.526Z"
      },
      {
        "duration": 151,
        "start_time": "2022-05-10T15:20:23.613Z"
      },
      {
        "duration": 49,
        "start_time": "2022-05-10T15:20:23.766Z"
      },
      {
        "duration": 78,
        "start_time": "2022-05-10T15:20:23.817Z"
      },
      {
        "duration": 65,
        "start_time": "2022-05-10T15:20:23.901Z"
      },
      {
        "duration": 23,
        "start_time": "2022-05-10T15:20:23.968Z"
      },
      {
        "duration": 208,
        "start_time": "2022-05-10T15:20:23.993Z"
      },
      {
        "duration": 23,
        "start_time": "2022-05-10T15:20:24.203Z"
      },
      {
        "duration": 185,
        "start_time": "2022-05-10T15:20:24.228Z"
      },
      {
        "duration": 418,
        "start_time": "2022-05-10T15:20:24.416Z"
      },
      {
        "duration": 323,
        "start_time": "2022-05-10T15:20:24.837Z"
      },
      {
        "duration": 92,
        "start_time": "2022-05-10T15:20:25.162Z"
      },
      {
        "duration": 258,
        "start_time": "2022-05-10T15:20:25.256Z"
      },
      {
        "duration": 39,
        "start_time": "2022-05-10T15:20:25.517Z"
      },
      {
        "duration": 158,
        "start_time": "2022-05-10T15:20:25.559Z"
      },
      {
        "duration": 44,
        "start_time": "2022-05-10T15:20:25.720Z"
      },
      {
        "duration": 346,
        "start_time": "2022-05-10T15:20:25.767Z"
      },
      {
        "duration": 1038,
        "start_time": "2022-05-10T15:20:26.116Z"
      },
      {
        "duration": 182,
        "start_time": "2022-05-10T15:20:27.157Z"
      },
      {
        "duration": 2126,
        "start_time": "2022-05-10T15:20:27.341Z"
      },
      {
        "duration": 60,
        "start_time": "2022-05-10T15:20:29.470Z"
      },
      {
        "duration": 6,
        "start_time": "2022-05-10T15:20:29.553Z"
      },
      {
        "duration": 5726,
        "start_time": "2022-05-10T15:20:29.562Z"
      },
      {
        "duration": 7,
        "start_time": "2022-05-10T15:20:35.290Z"
      },
      {
        "duration": 153,
        "start_time": "2022-05-10T15:20:35.299Z"
      },
      {
        "duration": 275,
        "start_time": "2022-05-10T15:20:35.454Z"
      },
      {
        "duration": 154,
        "start_time": "2022-05-10T15:20:35.732Z"
      },
      {
        "duration": 2080,
        "start_time": "2022-05-10T15:20:35.889Z"
      },
      {
        "duration": 170,
        "start_time": "2022-05-10T15:20:37.972Z"
      },
      {
        "duration": 10,
        "start_time": "2022-05-10T15:20:38.145Z"
      },
      {
        "duration": 329,
        "start_time": "2022-05-10T15:33:05.768Z"
      },
      {
        "duration": 339,
        "start_time": "2022-05-10T15:33:10.587Z"
      },
      {
        "duration": 319,
        "start_time": "2022-05-10T15:33:20.932Z"
      },
      {
        "duration": 326,
        "start_time": "2022-05-10T15:33:32.726Z"
      },
      {
        "duration": 2382,
        "start_time": "2022-05-10T15:33:42.712Z"
      },
      {
        "duration": 1059,
        "start_time": "2022-05-10T15:33:45.097Z"
      },
      {
        "duration": 188,
        "start_time": "2022-05-10T15:33:46.159Z"
      },
      {
        "duration": 27,
        "start_time": "2022-05-10T15:33:46.353Z"
      },
      {
        "duration": 138,
        "start_time": "2022-05-10T15:33:46.382Z"
      },
      {
        "duration": 1035,
        "start_time": "2022-05-10T15:33:46.522Z"
      },
      {
        "duration": 385,
        "start_time": "2022-05-10T15:33:47.560Z"
      },
      {
        "duration": 139,
        "start_time": "2022-05-10T15:33:47.952Z"
      },
      {
        "duration": 6,
        "start_time": "2022-05-10T15:33:48.094Z"
      },
      {
        "duration": 92,
        "start_time": "2022-05-10T15:33:48.104Z"
      },
      {
        "duration": 527,
        "start_time": "2022-05-10T15:33:48.198Z"
      },
      {
        "duration": 224,
        "start_time": "2022-05-10T15:33:48.727Z"
      },
      {
        "duration": 11,
        "start_time": "2022-05-10T15:33:48.954Z"
      },
      {
        "duration": 24,
        "start_time": "2022-05-10T15:33:48.967Z"
      },
      {
        "duration": 316,
        "start_time": "2022-05-10T15:33:48.993Z"
      },
      {
        "duration": 69,
        "start_time": "2022-05-10T15:33:49.312Z"
      },
      {
        "duration": 103,
        "start_time": "2022-05-10T15:33:49.383Z"
      },
      {
        "duration": 33,
        "start_time": "2022-05-10T15:33:49.488Z"
      },
      {
        "duration": 6,
        "start_time": "2022-05-10T15:33:49.523Z"
      },
      {
        "duration": 245,
        "start_time": "2022-05-10T15:33:49.532Z"
      },
      {
        "duration": 48,
        "start_time": "2022-05-10T15:33:49.780Z"
      },
      {
        "duration": 76,
        "start_time": "2022-05-10T15:33:49.830Z"
      },
      {
        "duration": 142,
        "start_time": "2022-05-10T15:33:49.909Z"
      },
      {
        "duration": 50,
        "start_time": "2022-05-10T15:33:50.054Z"
      },
      {
        "duration": 84,
        "start_time": "2022-05-10T15:33:50.107Z"
      },
      {
        "duration": 66,
        "start_time": "2022-05-10T15:33:50.193Z"
      },
      {
        "duration": 23,
        "start_time": "2022-05-10T15:33:50.261Z"
      },
      {
        "duration": 202,
        "start_time": "2022-05-10T15:33:50.291Z"
      },
      {
        "duration": 22,
        "start_time": "2022-05-10T15:33:50.496Z"
      },
      {
        "duration": 178,
        "start_time": "2022-05-10T15:33:50.521Z"
      },
      {
        "duration": 249,
        "start_time": "2022-05-10T15:33:50.702Z"
      },
      {
        "duration": 165,
        "start_time": "2022-05-10T15:33:50.954Z"
      },
      {
        "duration": 49,
        "start_time": "2022-05-10T15:33:51.122Z"
      },
      {
        "duration": 181,
        "start_time": "2022-05-10T15:33:51.173Z"
      },
      {
        "duration": 22,
        "start_time": "2022-05-10T15:33:51.356Z"
      },
      {
        "duration": 97,
        "start_time": "2022-05-10T15:33:51.380Z"
      },
      {
        "duration": 20,
        "start_time": "2022-05-10T15:33:51.480Z"
      },
      {
        "duration": 180,
        "start_time": "2022-05-10T15:33:51.503Z"
      },
      {
        "duration": 754,
        "start_time": "2022-05-10T15:33:51.686Z"
      },
      {
        "duration": 192,
        "start_time": "2022-05-10T15:33:52.442Z"
      },
      {
        "duration": 2106,
        "start_time": "2022-05-10T15:33:52.637Z"
      },
      {
        "duration": 50,
        "start_time": "2022-05-10T15:33:54.752Z"
      },
      {
        "duration": 5,
        "start_time": "2022-05-10T15:33:54.805Z"
      },
      {
        "duration": 2622,
        "start_time": "2022-05-10T15:34:01.943Z"
      },
      {
        "duration": 1090,
        "start_time": "2022-05-10T15:34:04.569Z"
      },
      {
        "duration": 205,
        "start_time": "2022-05-10T15:34:05.662Z"
      },
      {
        "duration": 25,
        "start_time": "2022-05-10T15:34:05.869Z"
      },
      {
        "duration": 141,
        "start_time": "2022-05-10T15:34:05.897Z"
      },
      {
        "duration": 1116,
        "start_time": "2022-05-10T15:34:06.042Z"
      },
      {
        "duration": 388,
        "start_time": "2022-05-10T15:34:07.160Z"
      },
      {
        "duration": 134,
        "start_time": "2022-05-10T15:34:07.551Z"
      },
      {
        "duration": 5,
        "start_time": "2022-05-10T15:34:07.687Z"
      },
      {
        "duration": 96,
        "start_time": "2022-05-10T15:34:07.695Z"
      },
      {
        "duration": 541,
        "start_time": "2022-05-10T15:34:07.793Z"
      },
      {
        "duration": 235,
        "start_time": "2022-05-10T15:34:08.337Z"
      },
      {
        "duration": 13,
        "start_time": "2022-05-10T15:34:08.574Z"
      },
      {
        "duration": 26,
        "start_time": "2022-05-10T15:34:08.591Z"
      },
      {
        "duration": 333,
        "start_time": "2022-05-10T15:34:08.619Z"
      },
      {
        "duration": 60,
        "start_time": "2022-05-10T15:34:08.954Z"
      },
      {
        "duration": 118,
        "start_time": "2022-05-10T15:34:09.016Z"
      },
      {
        "duration": 46,
        "start_time": "2022-05-10T15:34:09.137Z"
      },
      {
        "duration": 7,
        "start_time": "2022-05-10T15:34:09.185Z"
      },
      {
        "duration": 260,
        "start_time": "2022-05-10T15:34:09.194Z"
      },
      {
        "duration": 51,
        "start_time": "2022-05-10T15:34:09.457Z"
      },
      {
        "duration": 95,
        "start_time": "2022-05-10T15:34:09.510Z"
      },
      {
        "duration": 138,
        "start_time": "2022-05-10T15:34:09.608Z"
      },
      {
        "duration": 50,
        "start_time": "2022-05-10T15:34:09.748Z"
      },
      {
        "duration": 82,
        "start_time": "2022-05-10T15:34:09.801Z"
      },
      {
        "duration": 47,
        "start_time": "2022-05-10T15:34:09.885Z"
      },
      {
        "duration": 38,
        "start_time": "2022-05-10T15:34:09.934Z"
      },
      {
        "duration": 203,
        "start_time": "2022-05-10T15:34:09.975Z"
      },
      {
        "duration": 22,
        "start_time": "2022-05-10T15:34:10.180Z"
      },
      {
        "duration": 183,
        "start_time": "2022-05-10T15:34:10.205Z"
      },
      {
        "duration": 244,
        "start_time": "2022-05-10T15:34:10.390Z"
      },
      {
        "duration": 179,
        "start_time": "2022-05-10T15:34:10.636Z"
      },
      {
        "duration": 52,
        "start_time": "2022-05-10T15:34:10.817Z"
      },
      {
        "duration": 190,
        "start_time": "2022-05-10T15:34:10.871Z"
      },
      {
        "duration": 23,
        "start_time": "2022-05-10T15:34:11.063Z"
      },
      {
        "duration": 92,
        "start_time": "2022-05-10T15:34:11.088Z"
      },
      {
        "duration": 21,
        "start_time": "2022-05-10T15:34:11.183Z"
      },
      {
        "duration": 186,
        "start_time": "2022-05-10T15:34:11.206Z"
      },
      {
        "duration": 737,
        "start_time": "2022-05-10T15:34:11.395Z"
      },
      {
        "duration": 186,
        "start_time": "2022-05-10T15:34:12.134Z"
      },
      {
        "duration": 2079,
        "start_time": "2022-05-10T15:34:12.327Z"
      },
      {
        "duration": 50,
        "start_time": "2022-05-10T15:34:14.409Z"
      },
      {
        "duration": 5,
        "start_time": "2022-05-10T15:34:14.461Z"
      },
      {
        "duration": 5615,
        "start_time": "2022-05-10T15:34:14.468Z"
      },
      {
        "duration": 6,
        "start_time": "2022-05-10T15:34:20.085Z"
      },
      {
        "duration": 138,
        "start_time": "2022-05-10T15:34:20.094Z"
      },
      {
        "duration": 284,
        "start_time": "2022-05-10T15:34:20.235Z"
      },
      {
        "duration": 130,
        "start_time": "2022-05-10T15:34:20.521Z"
      },
      {
        "duration": 2162,
        "start_time": "2022-05-10T15:34:20.654Z"
      },
      {
        "duration": 168,
        "start_time": "2022-05-10T15:34:22.819Z"
      },
      {
        "duration": 6,
        "start_time": "2022-05-10T15:34:22.989Z"
      },
      {
        "duration": 1857,
        "start_time": "2022-05-10T15:53:09.615Z"
      },
      {
        "duration": 155,
        "start_time": "2022-05-10T15:53:33.079Z"
      },
      {
        "duration": 1782,
        "start_time": "2022-05-10T15:56:32.997Z"
      },
      {
        "duration": 2514,
        "start_time": "2022-05-10T15:56:43.802Z"
      },
      {
        "duration": 1087,
        "start_time": "2022-05-10T15:56:46.319Z"
      },
      {
        "duration": 182,
        "start_time": "2022-05-10T15:56:47.408Z"
      },
      {
        "duration": 26,
        "start_time": "2022-05-10T15:56:47.593Z"
      },
      {
        "duration": 139,
        "start_time": "2022-05-10T15:56:47.621Z"
      },
      {
        "duration": 1163,
        "start_time": "2022-05-10T15:56:47.762Z"
      },
      {
        "duration": 399,
        "start_time": "2022-05-10T15:56:48.928Z"
      },
      {
        "duration": 143,
        "start_time": "2022-05-10T15:56:49.330Z"
      },
      {
        "duration": 5,
        "start_time": "2022-05-10T15:56:49.476Z"
      },
      {
        "duration": 95,
        "start_time": "2022-05-10T15:56:49.487Z"
      },
      {
        "duration": 849,
        "start_time": "2022-05-10T15:56:49.585Z"
      },
      {
        "duration": 237,
        "start_time": "2022-05-10T15:56:50.436Z"
      },
      {
        "duration": 11,
        "start_time": "2022-05-10T15:56:50.676Z"
      },
      {
        "duration": 24,
        "start_time": "2022-05-10T15:56:50.690Z"
      },
      {
        "duration": 323,
        "start_time": "2022-05-10T15:56:50.717Z"
      },
      {
        "duration": 66,
        "start_time": "2022-05-10T15:56:51.043Z"
      },
      {
        "duration": 103,
        "start_time": "2022-05-10T15:56:51.111Z"
      },
      {
        "duration": 49,
        "start_time": "2022-05-10T15:56:51.217Z"
      },
      {
        "duration": 8,
        "start_time": "2022-05-10T15:56:51.269Z"
      },
      {
        "duration": 249,
        "start_time": "2022-05-10T15:56:51.279Z"
      },
      {
        "duration": 58,
        "start_time": "2022-05-10T15:56:51.531Z"
      },
      {
        "duration": 83,
        "start_time": "2022-05-10T15:56:51.591Z"
      },
      {
        "duration": 132,
        "start_time": "2022-05-10T15:56:51.676Z"
      },
      {
        "duration": 56,
        "start_time": "2022-05-10T15:56:51.810Z"
      },
      {
        "duration": 62,
        "start_time": "2022-05-10T15:56:51.868Z"
      },
      {
        "duration": 65,
        "start_time": "2022-05-10T15:56:51.933Z"
      },
      {
        "duration": 22,
        "start_time": "2022-05-10T15:56:52.000Z"
      },
      {
        "duration": 195,
        "start_time": "2022-05-10T15:56:52.053Z"
      },
      {
        "duration": 22,
        "start_time": "2022-05-10T15:56:52.251Z"
      },
      {
        "duration": 185,
        "start_time": "2022-05-10T15:56:52.274Z"
      },
      {
        "duration": 263,
        "start_time": "2022-05-10T15:56:52.461Z"
      },
      {
        "duration": 169,
        "start_time": "2022-05-10T15:56:52.727Z"
      },
      {
        "duration": 56,
        "start_time": "2022-05-10T15:56:52.898Z"
      },
      {
        "duration": 186,
        "start_time": "2022-05-10T15:56:52.956Z"
      },
      {
        "duration": 21,
        "start_time": "2022-05-10T15:56:53.151Z"
      },
      {
        "duration": 91,
        "start_time": "2022-05-10T15:56:53.174Z"
      },
      {
        "duration": 22,
        "start_time": "2022-05-10T15:56:53.267Z"
      },
      {
        "duration": 180,
        "start_time": "2022-05-10T15:56:53.292Z"
      },
      {
        "duration": 713,
        "start_time": "2022-05-10T15:56:53.474Z"
      },
      {
        "duration": 176,
        "start_time": "2022-05-10T15:56:54.189Z"
      },
      {
        "duration": 2089,
        "start_time": "2022-05-10T15:56:54.368Z"
      },
      {
        "duration": 43,
        "start_time": "2022-05-10T15:56:56.459Z"
      },
      {
        "duration": 5,
        "start_time": "2022-05-10T15:56:56.504Z"
      },
      {
        "duration": 5602,
        "start_time": "2022-05-10T15:56:56.511Z"
      },
      {
        "duration": 7,
        "start_time": "2022-05-10T15:57:02.115Z"
      },
      {
        "duration": 139,
        "start_time": "2022-05-10T15:57:02.124Z"
      },
      {
        "duration": 265,
        "start_time": "2022-05-10T15:57:02.265Z"
      },
      {
        "duration": 134,
        "start_time": "2022-05-10T15:57:02.532Z"
      },
      {
        "duration": 2046,
        "start_time": "2022-05-10T15:57:02.668Z"
      },
      {
        "duration": 165,
        "start_time": "2022-05-10T15:57:04.716Z"
      },
      {
        "duration": 6,
        "start_time": "2022-05-10T15:57:04.883Z"
      },
      {
        "duration": 23,
        "start_time": "2022-05-10T16:32:15.259Z"
      },
      {
        "duration": 45,
        "start_time": "2022-05-10T16:32:42.300Z"
      },
      {
        "duration": 167,
        "start_time": "2022-05-10T16:32:59.972Z"
      },
      {
        "duration": 177,
        "start_time": "2022-05-10T16:43:18.620Z"
      },
      {
        "duration": 23,
        "start_time": "2022-05-10T16:43:30.352Z"
      },
      {
        "duration": 19,
        "start_time": "2022-05-10T16:44:32.163Z"
      },
      {
        "duration": 42,
        "start_time": "2022-05-10T16:44:39.799Z"
      },
      {
        "duration": 16,
        "start_time": "2022-05-10T16:44:48.094Z"
      },
      {
        "duration": 156,
        "start_time": "2022-05-10T16:56:07.088Z"
      },
      {
        "duration": 115,
        "start_time": "2022-05-10T16:56:30.218Z"
      },
      {
        "duration": 5,
        "start_time": "2022-05-10T16:56:42.102Z"
      },
      {
        "duration": 35,
        "start_time": "2022-05-10T17:04:23.725Z"
      },
      {
        "duration": 16,
        "start_time": "2022-05-10T17:04:24.383Z"
      },
      {
        "duration": 170,
        "start_time": "2022-05-10T17:04:25.610Z"
      },
      {
        "duration": 118,
        "start_time": "2022-05-10T17:04:25.929Z"
      },
      {
        "duration": 6,
        "start_time": "2022-05-10T17:04:26.261Z"
      },
      {
        "duration": 10,
        "start_time": "2022-05-10T17:05:01.274Z"
      },
      {
        "duration": 5,
        "start_time": "2022-05-10T17:05:25.327Z"
      },
      {
        "duration": 1503,
        "start_time": "2022-05-10T17:06:04.806Z"
      },
      {
        "duration": 3651,
        "start_time": "2022-05-10T17:06:13.940Z"
      },
      {
        "duration": 2402,
        "start_time": "2022-05-10T17:06:24.550Z"
      },
      {
        "duration": 5,
        "start_time": "2022-05-10T17:06:50.222Z"
      },
      {
        "duration": 5,
        "start_time": "2022-05-10T17:07:05.037Z"
      },
      {
        "duration": 28633,
        "start_time": "2022-05-10T17:07:36.665Z"
      },
      {
        "duration": 3,
        "start_time": "2022-05-10T17:08:21.691Z"
      },
      {
        "duration": 14,
        "start_time": "2022-05-10T17:08:41.896Z"
      },
      {
        "duration": 514,
        "start_time": "2022-05-10T17:08:49.521Z"
      },
      {
        "duration": 829,
        "start_time": "2022-05-10T17:08:55.627Z"
      },
      {
        "duration": 13,
        "start_time": "2022-05-10T17:09:42.659Z"
      },
      {
        "duration": 7731,
        "start_time": "2022-05-10T17:09:50.048Z"
      },
      {
        "duration": 100810,
        "start_time": "2022-05-10T17:10:14.965Z"
      },
      {
        "duration": 654,
        "start_time": "2022-05-10T17:12:04.124Z"
      },
      {
        "duration": 374,
        "start_time": "2022-05-10T17:12:04.781Z"
      },
      {
        "duration": 205434,
        "start_time": "2022-05-10T17:12:05.158Z"
      },
      {
        "duration": 1069,
        "start_time": "2022-05-10T17:15:30.595Z"
      },
      {
        "duration": 396,
        "start_time": "2022-05-10T17:15:31.667Z"
      },
      {
        "duration": 16,
        "start_time": "2022-05-10T17:15:32.069Z"
      },
      {
        "duration": 16,
        "start_time": "2022-05-10T17:15:32.087Z"
      },
      {
        "duration": 52,
        "start_time": "2022-05-10T17:15:32.105Z"
      },
      {
        "duration": 4,
        "start_time": "2022-05-10T17:15:32.160Z"
      },
      {
        "duration": 1480,
        "start_time": "2022-05-10T17:15:32.166Z"
      },
      {
        "duration": 13,
        "start_time": "2022-05-10T17:15:33.651Z"
      },
      {
        "duration": 135,
        "start_time": "2022-05-10T17:15:33.669Z"
      },
      {
        "duration": 5,
        "start_time": "2022-05-10T17:15:33.806Z"
      },
      {
        "duration": 8,
        "start_time": "2022-05-10T17:15:33.813Z"
      },
      {
        "duration": 14053,
        "start_time": "2022-05-10T17:15:33.823Z"
      },
      {
        "duration": 125,
        "start_time": "2022-05-10T17:15:47.956Z"
      },
      {
        "duration": 118,
        "start_time": "2022-05-10T17:15:48.082Z"
      },
      {
        "duration": 4,
        "start_time": "2022-05-10T17:15:48.203Z"
      },
      {
        "duration": 1298,
        "start_time": "2022-05-10T17:15:53.466Z"
      },
      {
        "duration": 418,
        "start_time": "2022-05-10T17:15:58.833Z"
      },
      {
        "duration": 133,
        "start_time": "2022-05-10T17:16:12.366Z"
      },
      {
        "duration": 1225,
        "start_time": "2022-05-10T17:16:50.959Z"
      },
      {
        "duration": 426,
        "start_time": "2022-05-10T17:17:04.246Z"
      },
      {
        "duration": 280,
        "start_time": "2022-05-10T17:17:45.904Z"
      },
      {
        "duration": 7,
        "start_time": "2022-05-10T17:17:57.420Z"
      },
      {
        "duration": 542,
        "start_time": "2022-05-10T17:18:34.582Z"
      },
      {
        "duration": 14,
        "start_time": "2022-05-10T17:18:43.063Z"
      },
      {
        "duration": 5,
        "start_time": "2022-05-10T17:18:47.336Z"
      },
      {
        "duration": 184037,
        "start_time": "2022-05-10T17:18:57.770Z"
      },
      {
        "duration": 1677,
        "start_time": "2022-05-10T17:22:01.810Z"
      },
      {
        "duration": 578,
        "start_time": "2022-05-10T17:22:03.490Z"
      },
      {
        "duration": 4,
        "start_time": "2022-05-10T17:22:04.071Z"
      },
      {
        "duration": 172889,
        "start_time": "2022-05-10T17:22:04.078Z"
      },
      {
        "duration": 1026,
        "start_time": "2022-05-10T17:24:56.969Z"
      },
      {
        "duration": 349,
        "start_time": "2022-05-10T17:24:57.998Z"
      },
      {
        "duration": 50,
        "start_time": "2022-05-11T16:56:12.182Z"
      },
      {
        "duration": 2187,
        "start_time": "2022-05-11T16:56:22.120Z"
      },
      {
        "duration": 783,
        "start_time": "2022-05-11T16:56:24.309Z"
      },
      {
        "duration": 142,
        "start_time": "2022-05-11T16:56:25.094Z"
      },
      {
        "duration": 17,
        "start_time": "2022-05-11T16:56:25.238Z"
      },
      {
        "duration": 136,
        "start_time": "2022-05-11T16:56:25.257Z"
      },
      {
        "duration": 876,
        "start_time": "2022-05-11T16:56:25.394Z"
      },
      {
        "duration": 301,
        "start_time": "2022-05-11T16:56:26.272Z"
      },
      {
        "duration": 90,
        "start_time": "2022-05-11T16:56:26.574Z"
      },
      {
        "duration": 4,
        "start_time": "2022-05-11T16:56:26.665Z"
      },
      {
        "duration": 35,
        "start_time": "2022-05-11T16:56:26.672Z"
      },
      {
        "duration": 360,
        "start_time": "2022-05-11T16:56:26.709Z"
      },
      {
        "duration": 160,
        "start_time": "2022-05-11T16:56:27.071Z"
      },
      {
        "duration": 8,
        "start_time": "2022-05-11T16:56:27.233Z"
      },
      {
        "duration": 18,
        "start_time": "2022-05-11T16:56:27.242Z"
      },
      {
        "duration": 177,
        "start_time": "2022-05-11T16:56:27.261Z"
      },
      {
        "duration": 33,
        "start_time": "2022-05-11T16:56:27.440Z"
      },
      {
        "duration": 87,
        "start_time": "2022-05-11T16:56:27.475Z"
      },
      {
        "duration": 25,
        "start_time": "2022-05-11T16:56:27.563Z"
      },
      {
        "duration": 5,
        "start_time": "2022-05-11T16:56:27.589Z"
      },
      {
        "duration": 150,
        "start_time": "2022-05-11T16:56:27.595Z"
      },
      {
        "duration": 36,
        "start_time": "2022-05-11T16:56:27.747Z"
      },
      {
        "duration": 55,
        "start_time": "2022-05-11T16:56:27.784Z"
      },
      {
        "duration": 82,
        "start_time": "2022-05-11T16:56:27.841Z"
      },
      {
        "duration": 33,
        "start_time": "2022-05-11T16:56:27.925Z"
      },
      {
        "duration": 42,
        "start_time": "2022-05-11T16:56:27.960Z"
      },
      {
        "duration": 34,
        "start_time": "2022-05-11T16:56:28.023Z"
      },
      {
        "duration": 17,
        "start_time": "2022-05-11T16:56:28.059Z"
      },
      {
        "duration": 135,
        "start_time": "2022-05-11T16:56:28.082Z"
      },
      {
        "duration": 16,
        "start_time": "2022-05-11T16:56:28.222Z"
      },
      {
        "duration": 140,
        "start_time": "2022-05-11T16:56:28.240Z"
      },
      {
        "duration": 152,
        "start_time": "2022-05-11T16:56:28.382Z"
      },
      {
        "duration": 129,
        "start_time": "2022-05-11T16:56:28.536Z"
      },
      {
        "duration": 34,
        "start_time": "2022-05-11T16:56:28.667Z"
      },
      {
        "duration": 120,
        "start_time": "2022-05-11T16:56:28.703Z"
      },
      {
        "duration": 18,
        "start_time": "2022-05-11T16:56:28.825Z"
      },
      {
        "duration": 55,
        "start_time": "2022-05-11T16:56:28.845Z"
      },
      {
        "duration": 35,
        "start_time": "2022-05-11T16:56:28.901Z"
      },
      {
        "duration": 159,
        "start_time": "2022-05-11T16:56:28.938Z"
      },
      {
        "duration": 444,
        "start_time": "2022-05-11T16:56:29.099Z"
      },
      {
        "duration": 138,
        "start_time": "2022-05-11T16:56:29.545Z"
      },
      {
        "duration": 1518,
        "start_time": "2022-05-11T16:56:29.685Z"
      },
      {
        "duration": 35,
        "start_time": "2022-05-11T16:56:31.204Z"
      },
      {
        "duration": 3,
        "start_time": "2022-05-11T16:56:31.241Z"
      },
      {
        "duration": 3335,
        "start_time": "2022-05-11T16:56:31.245Z"
      },
      {
        "duration": 5,
        "start_time": "2022-05-11T16:56:34.581Z"
      },
      {
        "duration": 72,
        "start_time": "2022-05-11T16:56:34.588Z"
      },
      {
        "duration": 171,
        "start_time": "2022-05-11T16:56:34.661Z"
      },
      {
        "duration": 60,
        "start_time": "2022-05-11T16:56:34.834Z"
      },
      {
        "duration": 1488,
        "start_time": "2022-05-11T16:56:34.895Z"
      },
      {
        "duration": 137,
        "start_time": "2022-05-11T16:56:36.385Z"
      },
      {
        "duration": 135,
        "start_time": "2022-05-11T16:56:36.524Z"
      },
      {
        "duration": 27,
        "start_time": "2022-05-11T16:56:36.661Z"
      },
      {
        "duration": 11,
        "start_time": "2022-05-11T16:56:36.690Z"
      },
      {
        "duration": 64,
        "start_time": "2022-05-11T16:56:36.722Z"
      },
      {
        "duration": 60,
        "start_time": "2022-05-11T16:56:36.787Z"
      },
      {
        "duration": 3,
        "start_time": "2022-05-11T16:56:36.849Z"
      },
      {
        "duration": 14,
        "start_time": "2022-05-11T16:56:36.854Z"
      },
      {
        "duration": 7,
        "start_time": "2022-05-11T16:56:36.869Z"
      },
      {
        "duration": 1571,
        "start_time": "2022-05-11T16:56:36.878Z"
      },
      {
        "duration": 3,
        "start_time": "2022-05-11T16:56:38.451Z"
      },
      {
        "duration": 7,
        "start_time": "2022-05-11T16:56:38.456Z"
      },
      {
        "duration": 20990,
        "start_time": "2022-05-11T16:56:38.465Z"
      },
      {
        "duration": 3,
        "start_time": "2022-05-11T16:56:59.457Z"
      },
      {
        "duration": 583,
        "start_time": "2022-05-11T16:56:59.461Z"
      },
      {
        "duration": 5589,
        "start_time": "2022-05-11T16:57:00.045Z"
      },
      {
        "duration": 61000,
        "start_time": "2022-05-11T16:57:05.636Z"
      },
      {
        "duration": 303,
        "start_time": "2022-05-11T16:58:06.638Z"
      },
      {
        "duration": 187,
        "start_time": "2022-05-11T16:58:06.943Z"
      },
      {
        "duration": 122411,
        "start_time": "2022-05-11T16:58:07.132Z"
      },
      {
        "duration": 498,
        "start_time": "2022-05-11T17:00:09.545Z"
      },
      {
        "duration": 279,
        "start_time": "2022-05-11T17:00:10.045Z"
      },
      {
        "duration": 11,
        "start_time": "2022-05-11T17:00:10.325Z"
      },
      {
        "duration": 18,
        "start_time": "2022-05-11T17:00:10.337Z"
      },
      {
        "duration": 13,
        "start_time": "2022-05-11T17:00:10.356Z"
      },
      {
        "duration": 17,
        "start_time": "2022-05-11T17:00:10.371Z"
      },
      {
        "duration": 987,
        "start_time": "2022-05-11T17:00:10.390Z"
      },
      {
        "duration": 9,
        "start_time": "2022-05-11T17:00:11.379Z"
      },
      {
        "duration": 109,
        "start_time": "2022-05-11T17:00:11.390Z"
      },
      {
        "duration": 3,
        "start_time": "2022-05-11T17:00:11.501Z"
      },
      {
        "duration": 17,
        "start_time": "2022-05-11T17:00:11.507Z"
      },
      {
        "duration": 8901,
        "start_time": "2022-05-11T17:00:11.526Z"
      },
      {
        "duration": 1091,
        "start_time": "2022-05-11T17:00:20.433Z"
      },
      {
        "duration": 313,
        "start_time": "2022-05-11T17:00:21.525Z"
      },
      {
        "duration": 3,
        "start_time": "2022-05-11T17:00:21.840Z"
      },
      {
        "duration": 9,
        "start_time": "2022-05-11T17:00:21.922Z"
      },
      {
        "duration": 1010,
        "start_time": "2022-05-11T17:00:21.933Z"
      },
      {
        "duration": 309,
        "start_time": "2022-05-11T17:00:23.023Z"
      },
      {
        "duration": 194,
        "start_time": "2022-05-11T17:00:23.333Z"
      },
      {
        "duration": 4,
        "start_time": "2022-05-11T17:00:23.529Z"
      },
      {
        "duration": 364,
        "start_time": "2022-05-11T17:00:23.535Z"
      },
      {
        "duration": 3,
        "start_time": "2022-05-11T17:00:23.901Z"
      },
      {
        "duration": 80269,
        "start_time": "2022-05-11T17:00:23.906Z"
      },
      {
        "duration": 1171,
        "start_time": "2022-05-11T17:01:44.176Z"
      },
      {
        "duration": 406,
        "start_time": "2022-05-11T17:01:45.349Z"
      },
      {
        "duration": 3,
        "start_time": "2022-05-11T17:01:45.757Z"
      },
      {
        "duration": 73893,
        "start_time": "2022-05-11T17:01:45.761Z"
      },
      {
        "duration": 670,
        "start_time": "2022-05-11T17:02:59.656Z"
      },
      {
        "duration": 243,
        "start_time": "2022-05-11T17:03:00.328Z"
      },
      {
        "duration": 129,
        "start_time": "2022-05-11T17:03:00.573Z"
      },
      {
        "duration": 0,
        "start_time": "2022-05-11T17:03:00.703Z"
      },
      {
        "duration": 4,
        "start_time": "2022-05-11T17:03:50.084Z"
      },
      {
        "duration": 72592,
        "start_time": "2022-05-11T17:03:51.435Z"
      },
      {
        "duration": 673,
        "start_time": "2022-05-11T17:05:04.028Z"
      },
      {
        "duration": 231,
        "start_time": "2022-05-11T17:05:04.703Z"
      },
      {
        "duration": 11,
        "start_time": "2022-05-11T17:05:04.936Z"
      },
      {
        "duration": 13,
        "start_time": "2022-05-11T17:07:54.205Z"
      },
      {
        "duration": 18,
        "start_time": "2022-05-11T17:08:04.924Z"
      },
      {
        "duration": 178,
        "start_time": "2022-05-11T17:08:07.772Z"
      },
      {
        "duration": 116,
        "start_time": "2022-05-11T17:08:08.221Z"
      },
      {
        "duration": 165,
        "start_time": "2022-05-11T17:08:46.387Z"
      },
      {
        "duration": 339,
        "start_time": "2022-05-11T17:08:50.629Z"
      },
      {
        "duration": 218,
        "start_time": "2022-05-11T17:08:55.579Z"
      },
      {
        "duration": 8,
        "start_time": "2022-05-11T17:08:56.811Z"
      },
      {
        "duration": 9,
        "start_time": "2022-05-11T17:08:58.867Z"
      },
      {
        "duration": 11,
        "start_time": "2022-05-11T17:08:59.866Z"
      },
      {
        "duration": 5,
        "start_time": "2022-05-11T17:09:44.922Z"
      },
      {
        "duration": 7,
        "start_time": "2022-05-11T17:09:58.059Z"
      },
      {
        "duration": 21,
        "start_time": "2022-05-11T17:10:06.844Z"
      },
      {
        "duration": 17,
        "start_time": "2022-05-11T17:10:29.267Z"
      },
      {
        "duration": 6,
        "start_time": "2022-05-11T17:12:32.341Z"
      },
      {
        "duration": 228,
        "start_time": "2022-05-11T17:36:59.730Z"
      },
      {
        "duration": 2193,
        "start_time": "2022-05-11T17:37:08.367Z"
      },
      {
        "duration": 925,
        "start_time": "2022-05-11T17:37:10.563Z"
      },
      {
        "duration": 149,
        "start_time": "2022-05-11T17:37:11.490Z"
      },
      {
        "duration": 17,
        "start_time": "2022-05-11T17:37:11.641Z"
      },
      {
        "duration": 115,
        "start_time": "2022-05-11T17:37:11.660Z"
      },
      {
        "duration": 979,
        "start_time": "2022-05-11T17:37:11.777Z"
      },
      {
        "duration": 461,
        "start_time": "2022-05-11T17:37:12.758Z"
      },
      {
        "duration": 88,
        "start_time": "2022-05-11T17:37:13.222Z"
      },
      {
        "duration": 13,
        "start_time": "2022-05-11T17:37:13.312Z"
      },
      {
        "duration": 46,
        "start_time": "2022-05-11T17:37:13.328Z"
      },
      {
        "duration": 387,
        "start_time": "2022-05-11T17:37:13.376Z"
      },
      {
        "duration": 177,
        "start_time": "2022-05-11T17:37:13.764Z"
      },
      {
        "duration": 8,
        "start_time": "2022-05-11T17:37:13.943Z"
      },
      {
        "duration": 20,
        "start_time": "2022-05-11T17:37:13.952Z"
      },
      {
        "duration": 209,
        "start_time": "2022-05-11T17:37:13.974Z"
      },
      {
        "duration": 50,
        "start_time": "2022-05-11T17:37:14.186Z"
      },
      {
        "duration": 69,
        "start_time": "2022-05-11T17:37:14.238Z"
      },
      {
        "duration": 34,
        "start_time": "2022-05-11T17:37:14.309Z"
      },
      {
        "duration": 5,
        "start_time": "2022-05-11T17:37:14.344Z"
      },
      {
        "duration": 182,
        "start_time": "2022-05-11T17:37:14.351Z"
      },
      {
        "duration": 39,
        "start_time": "2022-05-11T17:37:14.535Z"
      },
      {
        "duration": 64,
        "start_time": "2022-05-11T17:37:14.576Z"
      },
      {
        "duration": 96,
        "start_time": "2022-05-11T17:37:14.641Z"
      },
      {
        "duration": 35,
        "start_time": "2022-05-11T17:37:14.739Z"
      },
      {
        "duration": 68,
        "start_time": "2022-05-11T17:37:14.776Z"
      },
      {
        "duration": 35,
        "start_time": "2022-05-11T17:37:14.846Z"
      },
      {
        "duration": 18,
        "start_time": "2022-05-11T17:37:14.883Z"
      },
      {
        "duration": 145,
        "start_time": "2022-05-11T17:37:14.923Z"
      },
      {
        "duration": 18,
        "start_time": "2022-05-11T17:37:15.070Z"
      },
      {
        "duration": 144,
        "start_time": "2022-05-11T17:37:15.090Z"
      },
      {
        "duration": 192,
        "start_time": "2022-05-11T17:37:15.236Z"
      },
      {
        "duration": 150,
        "start_time": "2022-05-11T17:37:15.431Z"
      },
      {
        "duration": 58,
        "start_time": "2022-05-11T17:37:15.583Z"
      },
      {
        "duration": 170,
        "start_time": "2022-05-11T17:37:15.643Z"
      },
      {
        "duration": 31,
        "start_time": "2022-05-11T17:37:15.815Z"
      },
      {
        "duration": 105,
        "start_time": "2022-05-11T17:37:15.848Z"
      },
      {
        "duration": 31,
        "start_time": "2022-05-11T17:37:15.955Z"
      },
      {
        "duration": 266,
        "start_time": "2022-05-11T17:37:15.988Z"
      },
      {
        "duration": 730,
        "start_time": "2022-05-11T17:37:16.256Z"
      },
      {
        "duration": 250,
        "start_time": "2022-05-11T17:37:16.988Z"
      },
      {
        "duration": 2184,
        "start_time": "2022-05-11T17:37:17.240Z"
      },
      {
        "duration": 30,
        "start_time": "2022-05-11T17:37:19.426Z"
      },
      {
        "duration": 4,
        "start_time": "2022-05-11T17:37:19.457Z"
      },
      {
        "duration": 4066,
        "start_time": "2022-05-11T17:37:19.463Z"
      },
      {
        "duration": 5,
        "start_time": "2022-05-11T17:37:23.532Z"
      },
      {
        "duration": 85,
        "start_time": "2022-05-11T17:37:23.539Z"
      },
      {
        "duration": 194,
        "start_time": "2022-05-11T17:37:23.626Z"
      },
      {
        "duration": 65,
        "start_time": "2022-05-11T17:37:23.821Z"
      },
      {
        "duration": 1563,
        "start_time": "2022-05-11T17:37:23.888Z"
      },
      {
        "duration": 141,
        "start_time": "2022-05-11T17:37:25.453Z"
      },
      {
        "duration": 143,
        "start_time": "2022-05-11T17:37:25.595Z"
      },
      {
        "duration": 33,
        "start_time": "2022-05-11T17:37:25.740Z"
      },
      {
        "duration": 12,
        "start_time": "2022-05-11T17:37:25.775Z"
      },
      {
        "duration": 88,
        "start_time": "2022-05-11T17:37:25.788Z"
      },
      {
        "duration": 64,
        "start_time": "2022-05-11T17:37:25.878Z"
      },
      {
        "duration": 4,
        "start_time": "2022-05-11T17:37:25.944Z"
      },
      {
        "duration": 14,
        "start_time": "2022-05-11T17:37:25.949Z"
      },
      {
        "duration": 5,
        "start_time": "2022-05-11T17:37:25.964Z"
      },
      {
        "duration": 1613,
        "start_time": "2022-05-11T17:37:25.971Z"
      },
      {
        "duration": 4,
        "start_time": "2022-05-11T17:37:27.585Z"
      },
      {
        "duration": 22,
        "start_time": "2022-05-11T17:37:27.590Z"
      },
      {
        "duration": 21089,
        "start_time": "2022-05-11T17:37:27.614Z"
      },
      {
        "duration": 4,
        "start_time": "2022-05-11T17:37:48.705Z"
      },
      {
        "duration": 566,
        "start_time": "2022-05-11T17:37:48.723Z"
      },
      {
        "duration": 5540,
        "start_time": "2022-05-11T17:37:49.291Z"
      },
      {
        "duration": 62893,
        "start_time": "2022-05-11T17:37:54.833Z"
      },
      {
        "duration": 308,
        "start_time": "2022-05-11T17:38:57.727Z"
      },
      {
        "duration": 189,
        "start_time": "2022-05-11T17:38:58.037Z"
      },
      {
        "duration": 138417,
        "start_time": "2022-05-11T17:38:58.228Z"
      },
      {
        "duration": 575,
        "start_time": "2022-05-11T17:41:16.648Z"
      },
      {
        "duration": 205,
        "start_time": "2022-05-11T17:41:17.225Z"
      },
      {
        "duration": 17,
        "start_time": "2022-05-11T17:41:17.432Z"
      },
      {
        "duration": 18,
        "start_time": "2022-05-11T17:41:17.452Z"
      },
      {
        "duration": 8,
        "start_time": "2022-05-11T17:41:17.472Z"
      },
      {
        "duration": 5,
        "start_time": "2022-05-11T17:41:17.522Z"
      },
      {
        "duration": 1808,
        "start_time": "2022-05-11T17:41:17.529Z"
      },
      {
        "duration": 15,
        "start_time": "2022-05-11T17:41:19.340Z"
      },
      {
        "duration": 123,
        "start_time": "2022-05-11T17:41:19.357Z"
      },
      {
        "duration": 4,
        "start_time": "2022-05-11T17:41:19.482Z"
      },
      {
        "duration": 9,
        "start_time": "2022-05-11T17:41:19.487Z"
      },
      {
        "duration": 100837,
        "start_time": "2022-05-11T17:41:19.498Z"
      },
      {
        "duration": 1116,
        "start_time": "2022-05-11T17:43:00.342Z"
      },
      {
        "duration": 375,
        "start_time": "2022-05-11T17:43:01.460Z"
      },
      {
        "duration": 3,
        "start_time": "2022-05-11T17:43:01.836Z"
      },
      {
        "duration": 302,
        "start_time": "2022-05-11T17:43:01.841Z"
      },
      {
        "duration": 1010,
        "start_time": "2022-05-11T17:43:02.145Z"
      },
      {
        "duration": 402,
        "start_time": "2022-05-11T17:43:03.157Z"
      },
      {
        "duration": 171,
        "start_time": "2022-05-11T17:43:03.561Z"
      },
      {
        "duration": 5,
        "start_time": "2022-05-11T17:43:03.734Z"
      },
      {
        "duration": 360,
        "start_time": "2022-05-11T17:43:03.740Z"
      },
      {
        "duration": 4,
        "start_time": "2022-05-11T17:43:04.102Z"
      },
      {
        "duration": 106641,
        "start_time": "2022-05-11T17:43:04.107Z"
      },
      {
        "duration": 1210,
        "start_time": "2022-05-11T17:44:50.750Z"
      },
      {
        "duration": 424,
        "start_time": "2022-05-11T17:44:51.962Z"
      },
      {
        "duration": 4,
        "start_time": "2022-05-11T17:44:52.388Z"
      },
      {
        "duration": 91420,
        "start_time": "2022-05-11T17:44:52.394Z"
      },
      {
        "duration": 746,
        "start_time": "2022-05-11T17:46:23.815Z"
      },
      {
        "duration": 243,
        "start_time": "2022-05-11T17:46:24.563Z"
      },
      {
        "duration": 3,
        "start_time": "2022-05-11T17:46:24.808Z"
      },
      {
        "duration": 80044,
        "start_time": "2022-05-11T17:46:24.812Z"
      },
      {
        "duration": 708,
        "start_time": "2022-05-11T17:47:44.858Z"
      },
      {
        "duration": 242,
        "start_time": "2022-05-11T17:47:45.568Z"
      },
      {
        "duration": 24,
        "start_time": "2022-05-11T17:47:45.812Z"
      },
      {
        "duration": 164,
        "start_time": "2022-05-11T17:47:45.838Z"
      },
      {
        "duration": 0,
        "start_time": "2022-05-11T17:47:46.004Z"
      },
      {
        "duration": 0,
        "start_time": "2022-05-11T17:47:46.006Z"
      },
      {
        "duration": 0,
        "start_time": "2022-05-11T17:47:46.008Z"
      },
      {
        "duration": 0,
        "start_time": "2022-05-11T17:47:46.009Z"
      },
      {
        "duration": 0,
        "start_time": "2022-05-11T17:47:46.010Z"
      },
      {
        "duration": 0,
        "start_time": "2022-05-11T17:47:46.011Z"
      },
      {
        "duration": 187,
        "start_time": "2022-05-11T18:43:45.939Z"
      },
      {
        "duration": 262,
        "start_time": "2022-05-11T18:43:46.300Z"
      },
      {
        "duration": 394,
        "start_time": "2022-05-11T18:43:46.621Z"
      },
      {
        "duration": 14,
        "start_time": "2022-05-11T18:43:47.021Z"
      },
      {
        "duration": 21,
        "start_time": "2022-05-11T18:43:47.417Z"
      },
      {
        "duration": 24,
        "start_time": "2022-05-11T18:43:48.920Z"
      },
      {
        "duration": 2,
        "start_time": "2022-05-11T18:45:19.572Z"
      },
      {
        "duration": 179,
        "start_time": "2022-05-11T18:47:00.406Z"
      },
      {
        "duration": 2148,
        "start_time": "2022-05-11T18:47:12.706Z"
      },
      {
        "duration": 967,
        "start_time": "2022-05-11T18:47:14.856Z"
      },
      {
        "duration": 149,
        "start_time": "2022-05-11T18:47:15.827Z"
      },
      {
        "duration": 17,
        "start_time": "2022-05-11T18:47:15.979Z"
      },
      {
        "duration": 126,
        "start_time": "2022-05-11T18:47:15.998Z"
      },
      {
        "duration": 1191,
        "start_time": "2022-05-11T18:47:16.126Z"
      },
      {
        "duration": 348,
        "start_time": "2022-05-11T18:47:17.327Z"
      },
      {
        "duration": 101,
        "start_time": "2022-05-11T18:47:17.677Z"
      },
      {
        "duration": 3,
        "start_time": "2022-05-11T18:47:17.781Z"
      },
      {
        "duration": 59,
        "start_time": "2022-05-11T18:47:17.787Z"
      },
      {
        "duration": 394,
        "start_time": "2022-05-11T18:47:17.847Z"
      },
      {
        "duration": 168,
        "start_time": "2022-05-11T18:47:18.244Z"
      },
      {
        "duration": 18,
        "start_time": "2022-05-11T18:47:18.414Z"
      },
      {
        "duration": 22,
        "start_time": "2022-05-11T18:47:18.434Z"
      },
      {
        "duration": 200,
        "start_time": "2022-05-11T18:47:18.458Z"
      },
      {
        "duration": 36,
        "start_time": "2022-05-11T18:47:18.660Z"
      },
      {
        "duration": 89,
        "start_time": "2022-05-11T18:47:18.698Z"
      },
      {
        "duration": 35,
        "start_time": "2022-05-11T18:47:18.789Z"
      },
      {
        "duration": 5,
        "start_time": "2022-05-11T18:47:18.826Z"
      },
      {
        "duration": 180,
        "start_time": "2022-05-11T18:47:18.833Z"
      },
      {
        "duration": 50,
        "start_time": "2022-05-11T18:47:19.015Z"
      },
      {
        "duration": 56,
        "start_time": "2022-05-11T18:47:19.067Z"
      },
      {
        "duration": 97,
        "start_time": "2022-05-11T18:47:19.127Z"
      },
      {
        "duration": 41,
        "start_time": "2022-05-11T18:47:19.229Z"
      },
      {
        "duration": 74,
        "start_time": "2022-05-11T18:47:19.271Z"
      },
      {
        "duration": 37,
        "start_time": "2022-05-11T18:47:19.347Z"
      },
      {
        "duration": 19,
        "start_time": "2022-05-11T18:47:19.386Z"
      },
      {
        "duration": 207,
        "start_time": "2022-05-11T18:47:19.428Z"
      },
      {
        "duration": 20,
        "start_time": "2022-05-11T18:47:19.641Z"
      },
      {
        "duration": 149,
        "start_time": "2022-05-11T18:47:19.663Z"
      },
      {
        "duration": 194,
        "start_time": "2022-05-11T18:47:19.814Z"
      },
      {
        "duration": 156,
        "start_time": "2022-05-11T18:47:20.010Z"
      },
      {
        "duration": 36,
        "start_time": "2022-05-11T18:47:20.168Z"
      },
      {
        "duration": 138,
        "start_time": "2022-05-11T18:47:20.206Z"
      },
      {
        "duration": 18,
        "start_time": "2022-05-11T18:47:20.346Z"
      },
      {
        "duration": 80,
        "start_time": "2022-05-11T18:47:20.366Z"
      },
      {
        "duration": 19,
        "start_time": "2022-05-11T18:47:20.448Z"
      },
      {
        "duration": 170,
        "start_time": "2022-05-11T18:47:20.468Z"
      },
      {
        "duration": 581,
        "start_time": "2022-05-11T18:47:20.640Z"
      },
      {
        "duration": 160,
        "start_time": "2022-05-11T18:47:21.223Z"
      },
      {
        "duration": 1674,
        "start_time": "2022-05-11T18:47:21.385Z"
      },
      {
        "duration": 29,
        "start_time": "2022-05-11T18:47:23.061Z"
      },
      {
        "duration": 5,
        "start_time": "2022-05-11T18:47:23.094Z"
      },
      {
        "duration": 3904,
        "start_time": "2022-05-11T18:47:23.100Z"
      },
      {
        "duration": 5,
        "start_time": "2022-05-11T18:47:27.006Z"
      },
      {
        "duration": 73,
        "start_time": "2022-05-11T18:47:27.012Z"
      },
      {
        "duration": 202,
        "start_time": "2022-05-11T18:47:27.087Z"
      },
      {
        "duration": 76,
        "start_time": "2022-05-11T18:47:27.293Z"
      },
      {
        "duration": 1921,
        "start_time": "2022-05-11T18:47:27.371Z"
      },
      {
        "duration": 148,
        "start_time": "2022-05-11T18:47:29.294Z"
      },
      {
        "duration": 148,
        "start_time": "2022-05-11T18:47:29.444Z"
      },
      {
        "duration": 43,
        "start_time": "2022-05-11T18:47:29.594Z"
      },
      {
        "duration": 11,
        "start_time": "2022-05-11T18:47:29.641Z"
      },
      {
        "duration": 83,
        "start_time": "2022-05-11T18:47:29.654Z"
      },
      {
        "duration": 53,
        "start_time": "2022-05-11T18:47:29.739Z"
      },
      {
        "duration": 4,
        "start_time": "2022-05-11T18:47:29.794Z"
      },
      {
        "duration": 7,
        "start_time": "2022-05-11T18:47:29.801Z"
      },
      {
        "duration": 8,
        "start_time": "2022-05-11T18:47:29.822Z"
      },
      {
        "duration": 1702,
        "start_time": "2022-05-11T18:47:29.832Z"
      },
      {
        "duration": 3,
        "start_time": "2022-05-11T18:47:31.537Z"
      },
      {
        "duration": 9,
        "start_time": "2022-05-11T18:47:31.542Z"
      },
      {
        "duration": 22360,
        "start_time": "2022-05-11T18:47:31.553Z"
      },
      {
        "duration": 3,
        "start_time": "2022-05-11T18:47:53.915Z"
      },
      {
        "duration": 606,
        "start_time": "2022-05-11T18:47:53.922Z"
      },
      {
        "duration": 5726,
        "start_time": "2022-05-11T18:47:54.533Z"
      },
      {
        "duration": 69685,
        "start_time": "2022-05-11T18:48:00.261Z"
      },
      {
        "duration": 400,
        "start_time": "2022-05-11T18:49:09.948Z"
      },
      {
        "duration": 190,
        "start_time": "2022-05-11T18:49:10.351Z"
      },
      {
        "duration": 154782,
        "start_time": "2022-05-11T18:49:10.543Z"
      },
      {
        "duration": 500,
        "start_time": "2022-05-11T18:51:45.327Z"
      },
      {
        "duration": 207,
        "start_time": "2022-05-11T18:51:45.831Z"
      },
      {
        "duration": 15,
        "start_time": "2022-05-11T18:51:46.039Z"
      },
      {
        "duration": 16,
        "start_time": "2022-05-11T18:51:46.057Z"
      },
      {
        "duration": 49,
        "start_time": "2022-05-11T18:51:46.075Z"
      },
      {
        "duration": 7,
        "start_time": "2022-05-11T18:51:46.126Z"
      },
      {
        "duration": 1053,
        "start_time": "2022-05-11T18:51:46.140Z"
      },
      {
        "duration": 9,
        "start_time": "2022-05-11T18:51:47.195Z"
      },
      {
        "duration": 105,
        "start_time": "2022-05-11T18:51:47.206Z"
      },
      {
        "duration": 9,
        "start_time": "2022-05-11T18:51:47.313Z"
      },
      {
        "duration": 14,
        "start_time": "2022-05-11T18:51:47.324Z"
      },
      {
        "duration": 288499,
        "start_time": "2022-05-11T18:51:47.340Z"
      },
      {
        "duration": 1096,
        "start_time": "2022-05-11T18:56:35.847Z"
      },
      {
        "duration": 396,
        "start_time": "2022-05-11T18:56:36.946Z"
      },
      {
        "duration": 4,
        "start_time": "2022-05-11T18:56:37.344Z"
      },
      {
        "duration": 289,
        "start_time": "2022-05-11T18:56:37.350Z"
      },
      {
        "duration": 984,
        "start_time": "2022-05-11T18:56:37.642Z"
      },
      {
        "duration": 328,
        "start_time": "2022-05-11T18:56:38.628Z"
      },
      {
        "duration": 220,
        "start_time": "2022-05-11T18:56:39.032Z"
      },
      {
        "duration": 6,
        "start_time": "2022-05-11T18:56:39.254Z"
      },
      {
        "duration": 425,
        "start_time": "2022-05-11T18:56:39.263Z"
      },
      {
        "duration": 4,
        "start_time": "2022-05-11T18:56:39.690Z"
      },
      {
        "duration": 90062,
        "start_time": "2022-05-11T18:56:39.695Z"
      },
      {
        "duration": 1396,
        "start_time": "2022-05-11T18:58:09.759Z"
      },
      {
        "duration": 504,
        "start_time": "2022-05-11T18:58:11.157Z"
      },
      {
        "duration": 4,
        "start_time": "2022-05-11T18:58:11.663Z"
      },
      {
        "duration": 90021,
        "start_time": "2022-05-11T18:58:11.669Z"
      },
      {
        "duration": 1052,
        "start_time": "2022-05-11T18:59:41.693Z"
      },
      {
        "duration": 403,
        "start_time": "2022-05-11T18:59:42.748Z"
      },
      {
        "duration": 5,
        "start_time": "2022-05-11T18:59:43.153Z"
      },
      {
        "duration": 94269,
        "start_time": "2022-05-11T18:59:43.159Z"
      },
      {
        "duration": 783,
        "start_time": "2022-05-11T19:01:17.433Z"
      },
      {
        "duration": 297,
        "start_time": "2022-05-11T19:01:18.223Z"
      },
      {
        "duration": 22,
        "start_time": "2022-05-11T19:01:18.522Z"
      },
      {
        "duration": 187,
        "start_time": "2022-05-11T19:01:18.547Z"
      },
      {
        "duration": 0,
        "start_time": "2022-05-11T19:01:18.739Z"
      },
      {
        "duration": 0,
        "start_time": "2022-05-11T19:01:18.748Z"
      },
      {
        "duration": 0,
        "start_time": "2022-05-11T19:01:18.750Z"
      },
      {
        "duration": 0,
        "start_time": "2022-05-11T19:01:18.752Z"
      },
      {
        "duration": 0,
        "start_time": "2022-05-11T19:01:18.754Z"
      },
      {
        "duration": 0,
        "start_time": "2022-05-11T19:01:18.755Z"
      },
      {
        "duration": 0,
        "start_time": "2022-05-11T19:01:18.757Z"
      },
      {
        "duration": 0,
        "start_time": "2022-05-11T19:01:18.760Z"
      },
      {
        "duration": 99,
        "start_time": "2022-05-11T19:03:22.039Z"
      },
      {
        "duration": 316,
        "start_time": "2022-05-11T19:03:22.517Z"
      },
      {
        "duration": 233,
        "start_time": "2022-05-11T19:03:23.108Z"
      },
      {
        "duration": 4,
        "start_time": "2022-05-11T19:04:36.676Z"
      },
      {
        "duration": 189,
        "start_time": "2022-05-11T19:04:37.299Z"
      },
      {
        "duration": 6,
        "start_time": "2022-05-11T19:05:25.005Z"
      },
      {
        "duration": 3,
        "start_time": "2022-05-11T19:09:17.910Z"
      },
      {
        "duration": 168,
        "start_time": "2022-05-11T19:09:23.628Z"
      },
      {
        "duration": 173,
        "start_time": "2022-05-11T19:09:40.078Z"
      },
      {
        "duration": 4,
        "start_time": "2022-05-11T19:10:14.860Z"
      },
      {
        "duration": 183,
        "start_time": "2022-05-11T19:10:16.005Z"
      },
      {
        "duration": 30,
        "start_time": "2022-05-11T19:10:22.989Z"
      },
      {
        "duration": 15,
        "start_time": "2022-05-11T19:10:23.509Z"
      },
      {
        "duration": 6,
        "start_time": "2022-05-11T19:10:24.091Z"
      },
      {
        "duration": 3,
        "start_time": "2022-05-11T19:10:24.596Z"
      },
      {
        "duration": 1935,
        "start_time": "2022-05-11T19:10:25.043Z"
      },
      {
        "duration": 10,
        "start_time": "2022-05-11T19:10:26.980Z"
      },
      {
        "duration": 95,
        "start_time": "2022-05-11T19:10:28.211Z"
      },
      {
        "duration": 4,
        "start_time": "2022-05-11T19:10:28.867Z"
      },
      {
        "duration": 3,
        "start_time": "2022-05-11T19:10:29.484Z"
      },
      {
        "duration": 5,
        "start_time": "2022-05-11T19:10:32.995Z"
      },
      {
        "duration": 3,
        "start_time": "2022-05-11T19:10:33.971Z"
      },
      {
        "duration": 2,
        "start_time": "2022-05-11T19:10:34.548Z"
      },
      {
        "duration": 3,
        "start_time": "2022-05-11T19:10:35.515Z"
      },
      {
        "duration": 10921,
        "start_time": "2022-05-11T19:10:36.603Z"
      },
      {
        "duration": 203,
        "start_time": "2022-05-11T19:11:08.391Z"
      },
      {
        "duration": 5944,
        "start_time": "2022-05-11T19:11:12.923Z"
      },
      {
        "duration": 1987,
        "start_time": "2022-05-11T19:11:18.869Z"
      },
      {
        "duration": 4,
        "start_time": "2022-05-11T19:11:43.949Z"
      },
      {
        "duration": 192,
        "start_time": "2022-05-11T19:11:44.852Z"
      },
      {
        "duration": 13,
        "start_time": "2022-05-11T19:11:51.666Z"
      },
      {
        "duration": 16,
        "start_time": "2022-05-11T19:11:52.077Z"
      },
      {
        "duration": 6,
        "start_time": "2022-05-11T19:11:52.466Z"
      },
      {
        "duration": 3,
        "start_time": "2022-05-11T19:11:52.827Z"
      },
      {
        "duration": 971,
        "start_time": "2022-05-11T19:11:53.254Z"
      },
      {
        "duration": 11,
        "start_time": "2022-05-11T19:11:54.227Z"
      },
      {
        "duration": 103,
        "start_time": "2022-05-11T19:11:54.387Z"
      },
      {
        "duration": 4,
        "start_time": "2022-05-11T19:11:54.740Z"
      },
      {
        "duration": 4,
        "start_time": "2022-05-11T19:11:55.098Z"
      },
      {
        "duration": 3,
        "start_time": "2022-05-11T19:11:55.466Z"
      },
      {
        "duration": 2,
        "start_time": "2022-05-11T19:11:55.860Z"
      },
      {
        "duration": 3,
        "start_time": "2022-05-11T19:11:56.291Z"
      },
      {
        "duration": 3,
        "start_time": "2022-05-11T19:11:57.372Z"
      },
      {
        "duration": 2044,
        "start_time": "2022-05-11T19:19:20.188Z"
      },
      {
        "duration": 855,
        "start_time": "2022-05-11T19:19:22.235Z"
      },
      {
        "duration": 155,
        "start_time": "2022-05-11T19:19:23.092Z"
      },
      {
        "duration": 17,
        "start_time": "2022-05-11T19:19:23.250Z"
      },
      {
        "duration": 122,
        "start_time": "2022-05-11T19:19:23.269Z"
      },
      {
        "duration": 984,
        "start_time": "2022-05-11T19:19:23.393Z"
      },
      {
        "duration": 319,
        "start_time": "2022-05-11T19:19:24.379Z"
      },
      {
        "duration": 96,
        "start_time": "2022-05-11T19:19:24.700Z"
      },
      {
        "duration": 4,
        "start_time": "2022-05-11T19:19:24.798Z"
      },
      {
        "duration": 58,
        "start_time": "2022-05-11T19:19:24.804Z"
      },
      {
        "duration": 360,
        "start_time": "2022-05-11T19:19:24.864Z"
      },
      {
        "duration": 163,
        "start_time": "2022-05-11T19:19:25.226Z"
      },
      {
        "duration": 8,
        "start_time": "2022-05-11T19:19:25.391Z"
      },
      {
        "duration": 30,
        "start_time": "2022-05-11T19:19:25.401Z"
      },
      {
        "duration": 192,
        "start_time": "2022-05-11T19:19:25.433Z"
      },
      {
        "duration": 33,
        "start_time": "2022-05-11T19:19:25.626Z"
      },
      {
        "duration": 92,
        "start_time": "2022-05-11T19:19:25.660Z"
      },
      {
        "duration": 25,
        "start_time": "2022-05-11T19:19:25.754Z"
      },
      {
        "duration": 5,
        "start_time": "2022-05-11T19:19:25.781Z"
      },
      {
        "duration": 162,
        "start_time": "2022-05-11T19:19:25.788Z"
      },
      {
        "duration": 40,
        "start_time": "2022-05-11T19:19:25.951Z"
      },
      {
        "duration": 60,
        "start_time": "2022-05-11T19:19:25.992Z"
      },
      {
        "duration": 93,
        "start_time": "2022-05-11T19:19:26.054Z"
      },
      {
        "duration": 37,
        "start_time": "2022-05-11T19:19:26.148Z"
      },
      {
        "duration": 59,
        "start_time": "2022-05-11T19:19:26.187Z"
      },
      {
        "duration": 36,
        "start_time": "2022-05-11T19:19:26.248Z"
      },
      {
        "duration": 37,
        "start_time": "2022-05-11T19:19:26.286Z"
      },
      {
        "duration": 226,
        "start_time": "2022-05-11T19:19:26.330Z"
      },
      {
        "duration": 30,
        "start_time": "2022-05-11T19:19:26.559Z"
      },
      {
        "duration": 250,
        "start_time": "2022-05-11T19:19:26.591Z"
      },
      {
        "duration": 167,
        "start_time": "2022-05-11T19:19:26.843Z"
      },
      {
        "duration": 137,
        "start_time": "2022-05-11T19:19:27.012Z"
      },
      {
        "duration": 37,
        "start_time": "2022-05-11T19:19:27.151Z"
      },
      {
        "duration": 128,
        "start_time": "2022-05-11T19:19:27.190Z"
      },
      {
        "duration": 17,
        "start_time": "2022-05-11T19:19:27.322Z"
      },
      {
        "duration": 62,
        "start_time": "2022-05-11T19:19:27.341Z"
      },
      {
        "duration": 26,
        "start_time": "2022-05-11T19:19:27.404Z"
      },
      {
        "duration": 153,
        "start_time": "2022-05-11T19:19:27.432Z"
      },
      {
        "duration": 465,
        "start_time": "2022-05-11T19:19:27.587Z"
      },
      {
        "duration": 142,
        "start_time": "2022-05-11T19:19:28.054Z"
      },
      {
        "duration": 1659,
        "start_time": "2022-05-11T19:19:28.197Z"
      },
      {
        "duration": 28,
        "start_time": "2022-05-11T19:19:29.858Z"
      },
      {
        "duration": 3,
        "start_time": "2022-05-11T19:19:29.888Z"
      },
      {
        "duration": 3570,
        "start_time": "2022-05-11T19:19:29.892Z"
      },
      {
        "duration": 5,
        "start_time": "2022-05-11T19:19:33.463Z"
      },
      {
        "duration": 77,
        "start_time": "2022-05-11T19:19:33.470Z"
      },
      {
        "duration": 188,
        "start_time": "2022-05-11T19:19:33.548Z"
      },
      {
        "duration": 68,
        "start_time": "2022-05-11T19:19:33.738Z"
      },
      {
        "duration": 1516,
        "start_time": "2022-05-11T19:19:33.808Z"
      },
      {
        "duration": 135,
        "start_time": "2022-05-11T19:19:35.326Z"
      },
      {
        "duration": 145,
        "start_time": "2022-05-11T19:19:35.463Z"
      },
      {
        "duration": 38,
        "start_time": "2022-05-11T19:19:35.610Z"
      },
      {
        "duration": 12,
        "start_time": "2022-05-11T19:19:35.649Z"
      },
      {
        "duration": 92,
        "start_time": "2022-05-11T19:19:35.664Z"
      },
      {
        "duration": 55,
        "start_time": "2022-05-11T19:19:35.758Z"
      },
      {
        "duration": 3,
        "start_time": "2022-05-11T19:19:35.822Z"
      },
      {
        "duration": 7,
        "start_time": "2022-05-11T19:19:35.827Z"
      },
      {
        "duration": 3,
        "start_time": "2022-05-11T19:19:35.836Z"
      },
      {
        "duration": 1646,
        "start_time": "2022-05-11T19:19:35.842Z"
      },
      {
        "duration": 3,
        "start_time": "2022-05-11T19:19:37.490Z"
      },
      {
        "duration": 21,
        "start_time": "2022-05-11T19:19:37.495Z"
      },
      {
        "duration": 21906,
        "start_time": "2022-05-11T19:19:37.518Z"
      },
      {
        "duration": 3,
        "start_time": "2022-05-11T19:19:59.426Z"
      },
      {
        "duration": 592,
        "start_time": "2022-05-11T19:19:59.431Z"
      },
      {
        "duration": 5615,
        "start_time": "2022-05-11T19:20:00.025Z"
      },
      {
        "duration": 72603,
        "start_time": "2022-05-11T19:20:05.642Z"
      },
      {
        "duration": 387,
        "start_time": "2022-05-11T19:21:18.248Z"
      },
      {
        "duration": 189,
        "start_time": "2022-05-11T19:21:18.638Z"
      },
      {
        "duration": 159218,
        "start_time": "2022-05-11T19:21:18.830Z"
      },
      {
        "duration": 483,
        "start_time": "2022-05-11T19:23:58.050Z"
      },
      {
        "duration": 215,
        "start_time": "2022-05-11T19:23:58.535Z"
      },
      {
        "duration": 70,
        "start_time": "2022-05-11T19:23:58.752Z"
      },
      {
        "duration": 16,
        "start_time": "2022-05-11T19:23:58.825Z"
      },
      {
        "duration": 5,
        "start_time": "2022-05-11T19:23:58.843Z"
      },
      {
        "duration": 4,
        "start_time": "2022-05-11T19:23:58.850Z"
      },
      {
        "duration": 1803,
        "start_time": "2022-05-11T19:23:58.855Z"
      },
      {
        "duration": 13,
        "start_time": "2022-05-11T19:24:00.660Z"
      },
      {
        "duration": 146,
        "start_time": "2022-05-11T19:24:00.676Z"
      },
      {
        "duration": 4,
        "start_time": "2022-05-11T19:24:00.824Z"
      },
      {
        "duration": 19,
        "start_time": "2022-05-11T19:24:00.830Z"
      },
      {
        "duration": 13,
        "start_time": "2022-05-11T19:24:00.851Z"
      },
      {
        "duration": 23,
        "start_time": "2022-05-11T19:24:00.870Z"
      },
      {
        "duration": 18,
        "start_time": "2022-05-11T19:24:00.895Z"
      },
      {
        "duration": 21,
        "start_time": "2022-05-11T19:24:00.915Z"
      },
      {
        "duration": 246589,
        "start_time": "2022-05-11T19:24:00.939Z"
      },
      {
        "duration": 4604,
        "start_time": "2022-05-11T19:28:07.530Z"
      },
      {
        "duration": 1588,
        "start_time": "2022-05-11T19:28:12.136Z"
      },
      {
        "duration": 149,
        "start_time": "2022-05-11T19:28:13.726Z"
      },
      {
        "duration": 4,
        "start_time": "2022-05-11T19:28:13.877Z"
      },
      {
        "duration": 380,
        "start_time": "2022-05-11T19:28:13.883Z"
      },
      {
        "duration": 3,
        "start_time": "2022-05-11T19:28:14.265Z"
      },
      {
        "duration": 77505,
        "start_time": "2022-05-11T19:28:14.270Z"
      },
      {
        "duration": 1212,
        "start_time": "2022-05-11T19:29:31.777Z"
      },
      {
        "duration": 432,
        "start_time": "2022-05-11T19:29:32.991Z"
      },
      {
        "duration": 3,
        "start_time": "2022-05-11T19:29:33.425Z"
      },
      {
        "duration": 73637,
        "start_time": "2022-05-11T19:29:33.430Z"
      },
      {
        "duration": 647,
        "start_time": "2022-05-11T19:30:47.068Z"
      },
      {
        "duration": 237,
        "start_time": "2022-05-11T19:30:47.716Z"
      },
      {
        "duration": 4,
        "start_time": "2022-05-11T19:30:47.955Z"
      },
      {
        "duration": 75975,
        "start_time": "2022-05-11T19:30:47.960Z"
      },
      {
        "duration": 688,
        "start_time": "2022-05-11T19:32:03.937Z"
      },
      {
        "duration": 231,
        "start_time": "2022-05-11T19:32:04.626Z"
      },
      {
        "duration": 169,
        "start_time": "2022-05-11T19:32:04.859Z"
      },
      {
        "duration": 1594,
        "start_time": "2022-05-11T19:32:05.030Z"
      },
      {
        "duration": 247,
        "start_time": "2022-05-11T19:32:06.626Z"
      },
      {
        "duration": 3025,
        "start_time": "2022-05-12T12:15:29.792Z"
      },
      {
        "duration": 1177,
        "start_time": "2022-05-12T12:15:32.820Z"
      },
      {
        "duration": 191,
        "start_time": "2022-05-12T12:15:33.999Z"
      },
      {
        "duration": 35,
        "start_time": "2022-05-12T12:15:34.192Z"
      },
      {
        "duration": 149,
        "start_time": "2022-05-12T12:15:34.231Z"
      },
      {
        "duration": 1886,
        "start_time": "2022-05-12T12:15:34.384Z"
      },
      {
        "duration": 406,
        "start_time": "2022-05-12T12:15:36.273Z"
      },
      {
        "duration": 143,
        "start_time": "2022-05-12T12:15:36.682Z"
      },
      {
        "duration": 6,
        "start_time": "2022-05-12T12:15:36.828Z"
      },
      {
        "duration": 99,
        "start_time": "2022-05-12T12:15:36.836Z"
      },
      {
        "duration": 569,
        "start_time": "2022-05-12T12:15:36.937Z"
      },
      {
        "duration": 238,
        "start_time": "2022-05-12T12:15:37.509Z"
      },
      {
        "duration": 12,
        "start_time": "2022-05-12T12:15:37.749Z"
      },
      {
        "duration": 26,
        "start_time": "2022-05-12T12:15:37.767Z"
      },
      {
        "duration": 323,
        "start_time": "2022-05-12T12:15:37.795Z"
      },
      {
        "duration": 63,
        "start_time": "2022-05-12T12:15:38.125Z"
      },
      {
        "duration": 107,
        "start_time": "2022-05-12T12:15:38.190Z"
      },
      {
        "duration": 51,
        "start_time": "2022-05-12T12:15:38.299Z"
      },
      {
        "duration": 8,
        "start_time": "2022-05-12T12:15:38.352Z"
      },
      {
        "duration": 400,
        "start_time": "2022-05-12T12:15:38.364Z"
      },
      {
        "duration": 103,
        "start_time": "2022-05-12T12:15:38.767Z"
      },
      {
        "duration": 115,
        "start_time": "2022-05-12T12:15:38.873Z"
      },
      {
        "duration": 165,
        "start_time": "2022-05-12T12:15:38.991Z"
      },
      {
        "duration": 47,
        "start_time": "2022-05-12T12:15:39.159Z"
      },
      {
        "duration": 80,
        "start_time": "2022-05-12T12:15:39.225Z"
      },
      {
        "duration": 49,
        "start_time": "2022-05-12T12:15:39.308Z"
      },
      {
        "duration": 22,
        "start_time": "2022-05-12T12:15:39.359Z"
      },
      {
        "duration": 208,
        "start_time": "2022-05-12T12:15:39.385Z"
      },
      {
        "duration": 32,
        "start_time": "2022-05-12T12:15:39.595Z"
      },
      {
        "duration": 199,
        "start_time": "2022-05-12T12:15:39.633Z"
      },
      {
        "duration": 277,
        "start_time": "2022-05-12T12:15:39.834Z"
      },
      {
        "duration": 164,
        "start_time": "2022-05-12T12:15:40.113Z"
      },
      {
        "duration": 59,
        "start_time": "2022-05-12T12:15:40.280Z"
      },
      {
        "duration": 305,
        "start_time": "2022-05-12T12:15:40.341Z"
      },
      {
        "duration": 38,
        "start_time": "2022-05-12T12:15:40.649Z"
      },
      {
        "duration": 153,
        "start_time": "2022-05-12T12:15:40.690Z"
      },
      {
        "duration": 35,
        "start_time": "2022-05-12T12:15:40.846Z"
      },
      {
        "duration": 320,
        "start_time": "2022-05-12T12:15:40.885Z"
      },
      {
        "duration": 1122,
        "start_time": "2022-05-12T12:15:41.208Z"
      },
      {
        "duration": 333,
        "start_time": "2022-05-12T12:15:42.333Z"
      },
      {
        "duration": 2046,
        "start_time": "2022-05-12T12:15:42.681Z"
      },
      {
        "duration": 46,
        "start_time": "2022-05-12T12:15:44.729Z"
      },
      {
        "duration": 5,
        "start_time": "2022-05-12T12:15:44.778Z"
      },
      {
        "duration": 5605,
        "start_time": "2022-05-12T12:15:44.786Z"
      },
      {
        "duration": 7,
        "start_time": "2022-05-12T12:15:50.394Z"
      },
      {
        "duration": 150,
        "start_time": "2022-05-12T12:15:50.404Z"
      },
      {
        "duration": 275,
        "start_time": "2022-05-12T12:15:50.559Z"
      },
      {
        "duration": 149,
        "start_time": "2022-05-12T12:15:50.836Z"
      },
      {
        "duration": 2242,
        "start_time": "2022-05-12T12:15:50.988Z"
      },
      {
        "duration": 184,
        "start_time": "2022-05-12T12:15:53.233Z"
      },
      {
        "duration": 187,
        "start_time": "2022-05-12T12:15:53.420Z"
      },
      {
        "duration": 54,
        "start_time": "2022-05-12T12:15:53.609Z"
      },
      {
        "duration": 16,
        "start_time": "2022-05-12T12:15:53.666Z"
      },
      {
        "duration": 258,
        "start_time": "2022-05-12T12:15:53.685Z"
      },
      {
        "duration": 177,
        "start_time": "2022-05-12T12:15:53.947Z"
      },
      {
        "duration": 6,
        "start_time": "2022-05-12T12:15:54.128Z"
      },
      {
        "duration": 12,
        "start_time": "2022-05-12T12:15:54.137Z"
      },
      {
        "duration": 10,
        "start_time": "2022-05-12T12:15:54.152Z"
      },
      {
        "duration": 3314,
        "start_time": "2022-05-12T12:15:54.165Z"
      },
      {
        "duration": 6,
        "start_time": "2022-05-12T12:15:57.482Z"
      },
      {
        "duration": 10,
        "start_time": "2022-05-12T12:15:57.491Z"
      },
      {
        "duration": 28242,
        "start_time": "2022-05-12T12:15:57.504Z"
      },
      {
        "duration": 5,
        "start_time": "2022-05-12T12:16:25.749Z"
      },
      {
        "duration": 987,
        "start_time": "2022-05-12T12:16:25.757Z"
      },
      {
        "duration": 7521,
        "start_time": "2022-05-12T12:16:26.747Z"
      },
      {
        "duration": 106682,
        "start_time": "2022-05-12T12:16:34.271Z"
      },
      {
        "duration": 870,
        "start_time": "2022-05-12T12:18:20.956Z"
      },
      {
        "duration": 305,
        "start_time": "2022-05-12T12:18:21.830Z"
      },
      {
        "duration": 226121,
        "start_time": "2022-05-12T12:18:22.139Z"
      },
      {
        "duration": 1106,
        "start_time": "2022-05-12T12:22:08.324Z"
      },
      {
        "duration": 402,
        "start_time": "2022-05-12T12:22:09.433Z"
      },
      {
        "duration": 20,
        "start_time": "2022-05-12T12:22:09.838Z"
      },
      {
        "duration": 74,
        "start_time": "2022-05-12T12:22:09.861Z"
      },
      {
        "duration": 8,
        "start_time": "2022-05-12T12:22:09.938Z"
      },
      {
        "duration": 8,
        "start_time": "2022-05-12T12:22:09.949Z"
      },
      {
        "duration": 1688,
        "start_time": "2022-05-12T12:22:09.960Z"
      },
      {
        "duration": 13,
        "start_time": "2022-05-12T12:22:11.651Z"
      },
      {
        "duration": 146,
        "start_time": "2022-05-12T12:22:11.667Z"
      },
      {
        "duration": 9,
        "start_time": "2022-05-12T12:22:11.816Z"
      },
      {
        "duration": 6,
        "start_time": "2022-05-12T12:22:11.828Z"
      },
      {
        "duration": 12,
        "start_time": "2022-05-12T12:22:11.837Z"
      },
      {
        "duration": 8,
        "start_time": "2022-05-12T12:22:11.852Z"
      },
      {
        "duration": 9,
        "start_time": "2022-05-12T12:22:11.862Z"
      },
      {
        "duration": 12,
        "start_time": "2022-05-12T12:22:11.875Z"
      },
      {
        "duration": 922047,
        "start_time": "2022-05-12T12:22:11.890Z"
      },
      {
        "duration": 8329,
        "start_time": "2022-05-12T12:37:34.024Z"
      },
      {
        "duration": 2806,
        "start_time": "2022-05-12T12:37:42.425Z"
      },
      {
        "duration": 341,
        "start_time": "2022-05-12T12:37:45.233Z"
      },
      {
        "duration": 6,
        "start_time": "2022-05-12T12:37:45.578Z"
      },
      {
        "duration": 540,
        "start_time": "2022-05-12T12:37:45.587Z"
      },
      {
        "duration": 10,
        "start_time": "2022-05-12T12:37:46.130Z"
      },
      {
        "duration": 186421,
        "start_time": "2022-05-12T12:37:46.142Z"
      },
      {
        "duration": 1579,
        "start_time": "2022-05-12T12:40:52.565Z"
      },
      {
        "duration": 565,
        "start_time": "2022-05-12T12:40:54.146Z"
      },
      {
        "duration": 13,
        "start_time": "2022-05-12T12:40:54.713Z"
      },
      {
        "duration": 178646,
        "start_time": "2022-05-12T12:40:54.729Z"
      },
      {
        "duration": 959,
        "start_time": "2022-05-12T12:43:53.377Z"
      },
      {
        "duration": 338,
        "start_time": "2022-05-12T12:43:54.338Z"
      },
      {
        "duration": 356,
        "start_time": "2022-05-12T12:43:54.678Z"
      },
      {
        "duration": 2821,
        "start_time": "2022-05-12T12:43:55.036Z"
      },
      {
        "duration": 338,
        "start_time": "2022-05-12T12:43:57.926Z"
      },
      {
        "duration": 242,
        "start_time": "2022-05-13T12:56:19.812Z"
      },
      {
        "duration": 2859,
        "start_time": "2022-05-13T12:57:31.139Z"
      },
      {
        "duration": 1191,
        "start_time": "2022-05-13T12:57:34.002Z"
      },
      {
        "duration": 181,
        "start_time": "2022-05-13T12:57:35.195Z"
      },
      {
        "duration": 27,
        "start_time": "2022-05-13T12:57:35.392Z"
      },
      {
        "duration": 148,
        "start_time": "2022-05-13T12:57:35.422Z"
      },
      {
        "duration": 1298,
        "start_time": "2022-05-13T12:57:35.572Z"
      },
      {
        "duration": 546,
        "start_time": "2022-05-13T12:57:36.873Z"
      },
      {
        "duration": 140,
        "start_time": "2022-05-13T12:57:37.421Z"
      },
      {
        "duration": 6,
        "start_time": "2022-05-13T12:57:37.563Z"
      },
      {
        "duration": 88,
        "start_time": "2022-05-13T12:57:37.574Z"
      },
      {
        "duration": 579,
        "start_time": "2022-05-13T12:57:37.664Z"
      },
      {
        "duration": 316,
        "start_time": "2022-05-13T12:57:38.246Z"
      },
      {
        "duration": 30,
        "start_time": "2022-05-13T12:57:38.565Z"
      },
      {
        "duration": 33,
        "start_time": "2022-05-13T12:57:38.597Z"
      },
      {
        "duration": 306,
        "start_time": "2022-05-13T12:57:38.633Z"
      },
      {
        "duration": 78,
        "start_time": "2022-05-13T12:57:38.941Z"
      },
      {
        "duration": 95,
        "start_time": "2022-05-13T12:57:39.021Z"
      },
      {
        "duration": 49,
        "start_time": "2022-05-13T12:57:39.119Z"
      },
      {
        "duration": 29,
        "start_time": "2022-05-13T12:57:39.171Z"
      },
      {
        "duration": 237,
        "start_time": "2022-05-13T12:57:39.203Z"
      },
      {
        "duration": 63,
        "start_time": "2022-05-13T12:57:39.443Z"
      },
      {
        "duration": 64,
        "start_time": "2022-05-13T12:57:39.508Z"
      },
      {
        "duration": 141,
        "start_time": "2022-05-13T12:57:39.574Z"
      },
      {
        "duration": 78,
        "start_time": "2022-05-13T12:57:39.717Z"
      },
      {
        "duration": 108,
        "start_time": "2022-05-13T12:57:39.797Z"
      },
      {
        "duration": 53,
        "start_time": "2022-05-13T12:57:39.908Z"
      },
      {
        "duration": 42,
        "start_time": "2022-05-13T12:57:39.964Z"
      },
      {
        "duration": 219,
        "start_time": "2022-05-13T12:57:40.015Z"
      },
      {
        "duration": 30,
        "start_time": "2022-05-13T12:57:40.239Z"
      },
      {
        "duration": 300,
        "start_time": "2022-05-13T12:57:40.272Z"
      },
      {
        "duration": 291,
        "start_time": "2022-05-13T12:57:40.575Z"
      },
      {
        "duration": 190,
        "start_time": "2022-05-13T12:57:40.869Z"
      },
      {
        "duration": 54,
        "start_time": "2022-05-13T12:57:41.062Z"
      },
      {
        "duration": 280,
        "start_time": "2022-05-13T12:57:41.118Z"
      },
      {
        "duration": 35,
        "start_time": "2022-05-13T12:57:41.400Z"
      },
      {
        "duration": 1208,
        "start_time": "2022-05-13T12:57:41.438Z"
      },
      {
        "duration": 43,
        "start_time": "2022-05-13T12:57:42.649Z"
      },
      {
        "duration": 187,
        "start_time": "2022-05-13T12:57:42.695Z"
      },
      {
        "duration": 787,
        "start_time": "2022-05-13T12:57:42.892Z"
      },
      {
        "duration": 174,
        "start_time": "2022-05-13T12:57:43.681Z"
      },
      {
        "duration": 2307,
        "start_time": "2022-05-13T12:57:43.857Z"
      },
      {
        "duration": 56,
        "start_time": "2022-05-13T12:57:46.166Z"
      },
      {
        "duration": 5,
        "start_time": "2022-05-13T12:57:46.224Z"
      },
      {
        "duration": 5589,
        "start_time": "2022-05-13T12:57:46.231Z"
      },
      {
        "duration": 7,
        "start_time": "2022-05-13T12:57:51.822Z"
      },
      {
        "duration": 135,
        "start_time": "2022-05-13T12:57:51.831Z"
      },
      {
        "duration": 264,
        "start_time": "2022-05-13T12:57:51.969Z"
      },
      {
        "duration": 137,
        "start_time": "2022-05-13T12:57:52.235Z"
      },
      {
        "duration": 1973,
        "start_time": "2022-05-13T12:57:52.375Z"
      },
      {
        "duration": 162,
        "start_time": "2022-05-13T12:57:54.350Z"
      },
      {
        "duration": 175,
        "start_time": "2022-05-13T12:57:54.515Z"
      },
      {
        "duration": 44,
        "start_time": "2022-05-13T12:57:54.694Z"
      },
      {
        "duration": 16,
        "start_time": "2022-05-13T12:57:54.740Z"
      },
      {
        "duration": 174,
        "start_time": "2022-05-13T12:57:54.758Z"
      },
      {
        "duration": 140,
        "start_time": "2022-05-13T12:57:54.934Z"
      },
      {
        "duration": 5,
        "start_time": "2022-05-13T12:57:55.077Z"
      },
      {
        "duration": 19,
        "start_time": "2022-05-13T12:57:55.093Z"
      },
      {
        "duration": 12,
        "start_time": "2022-05-13T12:57:55.114Z"
      },
      {
        "duration": 2464,
        "start_time": "2022-05-13T12:57:55.129Z"
      },
      {
        "duration": 4,
        "start_time": "2022-05-13T12:57:57.595Z"
      },
      {
        "duration": 7,
        "start_time": "2022-05-13T12:57:57.602Z"
      },
      {
        "duration": 29642,
        "start_time": "2022-05-13T12:57:57.611Z"
      },
      {
        "duration": 4,
        "start_time": "2022-05-13T12:58:27.255Z"
      },
      {
        "duration": 778,
        "start_time": "2022-05-13T12:58:27.261Z"
      },
      {
        "duration": 7652,
        "start_time": "2022-05-13T12:58:28.041Z"
      },
      {
        "duration": 103737,
        "start_time": "2022-05-13T12:58:35.695Z"
      },
      {
        "duration": 868,
        "start_time": "2022-05-13T13:00:19.435Z"
      },
      {
        "duration": 323,
        "start_time": "2022-05-13T13:00:20.307Z"
      },
      {
        "duration": 232588,
        "start_time": "2022-05-13T13:00:20.632Z"
      },
      {
        "duration": 1070,
        "start_time": "2022-05-13T13:04:13.223Z"
      },
      {
        "duration": 315,
        "start_time": "2022-05-13T13:04:14.295Z"
      },
      {
        "duration": 88,
        "start_time": "2022-05-13T13:04:14.612Z"
      },
      {
        "duration": 15,
        "start_time": "2022-05-13T13:04:14.703Z"
      },
      {
        "duration": 8,
        "start_time": "2022-05-13T13:04:14.720Z"
      },
      {
        "duration": 13,
        "start_time": "2022-05-13T13:04:14.730Z"
      },
      {
        "duration": 1671,
        "start_time": "2022-05-13T13:04:14.745Z"
      },
      {
        "duration": 18,
        "start_time": "2022-05-13T13:04:16.418Z"
      },
      {
        "duration": 129,
        "start_time": "2022-05-13T13:04:16.438Z"
      },
      {
        "duration": 4,
        "start_time": "2022-05-13T13:04:16.569Z"
      },
      {
        "duration": 19,
        "start_time": "2022-05-13T13:04:16.575Z"
      },
      {
        "duration": 8,
        "start_time": "2022-05-13T13:04:16.597Z"
      },
      {
        "duration": 3,
        "start_time": "2022-05-13T13:04:16.614Z"
      },
      {
        "duration": 12,
        "start_time": "2022-05-13T13:04:16.620Z"
      },
      {
        "duration": 8,
        "start_time": "2022-05-13T13:04:16.634Z"
      },
      {
        "duration": 207554,
        "start_time": "2022-05-13T13:04:16.644Z"
      },
      {
        "duration": 7526,
        "start_time": "2022-05-13T13:07:44.201Z"
      },
      {
        "duration": 2599,
        "start_time": "2022-05-13T13:07:51.729Z"
      },
      {
        "duration": 356,
        "start_time": "2022-05-13T13:07:54.331Z"
      },
      {
        "duration": 7,
        "start_time": "2022-05-13T13:07:54.689Z"
      },
      {
        "duration": 543,
        "start_time": "2022-05-13T13:07:54.697Z"
      },
      {
        "duration": 4,
        "start_time": "2022-05-13T13:07:55.242Z"
      },
      {
        "duration": 183098,
        "start_time": "2022-05-13T13:07:55.249Z"
      },
      {
        "duration": 1658,
        "start_time": "2022-05-13T13:10:58.350Z"
      },
      {
        "duration": 539,
        "start_time": "2022-05-13T13:11:00.011Z"
      },
      {
        "duration": 5,
        "start_time": "2022-05-13T13:11:00.552Z"
      },
      {
        "duration": 169309,
        "start_time": "2022-05-13T13:11:00.559Z"
      },
      {
        "duration": 1059,
        "start_time": "2022-05-13T13:13:49.870Z"
      },
      {
        "duration": 347,
        "start_time": "2022-05-13T13:13:50.931Z"
      },
      {
        "duration": 26,
        "start_time": "2022-05-13T13:13:51.281Z"
      },
      {
        "duration": 2736,
        "start_time": "2022-05-13T13:13:51.312Z"
      },
      {
        "duration": 384,
        "start_time": "2022-05-13T13:13:54.050Z"
      },
      {
        "duration": 14,
        "start_time": "2022-05-13T13:15:58.175Z"
      },
      {
        "duration": 2680,
        "start_time": "2022-05-13T13:16:01.067Z"
      },
      {
        "duration": 368,
        "start_time": "2022-05-13T13:16:06.883Z"
      },
      {
        "duration": 2626,
        "start_time": "2022-05-13T13:16:57.831Z"
      },
      {
        "duration": 112,
        "start_time": "2022-05-13T22:56:49.130Z"
      }
    ],
    "kernelspec": {
      "display_name": "Python 3 (ipykernel)",
      "language": "python",
      "name": "python3"
    },
    "language_info": {
      "codemirror_mode": {
        "name": "ipython",
        "version": 3
      },
      "file_extension": ".py",
      "mimetype": "text/x-python",
      "name": "python",
      "nbconvert_exporter": "python",
      "pygments_lexer": "ipython3",
      "version": "3.9.5"
    },
    "toc": {
      "base_numbering": 1,
      "nav_menu": {},
      "number_sections": true,
      "sideBar": true,
      "skip_h1_title": true,
      "title_cell": "Table of Contents",
      "title_sidebar": "Contents",
      "toc_cell": false,
      "toc_position": {},
      "toc_section_display": true,
      "toc_window_display": true
    },
    "colab": {
      "provenance": []
    }
  },
  "nbformat": 4,
  "nbformat_minor": 0
}